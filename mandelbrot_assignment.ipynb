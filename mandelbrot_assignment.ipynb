{
 "cells": [
  {
   "cell_type": "code",
   "execution_count": 15,
   "metadata": {},
   "outputs": [
    {
     "data": {
      "text/plain": [
       "(1.2900434811574395+0.0709911335572209j)"
      ]
     },
     "execution_count": 15,
     "metadata": {},
     "output_type": "execute_result"
    }
   ],
   "source": [
    "\"\"\"\n",
    "imaginary numbers are builtin in python and indicated by 'j'\n",
    "\"\"\"\n",
    "import random\n",
    "\n",
    "#output: imaginary number\n",
    "#issue: no negative numbers\n",
    "def generate_complex_number():\n",
    "    real = 2*random.random()\n",
    "    imaginary = 1j*((2 - real) * random.random())\n",
    "    imaginary_number = real + imaginary\n",
    "    return imaginary_number\n",
    "\n",
    "#output: appends numbers to either inside or outside mandelbrot set list\n",
    "def split_mandelbrot(iterations):\n",
    "    #use while Fc < 2:\n",
    "    if:\n",
    "        mandelbrot_set[1].append()\n",
    "    else:\n",
    "        mandelbrot_set[0].append()\n",
    "    \n",
    "def plot(mandelbrot_set):\n",
    "    dkjbckjbc\n",
    "\n",
    "#output: list of mandelbrot numbers and non mandelbrot set numbers\n",
    "def do_multiple_samples():\n",
    "    mandelbrot_set = [[],[]] #complex numbers outside mandelbrot set in [0] and in mandelbrot set in [1]\n",
    "    split_mandelbrot\n",
    "\n",
    "# RATIO = fixed iterations/samples\n",
    "# output: matrix with\n",
    "# dimension 1: runs\n",
    "# dimension 2: sample size, numbers outside mandelbrot set, numbers inside mandelbrot set\n",
    "def run_multiple_sample_sizes(sample_sizes, RATIO):\n",
    "    \n",
    "def main():\n",
    "    run_multiple_sample_sizes"
   ]
  }
 ],
 "metadata": {
  "kernelspec": {
   "display_name": "Python 2",
   "language": "python",
   "name": "python2"
  },
  "language_info": {
   "codemirror_mode": {
    "name": "ipython",
    "version": 2
   },
   "file_extension": ".py",
   "mimetype": "text/x-python",
   "name": "python",
   "nbconvert_exporter": "python",
   "pygments_lexer": "ipython2",
   "version": "2.7.15"
  }
 },
 "nbformat": 4,
 "nbformat_minor": 2
}
