{
 "cells": [
  {
   "cell_type": "code",
   "execution_count": 3,
   "metadata": {},
   "outputs": [
    {
     "data": {
      "text/plain": [
       "(2+0j)"
      ]
     },
     "execution_count": 3,
     "metadata": {},
     "output_type": "execute_result"
    }
   ],
   "source": [
    "# imaginary numbers are builtin in python and indicated by 'j'\n",
    "3 + 1j**2"
   ]
  },
  {
   "cell_type": "code",
   "execution_count": 4,
   "metadata": {},
   "outputs": [],
   "source": [
    "import random"
   ]
  },
  {
   "cell_type": "code",
   "execution_count": 5,
   "metadata": {},
   "outputs": [
    {
     "name": "stdout",
     "output_type": "stream",
     "text": [
      "(4+4j)\n"
     ]
    }
   ],
   "source": [
    "constant = 4j\n",
    "print 4 + constant"
   ]
  },
  {
   "cell_type": "code",
   "execution_count": 15,
   "metadata": {},
   "outputs": [
    {
     "data": {
      "text/plain": [
       "(1.2900434811574395+0.0709911335572209j)"
      ]
     },
     "execution_count": 15,
     "metadata": {},
     "output_type": "execute_result"
    }
   ],
   "source": [
    "#issue: no negative numbers\n",
    "def generate_complex_number():\n",
    "    real = 2*random.random()\n",
    "    imaginary = 1j*((2 - real) * random.random())\n",
    "    imaginary_number = real + imaginary\n",
    "    return imaginary_number\n",
    "\n",
    "def check_in_mandelbrot(iterations):\n",
    "    nwcwc\n",
    "    \n",
    "def plot():\n",
    "    dkjbckjbc\n",
    "    \n",
    "def do_multiple_samples():\n",
    "    wjehbfjk\n",
    "\n",
    "def run_multiple_sample_sizes():\n",
    "    jkbsbksks\n",
    "\n",
    "def main():\n",
    "    jhgjgg\n",
    "\n",
    "generate_complex_number()"
   ]
  },
  {
   "cell_type": "code",
   "execution_count": null,
   "metadata": {},
   "outputs": [],
   "source": []
  }
 ],
 "metadata": {
  "kernelspec": {
   "display_name": "Python 2",
   "language": "python",
   "name": "python2"
  },
  "language_info": {
   "codemirror_mode": {
    "name": "ipython",
    "version": 2
   },
   "file_extension": ".py",
   "mimetype": "text/x-python",
   "name": "python",
   "nbconvert_exporter": "python",
   "pygments_lexer": "ipython2",
   "version": "2.7.15"
  }
 },
 "nbformat": 4,
 "nbformat_minor": 2
}
