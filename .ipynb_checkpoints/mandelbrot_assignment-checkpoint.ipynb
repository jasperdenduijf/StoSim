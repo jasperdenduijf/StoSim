{
 "cells": [
  {
   "cell_type": "code",
   "execution_count": 11,
   "metadata": {},
   "outputs": [],
   "source": [
    "\"\"\"\n",
    "imaginary numbers are builtin in python and indicated by 'j'\n",
    "\"\"\"\n",
    "import random\n",
    "\n",
    "#output: list of sample sizes\n",
    "def generate_sample_sizes(amount, start, ratio):\n",
    "    sample_sizes = [start]\n",
    "    number = start\n",
    "    for step in range(amount - 1): \n",
    "        sample_sizes.append(number * ratio)\n",
    "        number = number * ratio\n",
    "    return sample_sizes\n",
    "\n",
    "#output: imaginary number\n",
    "#issue: no negative numbers\n",
    "def generate_complex_number():\n",
    "    real = 2*random.random()\n",
    "    imaginary = 1j*((2 - real) * random.random())\n",
    "    imaginary_number = real + imaginary\n",
    "    return imaginary_number\n",
    "\n",
    "#output: the imaginary number and the amount of iterations until z > 2. \n",
    "    #if number in mandelbrot set, iterations will be equal to max iterations\n",
    "#output: appends numbers to either inside or outside mandelbrot set list\n",
    "# real part must be 2 or higher\n",
    "def determine_if_mandelbrot(iterations, imaginary_number):\n",
    "    z = imaginary_number\n",
    "    iteration = 0\n",
    "    while z < 2 and iteration < iterations:\n",
    "        z += z**2 + imaginary_number\n",
    "        interation += 1\n",
    "    return [imaginary_number, iterations] \n",
    "    \n",
    "def plot(mandelbrot_set):\n",
    "    dkjbckjbc\n",
    "\n",
    "#output: list of imaginary numbers and amount of iterations\n",
    "def do_multiple_samples(sample_size):\n",
    "    mandelbrot_set = []\n",
    "    mandelbrot_set.append(determine_if_mandelbrot)\n",
    "    return mandelbrot_set\n",
    "\n",
    "# RATIO = fixed iterations/samples\n",
    "# output: matrix with\n",
    "# dimension 1: runs\n",
    "# dimension 2: sample size, iterations, numbers outside mandelbrot set, numbers inside mandelbrot set\n",
    "def run_multiple_sample_sizes(sample_sizes, RATIO):\n",
    "    for run in sample_sizes:\n",
    "        mandelbrot_set = \n",
    "       \n",
    "def main():\n",
    "    wjbkjfb\n",
    "    run_multiple_sample_sizes"
   ]
  },
  {
   "cell_type": "code",
   "execution_count": 12,
   "metadata": {},
   "outputs": [
    {
     "name": "stdout",
     "output_type": "stream",
     "text": [
      "[2, 4, 8]\n"
     ]
    }
   ],
   "source": [
    "sample_sizes = generate_sample_sizes(3, 2, 2)\n",
    "print sample_sizes"
   ]
  },
  {
   "cell_type": "code",
   "execution_count": null,
   "metadata": {},
   "outputs": [],
   "source": []
  }
 ],
 "metadata": {
  "kernelspec": {
   "display_name": "Python 2",
   "language": "python",
   "name": "python2"
  },
  "language_info": {
   "codemirror_mode": {
    "name": "ipython",
    "version": 2
   },
   "file_extension": ".py",
   "mimetype": "text/x-python",
   "name": "python",
   "nbconvert_exporter": "python",
   "pygments_lexer": "ipython2",
   "version": "2.7.15"
  }
 },
 "nbformat": 4,
 "nbformat_minor": 2
}
