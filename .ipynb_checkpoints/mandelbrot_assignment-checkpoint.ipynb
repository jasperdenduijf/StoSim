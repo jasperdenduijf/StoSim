{
 "cells": [
  {
   "cell_type": "code",
   "execution_count": 96,
   "metadata": {},
   "outputs": [
    {
     "data": {
      "application/javascript": [
       "IPython.OutputArea.prototype._should_scroll = function(lines) {\n",
       "    return false;\n",
       "}\n",
       "// from https://stackoverflow.com/questions/36757301/disable-ipython-notebook-autoscrolling\n",
       "// disable scroll"
      ],
      "text/plain": [
       "<IPython.core.display.Javascript object>"
      ]
     },
     "metadata": {},
     "output_type": "display_data"
    }
   ],
   "source": [
    "%%javascript\n",
    "IPython.OutputArea.prototype._should_scroll = function(lines) {\n",
    "    return false;\n",
    "}\n",
    "// from https://stackoverflow.com/questions/36757301/disable-ipython-notebook-autoscrolling\n",
    "// disable scroll"
   ]
  },
  {
   "cell_type": "code",
   "execution_count": 112,
   "metadata": {},
   "outputs": [],
   "source": [
    "\"\"\"\n",
    "imaginary numbers are builtin in python and indicated by 'j'\n",
    "\"\"\"\n",
    "import random\n",
    "\n",
    "#in: amount of sample sizes, start = smallest sample size, \n",
    "    #ratio = factor by which each next sample size is larger than the previous\n",
    "#out: list of sample sizes\n",
    "def generate_sample_sizes(amount, start, ratio):\n",
    "    sample_sizes = [start]\n",
    "    number = start\n",
    "    for step in range(amount - 1): \n",
    "        sample_sizes.append(number * ratio)\n",
    "        number = number * ratio\n",
    "    return sample_sizes\n",
    "\n",
    "#out: imaginary number with sum(abs(real) + abs(imaginary)) < 2\n",
    "#random selection of complex numbers in circle with radius = 2\n",
    "def generate_complex_number():\n",
    "    real = 2 * (-1 + 2*random.random())\n",
    "    imaginary = 1j * (2 - abs(real)) * (-1 + 2*random.random())\n",
    "    imaginary_number = real + imaginary\n",
    "    return imaginary_number\n",
    "\n",
    "#in: the amount of iterations to be done before the number is considered a mandelbrot number\n",
    "    # a generated imaginary number\n",
    "#out: the imaginary number, the amount of iterations until the real part of number > 2, \n",
    "    #'T' if number is mandelbrot, else 'F'\n",
    "def determine_if_mandelbrot(iterations, imaginary_number):\n",
    "    z = imaginary_number\n",
    "    iteration = 0\n",
    "    while z.real < 2 and iteration < iterations:\n",
    "        z = z**2 + imaginary_number\n",
    "        iteration += 1\n",
    "    if iteration == iterations:\n",
    "        boolean = 'T'\n",
    "    else:\n",
    "        boolean = 'F'\n",
    "    return [imaginary_number, iteration, boolean] \n",
    "\n",
    "def plot(mandelbrot_set):\n",
    "    dkjbckjbc\n",
    "\n",
    "#in: sample size aka amount of random numbers to test for mandelbrot, \n",
    "    #the amount of iterations to be done before the number is considered a mandelbrot number    \n",
    "#out: list of imaginary numbers, amount of iterations & boolean to show whether in mandelbrot set\n",
    "def do_multiple_samples(sample_size, iterations):\n",
    "    mandelbrot_set = []\n",
    "    for sample in range(sample_size):\n",
    "        imaginary_number = generate_complex_number()\n",
    "        potential_mandelbrot = determine_if_mandelbrot(iterations, imaginary_number)\n",
    "        mandelbrot_set.append(potential_mandelbrot)\n",
    "    return mandelbrot_set\n",
    "\n",
    "#in: the sample sizes to be tested\n",
    "# out: list of complex numbers per sample size\n",
    "def run_multiple_sample_sizes(sample_sizes):\n",
    "    multiple_mandelbrot_sets = []\n",
    "    for sample_size in sample_sizes:\n",
    "        iterations = sample_size / 10\n",
    "        if iterations < 10:\n",
    "            print 'ERROR: sample size < 100'\n",
    "        mandelbrot_set = do_multiple_samples(sample_size, iterations)\n",
    "        multiple_mandelbrot_sets.append(mandelbrot_set)\n",
    "    return multiple_mandelbrot_sets\n",
    "\n",
    "#in: matrix from run_multiple_sample_sizes\n",
    "#out: the ratio of numbers in the mandelbrot set and outside the mandelbrot set and the amount of samples taken\n",
    "def determine_ratio_in_out(multiple_mandelbrot_sets):\n",
    "    ratios_sample_size = []\n",
    "    for mandelbrot_set in multiple_mandelbrot_sets:\n",
    "        iterations = len(mandelbrot_set) / 10\n",
    "        mandelbrot_numbers = 0\n",
    "        for imaginary_number in mandelbrot_set:\n",
    "            if imaginary_number[2] == \"T\":\n",
    "                mandelbrot_numbers += 1\n",
    "        ratio_in_out = float(mandelbrot_numbers) / len(mandelbrot_set)\n",
    "        ratios_sample_size.append([ratio_in_out, len(mandelbrot_set)])    \n",
    "    return ratios_sample_size\n",
    "\n",
    "def main(sample_sizes):\n",
    "    multiple_mandelbrot_sets = run_multiple_sample_sizes(sample_sizes)\n",
    "    ratios_sample_size = determine_ratio_in_out(multiple_mandelbrot_sets)\n",
    "    return ratios_sample_size"
   ]
  },
  {
   "cell_type": "code",
   "execution_count": 113,
   "metadata": {},
   "outputs": [
    {
     "name": "stdout",
     "output_type": "stream",
     "text": [
      "[[0.24, 100]]\n"
     ]
    }
   ],
   "source": [
    "sample_sizes = generate_sample_sizes(1, 100, 2)\n",
    "print main(sample_sizes)"
   ]
  },
  {
   "cell_type": "code",
   "execution_count": null,
   "metadata": {},
   "outputs": [],
   "source": []
  }
 ],
 "metadata": {
  "kernelspec": {
   "display_name": "Python 2",
   "language": "python",
   "name": "python2"
  },
  "language_info": {
   "codemirror_mode": {
    "name": "ipython",
    "version": 2
   },
   "file_extension": ".py",
   "mimetype": "text/x-python",
   "name": "python",
   "nbconvert_exporter": "python",
   "pygments_lexer": "ipython2",
   "version": "2.7.15"
  }
 },
 "nbformat": 4,
 "nbformat_minor": 2
}
