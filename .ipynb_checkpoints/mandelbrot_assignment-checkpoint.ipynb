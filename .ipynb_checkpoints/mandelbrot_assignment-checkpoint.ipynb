{
 "cells": [
  {
   "cell_type": "code",
   "execution_count": 96,
   "metadata": {},
   "outputs": [
    {
     "data": {
      "application/javascript": [
       "IPython.OutputArea.prototype._should_scroll = function(lines) {\n",
       "    return false;\n",
       "}\n",
       "// from https://stackoverflow.com/questions/36757301/disable-ipython-notebook-autoscrolling\n",
       "// disable scroll"
      ],
      "text/plain": [
       "<IPython.core.display.Javascript object>"
      ]
     },
     "metadata": {},
     "output_type": "display_data"
    }
   ],
   "source": [
    "%%javascript\n",
    "IPython.OutputArea.prototype._should_scroll = function(lines) {\n",
    "    return false;\n",
    "}\n",
    "// from https://stackoverflow.com/questions/36757301/disable-ipython-notebook-autoscrolling\n",
    "// disable scroll"
   ]
  },
  {
   "cell_type": "code",
   "execution_count": 101,
   "metadata": {},
   "outputs": [],
   "source": [
    "\"\"\"\n",
    "imaginary numbers are builtin in python and indicated by 'j'\n",
    "\"\"\"\n",
    "import random\n",
    "\n",
    "#output: list of sample sizes\n",
    "def generate_sample_sizes(amount, start, ratio):\n",
    "    sample_sizes = [start]\n",
    "    number = start\n",
    "    for step in range(amount - 1): \n",
    "        sample_sizes.append(number * ratio)\n",
    "        number = number * ratio\n",
    "    return sample_sizes\n",
    "\n",
    "#output: imaginary number with sum(abs(real) + abs(imaginary)) < 2\n",
    "#issue: no negative numbers\n",
    "def generate_complex_number():\n",
    "    real = 2 * (-1 + 2*random.random())\n",
    "    imaginary = 1j * (2 - abs(real)) * (-1 + 2*random.random())\n",
    "    imaginary_number = real + imaginary\n",
    "    return imaginary_number\n",
    "\n",
    "#output: the imaginary number and the amount of iterations until z > 2. \n",
    "    #if number in mandelbrot set, iterations will be equal to max iterations\n",
    "#output: appends numbers to either inside or outside mandelbrot set list\n",
    "# real part must be 2 or higher\n",
    "def determine_if_mandelbrot(iterations, imaginary_number):\n",
    "    z = imaginary_number\n",
    "    iteration = 0\n",
    "    while z.real < 2 and iteration < iterations:\n",
    "        z = z**2 + imaginary_number\n",
    "        iteration += 1\n",
    "    if iteration == iterations:\n",
    "        boolean = 'T'\n",
    "    else:\n",
    "        boolean = 'F'\n",
    "    return [imaginary_number, iteration, boolean] \n",
    "\n",
    "# if iteration = iterations, the number is in the mandelbrot set\n",
    "def plot(mandelbrot_set):\n",
    "    dkjbckjbc\n",
    "\n",
    "#output: list of imaginary numbers and amount of iterations\n",
    "def do_multiple_samples(sample_size, iterations):\n",
    "    mandelbrot_set = []\n",
    "    for sample in range(sample_size):\n",
    "        imaginary_number = generate_complex_number()\n",
    "        potential_mandelbrot = determine_if_mandelbrot(iterations, imaginary_number)\n",
    "        mandelbrot_set.append(potential_mandelbrot)\n",
    "    return mandelbrot_set\n",
    "\n",
    "# output: matrix with\n",
    "def run_multiple_sample_sizes(sample_sizes):\n",
    "    multiple_mandelbrot_sets = []\n",
    "    for sample_size in sample_sizes:\n",
    "        iterations = sample_size / 10\n",
    "        if iterations < 10:\n",
    "            print 'ERROR: sample size < 100'\n",
    "        mandelbrot_set = do_multiple_samples(sample_size, iterations)\n",
    "        multiple_mandelbrot_sets.append(mandelbrot_set)\n",
    "    return multiple_mandelbrot_sets\n",
    "\n",
    "#output: the ratio of numbers in the mandelbrot set and outside the mandelbrot set and the amount of samples taken\n",
    "def determine_ratio_in_out(multiple_mandelbrot_sets):\n",
    "    ratios_sample_size = []\n",
    "    for mandelbrot_set in multiple_mandelbrot_sets:\n",
    "        iterations = len(mandelbrot_set) / 10\n",
    "        mandelbrot_numbers = 0\n",
    "        for imaginary_number in mandelbrot_set:\n",
    "            if imaginary_number[2] == \"T\":\n",
    "                mandelbrot_numbers += 1\n",
    "        ratio_in_out = float(mandelbrot_numbers) / len(mandelbrot_set)\n",
    "        ratios_sample_size.append([ratio_in_out, len(mandelbrot_set)])    \n",
    "    return ratios_sample_size"
   ]
  },
  {
   "cell_type": "code",
   "execution_count": 107,
   "metadata": {},
   "outputs": [
    {
     "name": "stdout",
     "output_type": "stream",
     "text": [
      "[[[(-0.07430816410753271-0.1630560163183953j), 10, 'T'], [(1.7533343423411232-0.15471890938155747j), 1, 'F'], [(-0.6801390939984757-0.6270725823990071j), 7, 'F'], [(0.6061167130032912+0.5509926498648869j), 4, 'F'], [(-1.0694476166648714+0.7143137740333675j), 5, 'F'], [(0.36862340084382295-0.8256353044586835j), 3, 'F'], [(0.20500335446436324-1.4319190623778704j), 4, 'F'], [(0.40709324792104606-1.0811318373595187j), 3, 'F'], [(0.5233156842117883+0.7740736595143187j), 3, 'F'], [(1.6904893628938833-0.10673829037696136j), 1, 'F'], [(-0.591846301115154-0.7497173035366286j), 8, 'F'], [(-0.5977679634745097+0.16311060686854864j), 10, 'T'], [(1.2763095854742224-0.022530148631515885j), 1, 'F'], [(0.45895301124899923-0.767345938509671j), 3, 'F'], [(1.6683378212898572+0.03189506283758568j), 1, 'F'], [(-0.7502421367053937+0.1065975627910354j), 10, 'T'], [(-0.4455394960265675+0.6893450568077755j), 10, 'T'], [(1.9565794808179855+0.009804213618946494j), 1, 'F'], [(-0.3275408572827061+1.584258957187186j), 2, 'F'], [(-1.6349214580772693-0.3560969379813634j), 5, 'F'], [(-0.04594521581922928+0.8480875911246276j), 10, 'T'], [(1.0918657356350763+0.052496769616197335j), 1, 'F'], [(1.7685151406205035-0.17343227135835573j), 1, 'F'], [(-0.6325951007889166+0.27987746803685126j), 10, 'T'], [(-1.6609742523042832+0.33055308934140176j), 5, 'F'], [(0.16121891647356046-0.7703398996298965j), 6, 'F'], [(1.3040719655985424-0.23682167244216135j), 1, 'F'], [(0.8082729390434991-0.7617051640839073j), 8, 'F'], [(0.8340043216123498-0.7778922326312344j), 10, 'T'], [(-0.9756535579512047-0.15228226115385754j), 10, 'T'], [(-1.7972480793467036+0.1510076143745813j), 4, 'F'], [(0.30061547678635003-1.6511362182209295j), 4, 'F'], [(0.7574726247256707-0.7769995378004725j), 5, 'F'], [(-0.39322851065477993+0.5294504487177613j), 10, 'T'], [(0.885323541992785+0.21385078114505002j), 2, 'F'], [(-1.9830392551213896-0.0024891750407708755j), 10, 'T'], [(1.0717811512691688+0.6841609916472231j), 4, 'F'], [(1.7986720507283271+0.07223720204247756j), 1, 'F'], [(-1.5059884078907135-0.013935489393448j), 10, 'T'], [(-1.4106170446083794+0.5677259639464417j), 3, 'F'], [(1.9788977466890807-0.002461886243026345j), 1, 'F'], [(1.056683746134544-0.48273966322064255j), 2, 'F'], [(-0.4257457870101291-0.4563062617928265j), 10, 'T'], [(-0.19891507093653527+0.5750452720048213j), 10, 'T'], [(-0.23272464836802698+0.006004792813300283j), 10, 'T'], [(-1.3754020856619982-0.012483517811857945j), 10, 'T'], [(-1.0014716607825491+0.31396005474778577j), 10, 'T'], [(1.6430165930713803+0.354186976278881j), 1, 'F'], [(-1.5698990358776306+0.2768117860492682j), 5, 'F'], [(-1.7704772681458745+0.195431535375108j), 4, 'F'], [(-0.610159553893896+1.1641272854574973j), 5, 'F'], [(1.661464505424323-0.06488351047671158j), 1, 'F'], [(1.349430307907832+0.16495968937960107j), 1, 'F'], [(-1.3123566169563428+0.12163862081891397j), 10, 'T'], [(-0.3565199200267273-1.5506452954374759j), 2, 'F'], [(1.3117746289339505-0.3638428497555366j), 1, 'F'], [(-0.07192476522229008-0.964158638831791j), 10, 'T'], [(-1.5506537037838664+0.33985793005973436j), 5, 'F'], [(-0.6132743450323748-0.7553832659013693j), 7, 'F'], [(1.009557197681628-0.4966323880705982j), 4, 'F'], [(-0.2946785688648661-0.6718754448235675j), 10, 'T'], [(-1.7403560099036035-0.25944965917019736j), 4, 'F'], [(-0.9756547162405016+0.39624254846289053j), 10, 'T'], [(1.9364818666934234-0.058811321156632845j), 1, 'F'], [(-1.4147593820577904+0.03875456733767138j), 10, 'T'], [(-0.15060789766639004-0.6648959399564438j), 10, 'T'], [(-1.0146596261196605-0.013359445253215895j), 10, 'T'], [(-1.2392415137849726-0.024631412982632342j), 10, 'T'], [(1.7120667041297946-0.01023680346866741j), 1, 'F'], [(1.3854606592701715+0.25301899466495176j), 1, 'F'], [(-0.4588116015464254-0.008932556893638633j), 10, 'T'], [(-1.4808540196774733-0.3172315229336137j), 5, 'F'], [(-1.8586823266160586-0.0778597144946607j), 6, 'F'], [(-0.8381292234850783-0.5462503514537371j), 6, 'F'], [(1.529795675150206+0.18635580094265514j), 1, 'F'], [(1.4315376850728705+0.46175201144088185j), 1, 'F'], [(-1.129065744261605-0.3670609742249j), 7, 'F'], [(0.3748182589198872+0.11927326807812716j), 10, 'T'], [(-1.6831091015023634+0.20115835328011383j), 6, 'F'], [(0.5288360870633966+0.6629274450742523j), 5, 'F'], [(1.5356632292131285+0.15412942558795376j), 1, 'F'], [(1.4046062292245725-0.37985011724624396j), 1, 'F'], [(-0.15046723876379753-1.6703710173670143j), 2, 'F'], [(-1.2209637544249117+0.3785276700276737j), 8, 'F'], [(-1.5752538079234601+0.331104582190567j), 5, 'F'], [(0.6980938492247608-1.0474119461497688j), 3, 'F'], [(-0.00020863695608985822+0.23908739520395922j), 10, 'T'], [(-1.3208161077548515+0.15048829982758455j), 9, 'F'], [(-1.3486159849872217-0.5282169680724519j), 3, 'F'], [(-0.06624358170832512+0.9904145606007195j), 10, 'T'], [(0.500677459440535+0.6263895607576913j), 7, 'F'], [(1.3305168572916415+0.1465539318848469j), 1, 'F'], [(-0.5826454115927193+0.9577424303883805j), 9, 'F'], [(1.9097225507906828-0.0365553069154352j), 1, 'F'], [(0.738983327320645+0.7874263977879675j), 5, 'F'], [(-0.10332030729024666-1.3905289654845039j), 2, 'F'], [(-0.992332440702357+0.6333176215426278j), 5, 'F'], [(0.16289434194802732-0.2641160133398645j), 10, 'T'], [(1.6683004792349485-0.18599527442511501j), 1, 'F'], [(1.8050677946067237-0.04975316321294085j), 1, 'F']]]\n",
      "[[0.29, 100]]\n"
     ]
    }
   ],
   "source": [
    "sample_sizes = generate_sample_sizes(1, 100, 2)\n",
    "multiple_mandelbrot_sets = run_multiple_sample_sizes(sample_sizes)\n",
    "print multiple_mandelbrot_sets\n",
    "ratios_to_sample_size = determine_ratio_in_out(multiple_mandelbrot_sets)\n",
    "print ratios_to_sample_size"
   ]
  },
  {
   "cell_type": "code",
   "execution_count": null,
   "metadata": {},
   "outputs": [],
   "source": []
  }
 ],
 "metadata": {
  "kernelspec": {
   "display_name": "Python 2",
   "language": "python",
   "name": "python2"
  },
  "language_info": {
   "codemirror_mode": {
    "name": "ipython",
    "version": 2
   },
   "file_extension": ".py",
   "mimetype": "text/x-python",
   "name": "python",
   "nbconvert_exporter": "python",
   "pygments_lexer": "ipython2",
   "version": "2.7.15"
  }
 },
 "nbformat": 4,
 "nbformat_minor": 2
}
