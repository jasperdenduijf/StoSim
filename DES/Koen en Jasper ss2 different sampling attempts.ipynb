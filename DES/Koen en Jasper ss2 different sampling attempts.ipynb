{
 "cells": [
  {
   "cell_type": "code",
   "execution_count": 4,
   "metadata": {},
   "outputs": [
    {
     "data": {
      "application/javascript": [
       "// disable scroll\n",
       "IPython.OutputArea.prototype._should_scroll = function(lines) {\n",
       "    return false;\n",
       "}\n",
       "// from https://stackoverflow.com/questions/36757301/disable-ipython-notebook-autoscrolling"
      ],
      "text/plain": [
       "<IPython.core.display.Javascript object>"
      ]
     },
     "metadata": {},
     "output_type": "display_data"
    }
   ],
   "source": [
    "%%javascript\n",
    "// disable scroll\n",
    "IPython.OutputArea.prototype._should_scroll = function(lines) {\n",
    "    return false;\n",
    "}\n",
    "// from https://stackoverflow.com/questions/36757301/disable-ipython-notebook-autoscrolling"
   ]
  },
  {
   "cell_type": "code",
   "execution_count": 5,
   "metadata": {},
   "outputs": [],
   "source": [
    "import simpy\n",
    "from __future__ import division"
   ]
  },
  {
   "cell_type": "markdown",
   "metadata": {
    "collapsed": true
   },
   "source": [
    "## Simpy tutorial"
   ]
  },
  {
   "cell_type": "markdown",
   "metadata": {},
   "source": [
    "### Generator statements"
   ]
  },
  {
   "cell_type": "code",
   "execution_count": 2,
   "metadata": {},
   "outputs": [],
   "source": [
    "def range_(n):\n",
    "    i = 0\n",
    "    while i < n:\n",
    "        yield i\n",
    "        i += 1"
   ]
  },
  {
   "cell_type": "code",
   "execution_count": 3,
   "metadata": {},
   "outputs": [
    {
     "name": "stdout",
     "output_type": "stream",
     "text": [
      "0\n",
      "1\n",
      "2\n",
      "3\n",
      "4\n",
      "5\n",
      "6\n",
      "7\n",
      "8\n",
      "9\n"
     ]
    }
   ],
   "source": [
    "for value in range_(10):\n",
    "    print(value)"
   ]
  },
  {
   "cell_type": "code",
   "execution_count": 4,
   "metadata": {},
   "outputs": [
    {
     "name": "stdout",
     "output_type": "stream",
     "text": [
      "<generator object range_ at 0x10ebece10>\n"
     ]
    }
   ],
   "source": [
    "x = range_(10)\n",
    "print(x)"
   ]
  },
  {
   "cell_type": "code",
   "execution_count": 5,
   "metadata": {},
   "outputs": [
    {
     "name": "stdout",
     "output_type": "stream",
     "text": [
      "0\n"
     ]
    }
   ],
   "source": [
    "print(next(x))"
   ]
  },
  {
   "cell_type": "markdown",
   "metadata": {},
   "source": [
    "### Simpy basics"
   ]
  },
  {
   "cell_type": "code",
   "execution_count": 6,
   "metadata": {},
   "outputs": [],
   "source": [
    "def car(env):\n",
    "    while True:\n",
    "        print('Start parking at %d' % env.now)\n",
    "        parking_duration = 5\n",
    "        yield env.timeout(parking_duration)\n",
    "        print('Start driving at %d' % env.now)\n",
    "        trip_duration = 2\n",
    "        yield env.timeout(trip_duration)"
   ]
  },
  {
   "cell_type": "code",
   "execution_count": 7,
   "metadata": {},
   "outputs": [
    {
     "name": "stdout",
     "output_type": "stream",
     "text": [
      "Start parking at 0\n",
      "Start driving at 5\n",
      "Start parking at 7\n",
      "Start driving at 12\n",
      "Start parking at 14\n"
     ]
    }
   ],
   "source": [
    "env = simpy.Environment()\n",
    "env.process(car(env))\n",
    "env.run(until=15)"
   ]
  },
  {
   "cell_type": "markdown",
   "metadata": {},
   "source": [
    "### In classes"
   ]
  },
  {
   "cell_type": "code",
   "execution_count": 8,
   "metadata": {},
   "outputs": [],
   "source": [
    "class Car(object):\n",
    "    def __init__(self, env):\n",
    "        self.env = env\n",
    "        self.action = env.process(self.run())\n",
    "        \n",
    "    def run(self):\n",
    "        while True:\n",
    "            print('Start parking and charging at %d' % self.env.now)\n",
    "            charge_duration = 5\n",
    "            # We may get interrupted while charging the battery\n",
    "            try:\n",
    "                yield self.env.process(self.charge(charge_duration))\n",
    "            except simpy.Interrupt:\n",
    "                # When we received an interrupt, we stop charging and\n",
    "                # switch to the \"driving\" state\n",
    "                print('Was interrupted. Hope, the battery is full enough ...')\n",
    "\n",
    "            print('Start driving at %d' % self.env.now)\n",
    "            trip_duration = 2\n",
    "            yield self.env.timeout(trip_duration)\n",
    "\n",
    "    def charge(self, duration):\n",
    "            yield self.env.timeout(duration)"
   ]
  },
  {
   "cell_type": "code",
   "execution_count": 9,
   "metadata": {},
   "outputs": [],
   "source": [
    "def driver(env, car):\n",
    "    yield env.timeout(3)\n",
    "    car.action.interrupt()"
   ]
  },
  {
   "cell_type": "code",
   "execution_count": 10,
   "metadata": {},
   "outputs": [
    {
     "name": "stdout",
     "output_type": "stream",
     "text": [
      "Start parking and charging at 0\n",
      "Was interrupted. Hope, the battery is full enough ...\n",
      "Start driving at 3\n",
      "Start parking and charging at 5\n",
      "Start driving at 10\n",
      "Start parking and charging at 12\n"
     ]
    }
   ],
   "source": [
    "env = simpy.Environment()\n",
    "car = Car(env)\n",
    "env.process(driver(env,car))\n",
    "env.run(until=15)"
   ]
  },
  {
   "cell_type": "markdown",
   "metadata": {},
   "source": [
    "### Resources/Servers"
   ]
  },
  {
   "cell_type": "code",
   "execution_count": 11,
   "metadata": {},
   "outputs": [],
   "source": [
    "def car(env, name, bcs, driving_time, charge_duration):\n",
    "    # Simulate driving to the BCS\n",
    "    yield env.timeout(driving_time)\n",
    "\n",
    "    # Request one of its charging spots\n",
    "    print('%s arriving at %d' % (name, env.now))\n",
    "    with bcs.request() as req:\n",
    "        yield req\n",
    "        # Charge the battery\n",
    "        print('%s starting to charge at %s' % (name, env.now))\n",
    "        yield env.timeout(charge_duration)\n",
    "        print('%s leaving the bcs at %s' % (name, env.now))"
   ]
  },
  {
   "cell_type": "code",
   "execution_count": 12,
   "metadata": {},
   "outputs": [
    {
     "name": "stdout",
     "output_type": "stream",
     "text": [
      "Car 0 arriving at 0\n",
      "Car 0 starting to charge at 0\n",
      "Car 1 arriving at 2\n",
      "Car 1 starting to charge at 2\n",
      "Car 2 arriving at 4\n",
      "Car 0 leaving the bcs at 5\n",
      "Car 2 starting to charge at 5\n",
      "Car 3 arriving at 6\n",
      "Car 1 leaving the bcs at 7\n",
      "Car 3 starting to charge at 7\n",
      "Car 2 leaving the bcs at 10\n",
      "Car 3 leaving the bcs at 12\n"
     ]
    }
   ],
   "source": [
    "env = simpy.Environment()\n",
    "bcs = simpy.Resource(env, capacity=2)\n",
    "for i in range(4):\n",
    "    env.process(car(env, 'Car %d' % i, bcs, i*2, 5))\n",
    "env.run()"
   ]
  },
  {
   "cell_type": "markdown",
   "metadata": {},
   "source": [
    "### Generator classes"
   ]
  },
  {
   "cell_type": "code",
   "execution_count": 48,
   "metadata": {},
   "outputs": [],
   "source": [
    "import numpy as np\n",
    "\n",
    "class Server(object):\n",
    "    \"\"\"Server with constant service times\"\"\" \n",
    "    \n",
    "    def __init__(self, env):\n",
    "        self.env = env\n",
    "        self.server = simpy.Resource(env, capacity=8)\n",
    "    \n",
    "    def server_time(self): \n",
    "        return np.random.exponential(2,1)\n",
    "    \n",
    "    def serve(self):\n",
    "        serve_time = self.server_time()\n",
    "        yield self.env.timeout(serve_time)\n",
    "    \n",
    "    _server_time = server_time\n",
    "    _variabele = \"Hoi\"\n",
    "    \n",
    "class Server2(Server):\n",
    "    \n",
    "    def server_time(self):\n",
    "        return 2\n",
    "\n",
    "    "
   ]
  },
  {
   "cell_type": "code",
   "execution_count": 49,
   "metadata": {},
   "outputs": [
    {
     "name": "stdout",
     "output_type": "stream",
     "text": [
      "[0.57244561]\n",
      "2\n",
      "[0.82013582]\n",
      "Hoi\n"
     ]
    }
   ],
   "source": [
    "env = simpy.Environment()\n",
    "sv1  = Server(env)\n",
    "sv2 = Server2(sv1)\n",
    "\n",
    "print(sv1.server_time())\n",
    "print(sv2.server_time())\n",
    "print(sv2._server_time())\n",
    "print(sv2._variabele)\n",
    "\n"
   ]
  },
  {
   "cell_type": "code",
   "execution_count": 51,
   "metadata": {},
   "outputs": [],
   "source": [
    "class Customer(object):\n",
    "    \"\"\"\n",
    "    For each customer we record the arrivaltime, \n",
    "    the response time and the departure time.\n",
    "\n",
    "    \"\"\"\n",
    "    def __init__(self, env, sv):\n",
    "        self.env = env\n",
    "        self.sv = sv\n",
    "        self.time_in_line = 0\n",
    "        \n",
    "        \n",
    "    def enqueue(self):\n",
    "        #print(\"Arrived at %f\" % (self.env.now))\n",
    "        with self.sv.server.request() as request:\n",
    "            self.time_in_line = self.env.now\n",
    "            yield request\n",
    "            self.time_in_line = self.env.now - self.time_in_line\n",
    "            #print(\"Has waited at %f\" % (self.time_in_line))\n",
    "            datastorage.append(self.time_in_line)\n",
    "            #print(\"Started serving at %f\" % (self.env.now))\n",
    "            yield self.env.process(self.sv.serve())\n",
    "            #print(\"Finished serving at %f\" % (self.env.now))\n",
    "            "
   ]
  },
  {
   "cell_type": "code",
   "execution_count": 52,
   "metadata": {},
   "outputs": [],
   "source": [
    "\n",
    "class CustomerGenerator(object):\n",
    "    \"\"\"Creates new customers\"\"\"\n",
    "    def __init__(self,env,sv):\n",
    "        self.env = env\n",
    "        self.sv = sv\n",
    "        self.max_customers = 239 #239000\n",
    "        \n",
    "    \n",
    "    def arrival_time(self):\n",
    "        randomNumber = np.random.exponential(1,1)\n",
    "        return randomNumber\n",
    "    \n",
    "    def run(self):\n",
    "        customers = 0\n",
    "        while customers < self.max_customers:\n",
    "            arrival_time = self.arrival_time()\n",
    "            yield self.env.timeout(arrival_time)\n",
    "            \n",
    "            customers += 1\n",
    "            new_customer = Customer(self.env, self.sv)\n",
    "            self.env.process(new_customer.enqueue())"
   ]
  },
  {
   "cell_type": "code",
   "execution_count": 53,
   "metadata": {},
   "outputs": [],
   "source": [
    "#datastorage = []\n",
    "\n",
    "class QTExperiment(object):\n",
    "    \"\"\" Easy interface to generate a queue \"\"\"\n",
    "    \n",
    "    def __init__(self):\n",
    "        self.env = simpy.Environment()\n",
    "        self.server = Server(self.env)\n",
    "        self.generator = CustomerGenerator(self.env, self.server)\n",
    "        \n",
    "    def run(self):\n",
    "        self.env.process(self.generator.run())\n",
    "        self.env.run()"
   ]
  },
  {
   "cell_type": "code",
   "execution_count": 54,
   "metadata": {},
   "outputs": [
    {
     "name": "stdout",
     "output_type": "stream",
     "text": [
      "Has waited at 0.000000\n",
      "Has waited at 0.000000\n",
      "Has waited at 0.000000\n",
      "Has waited at 0.000000\n",
      "Has waited at 0.000000\n",
      "Has waited at 0.000000\n",
      "Has waited at 0.000000\n",
      "Has waited at 0.000000\n",
      "Has waited at 0.000000\n",
      "Has waited at 0.000000\n",
      "Has waited at 0.000000\n",
      "Has waited at 0.000000\n",
      "Has waited at 0.000000\n",
      "Has waited at 0.000000\n",
      "Has waited at 0.000000\n",
      "Has waited at 0.000000\n",
      "Has waited at 0.000000\n",
      "Has waited at 0.000000\n",
      "Has waited at 0.000000\n",
      "Has waited at 0.000000\n",
      "Has waited at 0.000000\n",
      "Has waited at 0.000000\n",
      "Has waited at 0.000000\n",
      "Has waited at 0.000000\n",
      "Has waited at 0.000000\n",
      "Has waited at 0.000000\n",
      "Has waited at 0.000000\n",
      "Has waited at 0.000000\n",
      "Has waited at 0.000000\n",
      "Has waited at 0.000000\n",
      "Has waited at 0.000000\n",
      "Has waited at 0.000000\n",
      "Has waited at 0.000000\n",
      "Has waited at 0.000000\n",
      "Has waited at 0.000000\n",
      "Has waited at 0.000000\n",
      "Has waited at 0.000000\n",
      "Has waited at 0.000000\n",
      "Has waited at 0.000000\n",
      "Has waited at 0.000000\n",
      "Has waited at 0.000000\n",
      "Has waited at 0.000000\n",
      "Has waited at 0.000000\n",
      "Has waited at 0.000000\n",
      "Has waited at 0.000000\n",
      "Has waited at 0.000000\n",
      "Has waited at 0.000000\n",
      "Has waited at 0.000000\n",
      "Has waited at 0.000000\n",
      "Has waited at 0.000000\n",
      "Has waited at 0.000000\n",
      "Has waited at 0.000000\n",
      "Has waited at 0.000000\n",
      "Has waited at 0.000000\n",
      "Has waited at 0.000000\n",
      "Has waited at 0.000000\n",
      "Has waited at 0.000000\n",
      "Has waited at 0.000000\n",
      "Has waited at 0.000000\n",
      "Has waited at 0.000000\n",
      "Has waited at 0.000000\n",
      "Has waited at 0.000000\n",
      "Has waited at 0.000000\n",
      "Has waited at 0.000000\n",
      "Has waited at 0.000000\n",
      "Has waited at 0.000000\n",
      "Has waited at 0.000000\n",
      "Has waited at 0.000000\n",
      "Has waited at 0.000000\n",
      "Has waited at 0.000000\n",
      "Has waited at 0.000000\n",
      "Has waited at 0.000000\n",
      "Has waited at 0.000000\n",
      "Has waited at 0.000000\n",
      "Has waited at 0.000000\n",
      "Has waited at 0.000000\n",
      "Has waited at 0.000000\n",
      "Has waited at 0.000000\n",
      "Has waited at 0.000000\n",
      "Has waited at 0.000000\n",
      "Has waited at 0.000000\n",
      "Has waited at 0.000000\n",
      "Has waited at 0.000000\n",
      "Has waited at 0.000000\n",
      "Has waited at 0.000000\n",
      "Has waited at 0.000000\n",
      "Has waited at 0.000000\n",
      "Has waited at 0.000000\n",
      "Has waited at 0.000000\n",
      "Has waited at 0.000000\n",
      "Has waited at 0.000000\n",
      "Has waited at 0.000000\n",
      "Has waited at 0.000000\n",
      "Has waited at 0.000000\n",
      "Has waited at 0.000000\n",
      "Has waited at 0.000000\n",
      "Has waited at 0.000000\n",
      "Has waited at 0.000000\n",
      "Has waited at 0.000000\n",
      "Has waited at 0.000000\n",
      "Has waited at 0.000000\n",
      "Has waited at 0.000000\n",
      "Has waited at 0.000000\n",
      "Has waited at 0.000000\n",
      "Has waited at 0.000000\n",
      "Has waited at 0.000000\n",
      "Has waited at 0.000000\n",
      "Has waited at 0.000000\n",
      "Has waited at 0.000000\n",
      "Has waited at 0.000000\n",
      "Has waited at 0.000000\n",
      "Has waited at 0.000000\n",
      "Has waited at 0.000000\n",
      "Has waited at 0.000000\n",
      "Has waited at 0.000000\n",
      "Has waited at 0.000000\n",
      "Has waited at 0.000000\n",
      "Has waited at 0.000000\n",
      "Has waited at 0.000000\n",
      "Has waited at 0.000000\n",
      "Has waited at 0.000000\n",
      "Has waited at 0.000000\n",
      "Has waited at 0.000000\n",
      "Has waited at 0.000000\n",
      "Has waited at 0.000000\n",
      "Has waited at 0.000000\n",
      "Has waited at 0.000000\n",
      "Has waited at 0.000000\n",
      "Has waited at 0.000000\n",
      "Has waited at 0.000000\n",
      "Has waited at 0.000000\n",
      "Has waited at 0.000000\n",
      "Has waited at 0.000000\n",
      "Has waited at 0.000000\n",
      "Has waited at 0.000000\n",
      "Has waited at 0.000000\n",
      "Has waited at 0.000000\n",
      "Has waited at 0.000000\n",
      "Has waited at 0.000000\n",
      "Has waited at 0.000000\n",
      "Has waited at 0.000000\n",
      "Has waited at 0.000000\n",
      "Has waited at 0.000000\n",
      "Has waited at 0.000000\n",
      "Has waited at 0.000000\n",
      "Has waited at 0.000000\n",
      "Has waited at 0.000000\n",
      "Has waited at 0.000000\n",
      "Has waited at 0.000000\n",
      "Has waited at 0.000000\n",
      "Has waited at 0.000000\n",
      "Has waited at 0.000000\n",
      "Has waited at 0.000000\n",
      "Has waited at 0.000000\n",
      "Has waited at 0.000000\n",
      "Has waited at 0.000000\n",
      "Has waited at 0.000000\n",
      "Has waited at 0.000000\n",
      "Has waited at 0.000000\n",
      "Has waited at 0.000000\n",
      "Has waited at 0.000000\n",
      "Has waited at 0.000000\n",
      "Has waited at 0.000000\n",
      "Has waited at 0.000000\n",
      "Has waited at 0.000000\n",
      "Has waited at 0.000000\n",
      "Has waited at 0.000000\n",
      "Has waited at 0.000000\n",
      "Has waited at 0.000000\n",
      "Has waited at 0.000000\n",
      "Has waited at 0.000000\n",
      "Has waited at 0.000000\n",
      "Has waited at 0.000000\n",
      "Has waited at 0.000000\n",
      "Has waited at 0.000000\n",
      "Has waited at 0.000000\n",
      "Has waited at 0.000000\n",
      "Has waited at 0.000000\n",
      "Has waited at 0.000000\n",
      "Has waited at 0.000000\n",
      "Has waited at 0.000000\n",
      "Has waited at 0.000000\n",
      "Has waited at 0.000000\n",
      "Has waited at 0.000000\n",
      "Has waited at 0.000000\n",
      "Has waited at 0.000000\n",
      "Has waited at 0.000000\n",
      "Has waited at 0.000000\n",
      "Has waited at 0.000000\n",
      "Has waited at 0.000000\n",
      "Has waited at 0.000000\n",
      "Has waited at 0.000000\n",
      "Has waited at 0.000000\n",
      "Has waited at 0.000000\n",
      "Has waited at 0.000000\n",
      "Has waited at 0.000000\n",
      "Has waited at 0.000000\n",
      "Has waited at 0.000000\n",
      "Has waited at 0.000000\n",
      "Has waited at 0.000000\n",
      "Has waited at 0.000000\n",
      "Has waited at 0.000000\n",
      "Has waited at 0.000000\n",
      "Has waited at 0.000000\n",
      "Has waited at 0.000000\n",
      "Has waited at 0.000000\n",
      "Has waited at 0.000000\n",
      "Has waited at 0.000000\n",
      "Has waited at 0.000000\n",
      "Has waited at 0.000000\n",
      "Has waited at 0.000000\n",
      "Has waited at 0.000000\n",
      "Has waited at 0.000000\n",
      "Has waited at 0.000000\n",
      "Has waited at 0.000000\n",
      "Has waited at 0.000000\n",
      "Has waited at 0.000000\n",
      "Has waited at 0.000000\n",
      "Has waited at 0.000000\n",
      "Has waited at 0.000000\n",
      "Has waited at 0.000000\n",
      "Has waited at 0.000000\n",
      "Has waited at 0.000000\n",
      "Has waited at 0.000000\n",
      "Has waited at 0.000000\n",
      "Has waited at 0.000000\n",
      "Has waited at 0.000000\n",
      "Has waited at 0.000000\n",
      "Has waited at 0.000000\n",
      "Has waited at 0.000000\n",
      "Has waited at 0.000000\n",
      "Has waited at 0.000000\n",
      "Has waited at 0.000000\n",
      "Has waited at 0.000000\n",
      "Has waited at 0.000000\n",
      "Has waited at 0.000000\n",
      "Has waited at 0.000000\n",
      "Has waited at 0.000000\n",
      "Has waited at 0.000000\n"
     ]
    },
    {
     "data": {
      "text/plain": [
       "'\\nmeandata = []\\nsigmadata = []\\nfor i in range(200):\\n    meandata.append(np.mean(datastorage[i*1200 + 100:i*1200 + 1100]))\\n    sigmadata.append(np.std(datastorage[i*1200 + 100:i*1200 + 1100]))\\n\\nprint \"mm\", np.mean(meandata)\\nprint \"sm\", np.std(meandata)\\nprint \"ms\", np.mean(sigmadata)\\nprint \"ss\", np.std(sigmadata)\\n'"
      ]
     },
     "execution_count": 54,
     "metadata": {},
     "output_type": "execute_result"
    }
   ],
   "source": [
    "datastorage = []\n",
    "exp = QTExperiment().run()\n",
    "#print datastorage\n",
    "\"\"\"\n",
    "meandata = []\n",
    "sigmadata = []\n",
    "for i in range(200):\n",
    "    meandata.append(np.mean(datastorage[i*1200 + 100:i*1200 + 1100]))\n",
    "    sigmadata.append(np.std(datastorage[i*1200 + 100:i*1200 + 1100]))\n",
    "\n",
    "print \"mm\", np.mean(meandata)\n",
    "print \"sm\", np.std(meandata)\n",
    "print \"ms\", np.mean(sigmadata)\n",
    "print \"ss\", np.std(sigmadata)\n",
    "\"\"\""
   ]
  },
  {
   "cell_type": "code",
   "execution_count": 17,
   "metadata": {},
   "outputs": [
    {
     "name": "stdout",
     "output_type": "stream",
     "text": [
      "mean service time exponential = 1.0093073677746878\n",
      "mean service time long-tail = 2.0228929148786867\n",
      "mean service time bimodal = 1.4950781511848559\n",
      "mean service time normal = 4.995623827248792\n"
     ]
    },
    {
     "data": {
      "text/plain": [
       "<function matplotlib.pyplot.show>"
      ]
     },
     "execution_count": 17,
     "metadata": {},
     "output_type": "execute_result"
    },
    {
     "data": {
      "image/png": "[encoded data removed]",
      "text/plain": [
       "<Figure size 720x720 with 1 Axes>"
      ]
     },
     "metadata": {
      "needs_background": "light"
     },
     "output_type": "display_data"
    },
    {
     "data": {
      "image/png": "[encoded data removed]",
      "text/plain": [
       "<Figure size 720x720 with 1 Axes>"
      ]
     },
     "metadata": {
      "needs_background": "light"
     },
     "output_type": "display_data"
    },
    {
     "data": {
      "image/png": "[encoded data removed]",
      "text/plain": [
       "<Figure size 720x720 with 1 Axes>"
      ]
     },
     "metadata": {
      "needs_background": "light"
     },
     "output_type": "display_data"
    },
    {
     "data": {
      "image/png": "[encoded data removed]",
      "text/plain": [
       "<Figure size 720x720 with 1 Axes>"
      ]
     },
     "metadata": {
      "needs_background": "light"
     },
     "output_type": "display_data"
    }
   ],
   "source": [
    "\"\"\"\n",
    "Plot different distribution options\n",
    "\"\"\"\n",
    "import numpy as np\n",
    "from matplotlib import pyplot as plt\n",
    "\n",
    "samples = 10000\n",
    "float_maker = 1000.\n",
    "\n",
    "# exponential distribution\n",
    "def server_time_exponential():\n",
    "    server_time = np.random.exponential(1,1)\n",
    "    return server_time\n",
    "\n",
    "times = []\n",
    "for n in range(samples):\n",
    "    server_time = server_time_exponential()\n",
    "    times.append(server_time[0])\n",
    "\n",
    "print 'mean service time exponential =', np.mean(times)\n",
    "\n",
    "plt.figure(figsize=(10,10))\n",
    "plt.hist(times, 50)\n",
    "plt.show\n",
    "\n",
    "# longtail distribution\n",
    "def server_time_longtail():\n",
    "    random_number = np.random.random()\n",
    "    if random_number > 1./4:\n",
    "        server_time = np.random.exponential(1,1)\n",
    "    if random_number <= 1./4:\n",
    "        server_time = np.random.exponential(5,1)\n",
    "    return server_time\n",
    "\n",
    "times = []\n",
    "for n in range(samples):\n",
    "    server_time = server_time_longtail()\n",
    "    times.append(server_time[0])\n",
    "\n",
    "print 'mean service time long-tail =', np.mean(times)\n",
    "\n",
    "plt.figure(figsize=(10,10))\n",
    "plt.hist(times, 50)\n",
    "plt.show\n",
    "\n",
    "# bimodal distribution, with exponential and normal distribution\n",
    "def server_time_bimodal():\n",
    "    random_number = np.random.random()\n",
    "    if random_number > 1./8:\n",
    "        server_time = np.random.exponential(1,1)\n",
    "    if random_number <= 1./8:\n",
    "        server_time = [5 + np.random.normal()/10.]\n",
    "    return server_time\n",
    "\n",
    "times = []\n",
    "for n in range(samples):\n",
    "    server_time = server_time_bimodal()\n",
    "    times.append(server_time[0])\n",
    "\n",
    "print 'mean service time bimodal =', np.mean(times)\n",
    "\n",
    "plt.figure(figsize=(10,10))\n",
    "plt.hist(times, 50)\n",
    "plt.show\n",
    "\n",
    "# normal distribution\n",
    "def server_time_normal():\n",
    "    server_time = 5 + np.random.normal()\n",
    "    return server_time\n",
    "\n",
    "times = []\n",
    "for n in range(samples):\n",
    "    server_time = server_time_normal()\n",
    "    times.append(server_time)\n",
    "\n",
    "print 'mean service time normal =', np.mean(times)\n",
    "\n",
    "plt.figure(figsize=(10,10))\n",
    "plt.hist(times, 50)\n",
    "plt.show"
   ]
  },
  {
   "cell_type": "code",
   "execution_count": 68,
   "metadata": {},
   "outputs": [
    {
     "name": "stdout",
     "output_type": "stream",
     "text": [
      "[0.34735045]\n"
     ]
    }
   ],
   "source": [
    "print np.random.exponential(1/8,1)"
   ]
  },
  {
   "cell_type": "code",
   "execution_count": 12,
   "metadata": {},
   "outputs": [
    {
     "name": "stdout",
     "output_type": "stream",
     "text": [
      "2.71828182846\n",
      "7.38905609893\n",
      "15.1542622415\n",
      "0.367879441171\n",
      "0.904837418036\n",
      "0.990049833749\n",
      "0.999999000001\n",
      "1.0\n",
      "3.72007597602e-44\n",
      "\n",
      "2.71828182846\n",
      "1.10517091808\n",
      "1.01005016708\n",
      "1.000001\n",
      "1.0\n",
      "[0.11857227]\n"
     ]
    }
   ],
   "source": [
    "import math\n",
    "import numpy as np\n",
    "print math.e\n",
    "print math.e**2\n",
    "print math.e**math.e\n",
    "print math.e**-1\n",
    "print math.e**-.1\n",
    "print math.e**-.01\n",
    "print math.e**-.000001\n",
    "print math.e**-0\n",
    "print math.e**-100\n",
    "print \n",
    "print math.e**1\n",
    "print math.e**.1\n",
    "print math.e**.01\n",
    "print math.e**.000001\n",
    "print math.e**0\n",
    "print np.random.exponential(1,1)\n"
   ]
  },
  {
   "cell_type": "code",
   "execution_count": 7,
   "metadata": {},
   "outputs": [
    {
     "name": "stdout",
     "output_type": "stream",
     "text": [
      "5\n"
     ]
    }
   ],
   "source": [
    "print np.intp(5)"
   ]
  },
  {
   "cell_type": "code",
   "execution_count": null,
   "metadata": {},
   "outputs": [],
   "source": []
  }
 ],
 "metadata": {
  "kernelspec": {
   "display_name": "Python 2",
   "language": "python",
   "name": "python2"
  },
  "language_info": {
   "codemirror_mode": {
    "name": "ipython",
    "version": 2
   },
   "file_extension": ".py",
   "mimetype": "text/x-python",
   "name": "python",
   "nbconvert_exporter": "python",
   "pygments_lexer": "ipython2",
   "version": "2.7.15"
  }
 },
 "nbformat": 4,
 "nbformat_minor": 2
}
