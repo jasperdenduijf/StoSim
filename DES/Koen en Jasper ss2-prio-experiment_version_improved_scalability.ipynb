{
 "cells": [
  {
   "cell_type": "code",
   "execution_count": 71,
   "metadata": {},
   "outputs": [],
   "source": [
    "# indicate shortestServiceFirst or firstInFirstOut\n",
    "servicePreference = 'firstInFirstOut'\n",
    "# indicate ExponentialDistribution, LongtailDistribution or BimodalDistribution\n",
    "serviceRateDistribution = 'ExponentialDistribution'\n",
    "mu = 0.90 # mean service time\n",
    "personnelAmount = 8 #amount of servers\n",
    "interarrivalTime = 8 #denominator/divisor interarravial time\n",
    "customerAmount = 239000 #  amount of customers to visit the shop\n",
    "samplingSpace = customerAmount / 239 * 240 / 200\n",
    "halfMargin = samplingSpace / 12"
   ]
  },
  {
   "cell_type": "code",
   "execution_count": 72,
   "metadata": {},
   "outputs": [],
   "source": [
    "import simpy\n",
    "from __future__ import division"
   ]
  },
  {
   "cell_type": "code",
   "execution_count": 73,
   "metadata": {},
   "outputs": [],
   "source": [
    "servicetimes = []\n",
    "import numpy as np\n",
    "\n",
    "class Server(object):\n",
    "    \"\"\"Server with constant service times\"\"\" \n",
    "    \n",
    "    def __init__(self, env):\n",
    "        self.env = env\n",
    "        self.server = simpy.Resource(env, capacity=personnelAmount) #amount of servers\n",
    "    \n",
    "    # select the shortest service time or the first in line\n",
    "    def server_time(self): \n",
    "        #print(len(servicetimes))\n",
    "        if servicePreference == 'shortestServiceFirst':\n",
    "            tempvalue = np.amin(servicetimes)\n",
    "            servicetimes.remove(tempvalue)\n",
    "            return tempvalue\n",
    "        if servicePreference == 'firstInFirstOut':\n",
    "            tempvalue = servicetimes[0]\n",
    "            del servicetimes[0]\n",
    "            return tempvalue\n",
    "        \n",
    "    def serve(self):\n",
    "        serve_time = self.server_time()\n",
    "        yield self.env.timeout(serve_time)\n",
    "    \n",
    "    _server_time = server_time\n",
    "    _variabele = \"Hoi\"\n",
    "    \n",
    "class Server2(Server):\n",
    "    \n",
    "    def server_time(self):\n",
    "        return 2 "
   ]
  },
  {
   "cell_type": "code",
   "execution_count": 74,
   "metadata": {},
   "outputs": [],
   "source": [
    "class Customer(object):\n",
    "    \"\"\"\n",
    "    For each customer we record the arrivaltime, \n",
    "    the response time and the departure time.\n",
    "\n",
    "    \"\"\"\n",
    "    def __init__(self, env, sv):\n",
    "        self.env = env\n",
    "        self.sv = sv\n",
    "        self.time_in_line = 0  \n",
    "        servicetimes.append(np.random.exponential(mu,1)) # mu service time  \n",
    "        \n",
    "        if serviceRateDistribution == 'ExponentialDistribution':\n",
    "            servicetimes.append(np.random.exponential(mu,1)) # mu service time \n",
    "            \n",
    "        if serviceRateDistribution == 'LongtailDistribution':\n",
    "            random_number = np.random.random()\n",
    "            if random_number > 1./10:\n",
    "                server_time = np.random.exponential(mu,1) # mu service time \n",
    "            if random_number <= 1./10:\n",
    "                server_time = np.random.exponential(2*mu,1) # mu service time \n",
    "            servicetimes.append(server_time)\n",
    "    \n",
    "        if serviceRateDistribution == 'BimodalDistribution':\n",
    "            float_maker = 1000.\n",
    "            random_number = np.random.random()\n",
    "            if random_number > 1./10:\n",
    "                server_time = np.random.exponential(mu,1)\n",
    "            if random_number <= 1./10:              \n",
    "                server_time = [1 + np.random.normal()/10.]\n",
    "            servicetimes.append(server_time)                 \n",
    "            \n",
    "    def enqueue(self):\n",
    "        #print(\"Arrived at %f\" % (self.env.now))\n",
    "        with self.sv.server.request() as request:\n",
    "            self.time_in_line = self.env.now\n",
    "            yield request\n",
    "            self.time_in_line = self.env.now - self.time_in_line\n",
    "            #print(\"Has waited at %f\" % (self.time_in_line))\n",
    "            datastorage.append(self.time_in_line)\n",
    "            #print(\"Started serving at %f\" % (self.env.now))\n",
    "            yield self.env.process(self.sv.serve())\n",
    "            #print(\"Finished serving at %f\" % (self.env.now)) "
   ]
  },
  {
   "cell_type": "code",
   "execution_count": 75,
   "metadata": {},
   "outputs": [],
   "source": [
    "class CustomerGenerator(object):\n",
    "    \"\"\"Creates new customers\"\"\"\n",
    "    def __init__(self,env,sv):\n",
    "        self.env = env\n",
    "        self.sv = sv\n",
    "        self.max_customers = customerAmount\n",
    "        \n",
    "    def arrival_time(self):\n",
    "        randomNumber = np.random.exponential(1./interarrivalTime,1) #1/lambda = interarravial time\n",
    "        return randomNumber\n",
    "    \n",
    "    def run(self):\n",
    "        customers = 0\n",
    "        while customers < self.max_customers:\n",
    "            arrival_time = self.arrival_time()\n",
    "            yield self.env.timeout(arrival_time)\n",
    "            \n",
    "            customers += 1\n",
    "            new_customer = Customer(self.env, self.sv)\n",
    "            self.env.process(new_customer.enqueue())"
   ]
  },
  {
   "cell_type": "code",
   "execution_count": 76,
   "metadata": {},
   "outputs": [],
   "source": [
    "datastorage = []\n",
    "servicetimes = []\n",
    "\n",
    "class QTExperiment(object):\n",
    "    \"\"\" Easy interface to generate a queue \"\"\"\n",
    "    \n",
    "    def __init__(self):\n",
    "        self.env = simpy.Environment()\n",
    "        self.server = Server(self.env)\n",
    "        self.generator = CustomerGenerator(self.env, self.server)\n",
    "        \n",
    "    def run(self):\n",
    "        self.env.process(self.generator.run())\n",
    "        self.env.run()"
   ]
  },
  {
   "cell_type": "code",
   "execution_count": 77,
   "metadata": {},
   "outputs": [
    {
     "name": "stdout",
     "output_type": "stream",
     "text": [
      "mm\n",
      "sm\n",
      "ms\n",
      "ss\n",
      "0.8314433984291906\n",
      "0.5979584055858967\n",
      "0.8448518042833234\n",
      "0.42348636781831994\n",
      "\n",
      "1.0277570157384999\n",
      "1.7031509824583482\n",
      "1.0514164111527242\n",
      "200\n"
     ]
    }
   ],
   "source": [
    "datastorage = []\n",
    "servicetimes = []\n",
    "\n",
    "exp = QTExperiment().run()\n",
    "#print(datastorage[100])\n",
    "meandata = []\n",
    "sigmadata = []\n",
    "\n",
    "for i in range(200):\n",
    "    meandata.append(np.mean(datastorage[i*int(samplingSpace) + int(halfMargin):(i+1)*int(samplingSpace) - int(halfMargin)]))\n",
    "    sigmadata.append(np.std(datastorage[i*int(samplingSpace) + int(halfMargin):(i+1)*int(samplingSpace) - int(halfMargin)]))\n",
    "\n",
    "print \"mm\"\n",
    "print \"sm\"\n",
    "print \"ms\"\n",
    "print \"ss\"\n",
    "print np.mean(meandata)\n",
    "print np.std(meandata)\n",
    "print np.mean(sigmadata)\n",
    "print np.std(sigmadata)\n",
    "print \n",
    "jump = 60\n",
    "print np.mean(datastorage[jump*1200 + 100:jump*1200 + 1100])\n",
    "print np.mean(datastorage[jump*2*1200 + 100:jump*2*1200 + 1100])\n",
    "print np.mean(datastorage[jump*3*1200 + 100:jump*3*1200 + 1100])\n",
    "\n",
    "meanMean8 = []\n",
    "meanMean8 = meandata\n",
    "print len(meanMean1)"
   ]
  },
  {
   "cell_type": "code",
   "execution_count": 78,
   "metadata": {},
   "outputs": [
    {
     "name": "stdout",
     "output_type": "stream",
     "text": [
      "Ttest_indResult(statistic=21.397086781553273, pvalue=3.695792012598977e-68)\n",
      "23.23558861368508\n"
     ]
    }
   ],
   "source": [
    "from scipy.stats import ttest_ind\n",
    "statisticalResult = ttest_ind(meanMean1, meanMean8)\n",
    "print statisticalResult\n",
    "print np.var(meanMean1)"
   ]
  },
  {
   "cell_type": "code",
   "execution_count": 61,
   "metadata": {},
   "outputs": [
    {
     "name": "stdout",
     "output_type": "stream",
     "text": [
      "[5.2354156308766795, 5.708778559452745, 6.675717397367133, 7.278554531467467, 13.93610187730939, 4.6370046804132565, 5.489015341396286, 5.6948351750318364, 10.140836157314022, 4.467964507555809, 4.317793091972761, 12.834871407692892, 5.7284790773919045, 7.793639453198077, 11.95418412101239, 7.189142545218499, 4.50893524471069, 7.088320426528939, 4.1556157668272204, 15.976034104008228, 5.462617742863084, 6.065308899927863, 12.67202026698689, 6.490612526839865, 9.810420124277123, 7.130748006114321, 5.373269981179266, 6.44618239701735, 7.186648018247477, 7.891559866865755, 4.671564750150275, 7.196326999671968, 4.575393638731235, 4.209187689074672, 5.188179512191295, 15.01072750650163, 7.663130265768639, 26.65028009560052, 2.444951842534836, 5.782530804855254, 5.385251446514325, 3.6570679429753, 7.732544332168524, 5.32721562192808, 6.42284525975876, 3.524763588949863, 7.373095275842024, 9.81051484032136, 10.346617103754724, 11.989137115483551, 8.100811750273431, 7.061127252119892, 15.16623047843804, 10.336784167986712, 6.653017042619016, 4.619462341758466, 6.887596140428083, 10.091515191613361, 6.028473161884744, 5.111971882538375, 39.27290690302879, 5.563764389890552, 4.3030266331148885, 7.729792362997032, 2.096526297234217, 8.178662303386446, 5.46724227944616, 7.169173373501617, 5.749944766774861, 5.52584729922298, 7.9482647731149045, 4.762393710746895, 29.320843320707862, 10.993642904549269, 6.407223149357291, 3.9562037731045856, 16.200373081888145, 7.017901193817336, 7.498340433826117, 18.99459399230231, 7.4170659232460165, 25.032737920069426, 15.675425118815198, 6.969887043454073, 7.642858236353947, 9.87549307281828, 8.601330608095799, 4.292746835381608, 4.7495762907985775, 12.808773647381226, 5.325746700762101, 10.539426535500068, 10.555504761371441, 12.918391948264208, 8.301275469454689, 7.7986928490290595, 22.085473831653974, 15.805498017383114, 6.789729819553045, 11.037069759100632, 7.241175679136533, 12.896323325941935, 6.021200886507286, 10.945179644525489, 4.269869004628199, 9.37584993325056, 4.84545245600697, 11.679961091487057, 5.856656194667041, 8.81756470310883, 4.665273776182759, 4.0021389102420075, 7.808065206640982, 5.071955867293087, 9.55721723233047, 9.485363954484667, 2.871627167366125, 14.559912162785622, 8.572239877673768, 8.528427185495618, 12.179237152802816, 11.197835526119627, 7.54223846613607, 6.875637073864753, 6.2630795010951985, 15.060688849045313, 7.552204895301198, 9.43729316498575, 12.557223231509823, 4.919553039267659, 11.706909785711527, 6.09534181419402, 5.777161277704785, 6.669759847793641, 3.6402167698148697, 6.532277194773604, 5.219863148542063, 6.92414202100315, 8.599530343640975, 7.240214879995881, 6.790871719089395, 5.632679281539109, 3.9242378463097847, 3.5485149281888444, 6.120669398532191, 8.316941294041607, 7.268581254946126, 10.425620169240894, 4.264678980069963, 15.58366871330439, 7.598733699612581, 8.934368312461126, 3.9559933679019452, 9.976744678218587, 7.2834135950451895, 4.019009010667388, 9.745221151703765, 5.853054264347768, 8.820586150681338, 2.337458711922285, 9.604830036408908, 4.3608851598554175, 3.9240187422416057, 14.46145083798407, 5.582500886624301, 9.47805686272669, 9.870885587941594, 7.939900062317785, 16.943371783855373, 4.049219952999498, 9.250295308634987, 6.709059603177739, 6.080593338244275, 5.3393428818380055, 4.089809607667383, 5.3284229925540565, 7.979844408586418, 3.1564306970759644, 17.786440736861202, 4.827610410072113, 4.0350824146532105, 4.9215145134434275, 4.006637932297774, 5.812959623972303, 22.005596057567338, 8.07690120847139, 10.171790792829531, 4.667322392669565, 6.318995053422317, 9.433832865857722, 2.816200446400646, 4.9337862730946505, 5.635449087848014, 4.604842815462413, 9.050555415926995, 2.89368932318993, 7.877726906345546, 11.672569960705587, 7.4100523143488095, 8.48191423610755]\n"
     ]
    }
   ],
   "source": [
    "print meanMean1"
   ]
  },
  {
   "cell_type": "code",
   "execution_count": 52,
   "metadata": {},
   "outputs": [
    {
     "name": "stdout",
     "output_type": "stream",
     "text": [
      "[6.121078026911094, 4.381314836867936, 3.677845155809904, 1.807523827913298, 3.225962568906882, 3.4449579044813814, 5.346286123480895, 4.098391699413001, 2.9613537096295377, 2.6327986875455727, 4.001134659857802, 2.519359742186135, 2.0901516199708494, 4.398521946603427, 2.714705500963888, 2.798337720409054, 4.5236748588793, 2.992215764059509, 1.9392142174473501, 1.8909084051694371, 2.5439988329413152, 4.2927776766264945, 4.721736448291453, 2.1315690624427934, 2.153320878564771, 2.3219025886630043, 1.0715658530424899, 1.7409666758226376, 6.145018816053336, 2.3834817765616574, 1.5811616230626133, 8.827422647967937, 3.2483405044984646, 2.577872949925735, 1.533682200998177, 3.332557396703374, 5.976009931685268, 2.46493361979453, 3.378909136124719, 5.442655589273254, 2.4977156716730207, 1.476568171789484, 2.361576842246606, 3.820623559519005, 2.8283986698159316, 3.3492178162489328, 3.676408225448955, 4.573442184794821, 4.180817561531345, 3.006913677838951, 5.654612057251266, 5.751237363297878, 5.094759093894296, 4.7070978510273855, 3.7539302685824403, 5.928807614994657, 3.094352376703624, 2.556726783178652, 2.2562382884567267, 2.619789168831587, 1.8003086830678148, 5.027710463396441, 1.603159450983272, 9.917322695057294, 2.471632428971374, 4.086233533849714, 4.211709546763486, 2.1594534910666554, 4.819090929661594, 3.1618465295187272, 8.942720742848541, 2.2220166977092157, 4.9337309471807895, 2.2431977090584914, 1.8244928840745125, 3.572293219342646, 1.9983804495184012, 1.7855935739416526, 3.2077128515241786, 2.2058208879609227, 6.567373669132918, 3.096590110187455, 3.553421881155882, 8.429046935609104, 3.330644906135174, 4.103103778418685, 1.6631658074221267, 2.5646316960283513, 3.6998637056050065, 1.8245913485210186, 4.1310481776515084, 2.427613088653532, 5.782144240387082, 2.705977671526423, 2.1114277720192187, 10.48446609992395, 2.942111174930731, 11.801530413963315, 5.1970644202428735, 3.6680833242107402, 2.4821962895485123, 2.292027376709419, 2.8339896626113914, 5.7107382624641465, 1.764418110601393, 8.76811503607589, 2.7326200025569634, 3.0905764765860875, 7.869319214277115, 2.2379379706355538, 3.326343069494964, 2.550349903706723, 4.68301262116, 2.6744117350925225, 2.0159298754886112, 6.736846806467074, 4.081721724442658, 3.1339968437119823, 5.00092837049604, 3.3133314080111305, 4.351484321637021, 2.9565492873696786, 3.4933816728407256, 2.6263237591135256, 6.571950449144453, 3.2398084750455745, 4.620828012067432, 1.3585972925161913, 2.5969255605028594, 2.535599620381443, 6.873514070440855, 2.2386482522514415, 3.5439529577156645, 3.474989559622045, 2.775810236670528, 7.769661450479209, 1.8118263984135266, 1.9733202608817082, 3.2017339729226806, 5.075650750996167, 9.005014988405485, 3.663170433760621, 1.3831400484875922, 2.964088494077063, 2.4568575977326543, 1.733639074975552, 3.028609865732258, 10.865403063575869, 3.5177315117726686, 2.0799887347870682, 3.147229444983983, 3.7949594181068096, 8.273710094085269, 1.9577039045191487, 2.1413530132428567, 2.19891273569857, 3.6154138261152258, 2.572224761144229, 1.9533092485392407, 4.831605246077946, 2.234675570660751, 3.6617490267994435, 2.4810753275762836, 4.756577667756719, 3.842362404266023, 5.86034783619779, 2.658422093070549, 2.8908288050521658, 5.3083799249596195, 4.800294287688157, 5.065043236212412, 3.0545962854458777, 2.783767453493041, 2.5472132510308874, 1.5785139129178425, 3.2508481141184458, 2.403913837279906, 4.386166776579688, 3.272739636275073, 2.281340827260661, 2.8348281208746196, 4.0008473048793824, 1.5654880247409455, 2.6395432586759853, 4.786299570200601, 2.402001309211206, 8.180949612390293, 4.187338956318825, 1.6906529588533012, 1.8517433384694595, 8.733702345888771, 2.684192185529668, 3.8000924111058705, 2.063013125472251, 2.4977401709350233, 1.5020473280600708, 9.556975837294347, 4.26614032796718, 1.9522183403708915, 10.813943163402145]\n"
     ]
    }
   ],
   "source": [
    "print meanMean2"
   ]
  },
  {
   "cell_type": "code",
   "execution_count": null,
   "metadata": {},
   "outputs": [],
   "source": []
  }
 ],
 "metadata": {
  "kernelspec": {
   "display_name": "Python 2",
   "language": "python",
   "name": "python2"
  },
  "language_info": {
   "codemirror_mode": {
    "name": "ipython",
    "version": 2
   },
   "file_extension": ".py",
   "mimetype": "text/x-python",
   "name": "python",
   "nbconvert_exporter": "python",
   "pygments_lexer": "ipython2",
   "version": "2.7.15"
  }
 },
 "nbformat": 4,
 "nbformat_minor": 2
}
