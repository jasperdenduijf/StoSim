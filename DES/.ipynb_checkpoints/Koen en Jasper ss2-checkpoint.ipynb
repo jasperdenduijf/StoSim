{
 "cells": [
  {
   "cell_type": "code",
   "execution_count": 1,
   "metadata": {},
   "outputs": [],
   "source": [
    "import simpy\n",
    "from __future__ import division"
   ]
  },
  {
   "cell_type": "markdown",
   "metadata": {
    "collapsed": true
   },
   "source": [
    "## Simpy tutorial"
   ]
  },
  {
   "cell_type": "markdown",
   "metadata": {},
   "source": [
    "### Generator statements"
   ]
  },
  {
   "cell_type": "code",
   "execution_count": 2,
   "metadata": {},
   "outputs": [],
   "source": [
    "def range_(n):\n",
    "    i = 0\n",
    "    while i < n:\n",
    "        yield i\n",
    "        i += 1"
   ]
  },
  {
   "cell_type": "code",
   "execution_count": 3,
   "metadata": {},
   "outputs": [
    {
     "name": "stdout",
     "output_type": "stream",
     "text": [
      "0\n",
      "1\n",
      "2\n",
      "3\n",
      "4\n",
      "5\n",
      "6\n",
      "7\n",
      "8\n",
      "9\n"
     ]
    }
   ],
   "source": [
    "for value in range_(10):\n",
    "    print(value)"
   ]
  },
  {
   "cell_type": "code",
   "execution_count": 16,
   "metadata": {},
   "outputs": [
    {
     "name": "stdout",
     "output_type": "stream",
     "text": [
      "<generator object range_ at 0x000001F106314468>\n"
     ]
    }
   ],
   "source": [
    "x = range_(10)\n",
    "print(x)"
   ]
  },
  {
   "cell_type": "code",
   "execution_count": 17,
   "metadata": {},
   "outputs": [
    {
     "name": "stdout",
     "output_type": "stream",
     "text": [
      "0\n"
     ]
    }
   ],
   "source": [
    "print(next(x))"
   ]
  },
  {
   "cell_type": "markdown",
   "metadata": {},
   "source": [
    "### Simpy basics"
   ]
  },
  {
   "cell_type": "code",
   "execution_count": 18,
   "metadata": {},
   "outputs": [],
   "source": [
    "def car(env):\n",
    "    while True:\n",
    "        print('Start parking at %d' % env.now)\n",
    "        parking_duration = 5\n",
    "        yield env.timeout(parking_duration)\n",
    "        print('Start driving at %d' % env.now)\n",
    "        trip_duration = 2\n",
    "        yield env.timeout(trip_duration)"
   ]
  },
  {
   "cell_type": "code",
   "execution_count": 19,
   "metadata": {},
   "outputs": [
    {
     "name": "stdout",
     "output_type": "stream",
     "text": [
      "Start parking at 0\n",
      "Start driving at 5\n",
      "Start parking at 7\n",
      "Start driving at 12\n",
      "Start parking at 14\n"
     ]
    }
   ],
   "source": [
    "env = simpy.Environment()\n",
    "env.process(car(env))\n",
    "env.run(until=15)"
   ]
  },
  {
   "cell_type": "markdown",
   "metadata": {},
   "source": [
    "### In classes"
   ]
  },
  {
   "cell_type": "code",
   "execution_count": 20,
   "metadata": {},
   "outputs": [],
   "source": [
    "class Car(object):\n",
    "    def __init__(self, env):\n",
    "        self.env = env\n",
    "        self.action = env.process(self.run())\n",
    "        \n",
    "    def run(self):\n",
    "        while True:\n",
    "            print('Start parking and charging at %d' % self.env.now)\n",
    "            charge_duration = 5\n",
    "            # We may get interrupted while charging the battery\n",
    "            try:\n",
    "                yield self.env.process(self.charge(charge_duration))\n",
    "            except simpy.Interrupt:\n",
    "                # When we received an interrupt, we stop charging and\n",
    "                # switch to the \"driving\" state\n",
    "                print('Was interrupted. Hope, the battery is full enough ...')\n",
    "\n",
    "            print('Start driving at %d' % self.env.now)\n",
    "            trip_duration = 2\n",
    "            yield self.env.timeout(trip_duration)\n",
    "\n",
    "    def charge(self, duration):\n",
    "            yield self.env.timeout(duration)"
   ]
  },
  {
   "cell_type": "code",
   "execution_count": 21,
   "metadata": {},
   "outputs": [],
   "source": [
    "def driver(env, car):\n",
    "    yield env.timeout(3)\n",
    "    car.action.interrupt()"
   ]
  },
  {
   "cell_type": "code",
   "execution_count": 22,
   "metadata": {},
   "outputs": [
    {
     "name": "stdout",
     "output_type": "stream",
     "text": [
      "Start parking and charging at 0\n",
      "Was interrupted. Hope, the battery is full enough ...\n",
      "Start driving at 3\n",
      "Start parking and charging at 5\n",
      "Start driving at 10\n",
      "Start parking and charging at 12\n"
     ]
    }
   ],
   "source": [
    "env = simpy.Environment()\n",
    "car = Car(env)\n",
    "env.process(driver(env,car))\n",
    "env.run(until=15)"
   ]
  },
  {
   "cell_type": "markdown",
   "metadata": {},
   "source": [
    "### Resources/Servers"
   ]
  },
  {
   "cell_type": "code",
   "execution_count": 23,
   "metadata": {},
   "outputs": [],
   "source": [
    "def car(env, name, bcs, driving_time, charge_duration):\n",
    "    # Simulate driving to the BCS\n",
    "    yield env.timeout(driving_time)\n",
    "\n",
    "    # Request one of its charging spots\n",
    "    print('%s arriving at %d' % (name, env.now))\n",
    "    with bcs.request() as req:\n",
    "        yield req\n",
    "        # Charge the battery\n",
    "        print('%s starting to charge at %s' % (name, env.now))\n",
    "        yield env.timeout(charge_duration)\n",
    "        print('%s leaving the bcs at %s' % (name, env.now))"
   ]
  },
  {
   "cell_type": "code",
   "execution_count": 24,
   "metadata": {},
   "outputs": [
    {
     "name": "stdout",
     "output_type": "stream",
     "text": [
      "Car 0 arriving at 0\n",
      "Car 0 starting to charge at 0\n",
      "Car 1 arriving at 2\n",
      "Car 1 starting to charge at 2\n",
      "Car 2 arriving at 4\n",
      "Car 0 leaving the bcs at 5\n",
      "Car 2 starting to charge at 5\n",
      "Car 3 arriving at 6\n",
      "Car 1 leaving the bcs at 7\n",
      "Car 3 starting to charge at 7\n",
      "Car 2 leaving the bcs at 10\n",
      "Car 3 leaving the bcs at 12\n"
     ]
    }
   ],
   "source": [
    "env = simpy.Environment()\n",
    "bcs = simpy.Resource(env, capacity=2)\n",
    "for i in range(4):\n",
    "    env.process(car(env, 'Car %d' % i, bcs, i*2, 5))\n",
    "env.run()"
   ]
  },
  {
   "cell_type": "markdown",
   "metadata": {},
   "source": [
    "### Generator classes"
   ]
  },
  {
   "cell_type": "code",
   "execution_count": 20,
   "metadata": {},
   "outputs": [],
   "source": [
    "# Exponential distribution\n",
    "import numpy as np\n",
    "\n",
    "class Server(object):\n",
    "    \"\"\"Server with constant service times\"\"\" \n",
    "    \n",
    "    def __init__(self, env):\n",
    "        self.env = env\n",
    "        self.server = simpy.Resource(env, capacity=1)\n",
    "    \n",
    "    def server_time(self): \n",
    "        return np.random.exponential(1/8,1)\n",
    "    \n",
    "    def serve(self):\n",
    "        serve_time = self.server_time()\n",
    "        yield self.env.timeout(serve_time)\n",
    "    \n",
    "    _server_time = server_time\n",
    "    _variabele = \"Hoi\"\n",
    "    \n",
    "class Server2(Server):\n",
    "    \n",
    "    def server_time(self):\n",
    "        return 2\n",
    "\n",
    "    "
   ]
  },
  {
   "cell_type": "code",
   "execution_count": 8,
   "metadata": {},
   "outputs": [],
   "source": [
    "# longtail distribution\n",
    "import numpy as np\n",
    "\n",
    "class Server(object):\n",
    "    \"\"\"Server with constant service times\"\"\" \n",
    "    \n",
    "    def __init__(self, env):\n",
    "        self.env = env\n",
    "        self.server = simpy.Resource(env, capacity=1)\n",
    "    \n",
    "    def server_time(self): \n",
    "        random_number = np.random.random()\n",
    "        if random_number > 1./1:\n",
    "            server_time = np.random.exponential(1/8,1)\n",
    "        if random_number <= 1./1:\n",
    "            server_time = np.random.exponential(5/8,1)\n",
    "        return server_time\n",
    "    \n",
    "    def serve(self):\n",
    "        serve_time = self.server_time()\n",
    "        yield self.env.timeout(serve_time)\n",
    "    \n",
    "    _server_time = server_time\n",
    "    _variabele = \"Hoi\"\n",
    "    \n",
    "class Server2(Server):\n",
    "    \n",
    "    def server_time(self):\n",
    "        return 2\n",
    "\n",
    "    "
   ]
  },
  {
   "cell_type": "code",
   "execution_count": 40,
   "metadata": {},
   "outputs": [],
   "source": [
    "# bimodal distribution\n",
    "\"\"\"\n",
    "# bimodal distribution, with exponential and poisson turned into float\n",
    "def server_time_bimodal():\n",
    "    random_number = np.random.random()\n",
    "    if random_number > 1./8:\n",
    "        server_time = np.random.exponential(1,1)\n",
    "    if random_number <= 1./8:\n",
    "        server_time = [np.random.poisson(4*float_maker)/float_maker]\n",
    "    return server_time\n",
    "\n",
    "times = []\n",
    "for n in range(samples):\n",
    "    server_time = server_time_longtail()\n",
    "    times.append(server_time[0])\n",
    "\n",
    "print 'mean service time bimodal =', np.mean(times)\n",
    "\n",
    "plt.figure(figsize=(10,10))\n",
    "plt.hist(times, 50)\n",
    "plt.show\n",
    "\"\"\"\n",
    "import numpy as np\n",
    "\n",
    "class Server(object):\n",
    "    \"\"\"Server with constant service times\"\"\" \n",
    "    \n",
    "    def __init__(self, env):\n",
    "        self.env = env\n",
    "        self.server = simpy.Resource(env, capacity=8)\n",
    "    \n",
    "    def server_time(self):\n",
    "        float_maker = 1000.\n",
    "        random_number = np.random.random()\n",
    "        if random_number > 1./8:\n",
    "            server_time = np.random.exponential(1,1)\n",
    "        if random_number <= 1./8:\n",
    "            server_time = [np.random.poisson(4*float_maker)/float_maker]\n",
    "        return server_time\n",
    "    \n",
    "    def serve(self):\n",
    "        serve_time = self.server_time()\n",
    "        yield self.env.timeout(serve_time)\n",
    "    \n",
    "    _server_time = server_time\n",
    "    _variabele = \"Hoi\"\n",
    "    \n",
    "class Server2(Server):\n",
    "    \n",
    "    def server_time(self):\n",
    "        return 2\n",
    "\n",
    "    "
   ]
  },
  {
   "cell_type": "code",
   "execution_count": 9,
   "metadata": {},
   "outputs": [
    {
     "data": {
      "text/plain": [
       "'\\nprint(sv1.server_time())\\nprint(sv2.server_time())\\nprint(sv2._server_time())\\nprint(sv2._variabele)\\n\\n'"
      ]
     },
     "execution_count": 9,
     "metadata": {},
     "output_type": "execute_result"
    }
   ],
   "source": [
    "env = simpy.Environment()\n",
    "sv1  = Server(env)\n",
    "sv2 = Server2(sv1)\n",
    "\"\"\"\n",
    "print(sv1.server_time())\n",
    "print(sv2.server_time())\n",
    "print(sv2._server_time())\n",
    "print(sv2._variabele)\n",
    "\n",
    "\"\"\""
   ]
  },
  {
   "cell_type": "code",
   "execution_count": 10,
   "metadata": {},
   "outputs": [],
   "source": [
    "class Customer(object):\n",
    "    \"\"\"\n",
    "    For each customer we record the arrivaltime, \n",
    "    the response time and the departure time.\n",
    "\n",
    "    \"\"\"\n",
    "    def __init__(self, env, sv):\n",
    "        self.env = env\n",
    "        self.sv = sv\n",
    "        self.time_in_line = 0\n",
    "        \n",
    "        \n",
    "    def enqueue(self):\n",
    "        #print(\"Arrived at %f\" % (self.env.now))\n",
    "        with self.sv.server.request() as request:\n",
    "            self.time_in_line = self.env.now\n",
    "            yield request\n",
    "            self.time_in_line = self.env.now - self.time_in_line\n",
    "            #print(\"Has waited at %f\" % (self.time_in_line))\n",
    "            datastorage.append(self.time_in_line)\n",
    "            #print(\"Started serving at %f\" % (self.env.now))\n",
    "            yield self.env.process(self.sv.serve())\n",
    "            #print(\"Finished serving at %f\" % (self.env.now))\n",
    "            "
   ]
  },
  {
   "cell_type": "code",
   "execution_count": 11,
   "metadata": {},
   "outputs": [],
   "source": [
    "class CustomerGenerator(object):\n",
    "    \"\"\"Creates new customers\"\"\"\n",
    "    def __init__(self,env,sv):\n",
    "        self.env = env\n",
    "        self.sv = sv\n",
    "        self.max_customers = 239000\n",
    "        \n",
    "    \n",
    "    def arrival_time(self):\n",
    "        randomNumber = np.random.exponential(1/8,1)\n",
    "        return randomNumber\n",
    "    \n",
    "    def run(self):\n",
    "        customers = 0\n",
    "        while customers < self.max_customers:\n",
    "            arrival_time = self.arrival_time()\n",
    "            yield self.env.timeout(arrival_time)\n",
    "            \n",
    "            customers += 1\n",
    "            new_customer = Customer(self.env, self.sv)\n",
    "            self.env.process(new_customer.enqueue())"
   ]
  },
  {
   "cell_type": "code",
   "execution_count": 12,
   "metadata": {},
   "outputs": [],
   "source": [
    "datastorage = []\n",
    "\n",
    "class QTExperiment(object):\n",
    "    \"\"\" Easy interface to generate a queue \"\"\"\n",
    "    \n",
    "    def __init__(self):\n",
    "        self.env = simpy.Environment()\n",
    "        self.server = Server(self.env)\n",
    "        self.generator = CustomerGenerator(self.env, self.server)\n",
    "        \n",
    "    def run(self):\n",
    "        self.env.process(self.generator.run())\n",
    "        self.env.run()"
   ]
  },
  {
   "cell_type": "code",
   "execution_count": 13,
   "metadata": {},
   "outputs": [
    {
     "name": "stdout",
     "output_type": "stream",
     "text": [
      "mm\n",
      "sm\n",
      "ms\n",
      "ss\n",
      "60109.000176261456\n",
      "34693.38985174352\n",
      "143.712854108905\n",
      "11.182522465406926\n"
     ]
    }
   ],
   "source": [
    "datastorage = []\n",
    "exp = QTExperiment().run()\n",
    "#print(datastorage[100])\n",
    "meandata = []\n",
    "sigmadata = []\n",
    "for i in range(200):\n",
    "    meandata.append(np.mean(datastorage[i*1200 + 100:i*1200 + 1100]))\n",
    "    sigmadata.append(np.std(datastorage[i*1200 + 100:i*1200 + 1100]))\n",
    "\n",
    "print \"mm\"\n",
    "print \"sm\" \n",
    "print \"ms\"\n",
    "print \"ss\"\n",
    "print np.mean(meandata)\n",
    "print np.std(meandata) \n",
    "print np.mean(sigmadata) \n",
    "print np.std(sigmadata)"
   ]
  },
  {
   "cell_type": "code",
   "execution_count": null,
   "metadata": {},
   "outputs": [],
   "source": []
  }
 ],
 "metadata": {
  "kernelspec": {
   "display_name": "Python 2",
   "language": "python",
   "name": "python2"
  },
  "language_info": {
   "codemirror_mode": {
    "name": "ipython",
    "version": 2
   },
   "file_extension": ".py",
   "mimetype": "text/x-python",
   "name": "python",
   "nbconvert_exporter": "python",
   "pygments_lexer": "ipython2",
   "version": "2.7.15"
  }
 },
 "nbformat": 4,
 "nbformat_minor": 2
}
