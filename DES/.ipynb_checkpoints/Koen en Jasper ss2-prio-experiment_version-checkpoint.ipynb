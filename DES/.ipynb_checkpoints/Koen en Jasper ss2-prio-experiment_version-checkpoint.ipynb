{
 "cells": [
  {
   "cell_type": "markdown",
   "metadata": {},
   "source": [
    "First in of shortest job?"
   ]
  },
  {
   "cell_type": "code",
   "execution_count": 37,
   "metadata": {},
   "outputs": [],
   "source": [
    "# indicate shortestServiceFirst or firstInFirstOut\n",
    "servicePreference = 'firstInFirstOut'\n",
    "# indicate ExponentialDistribution, LongtailDistribution or BimodalDistribution\n",
    "serviceRateDistribution = 'LongtailDistribution'\n",
    "mu = 0.90 # mean service time\n",
    "personnelAmount = 8 #amount of servers\n",
    "interarrivalTime = 8 # denominator/divisor interarravial time"
   ]
  },
  {
   "cell_type": "code",
   "execution_count": 38,
   "metadata": {},
   "outputs": [],
   "source": [
    "import simpy\n",
    "from __future__ import division"
   ]
  },
  {
   "cell_type": "code",
   "execution_count": 39,
   "metadata": {},
   "outputs": [],
   "source": [
    "servicetimes = []\n",
    "import numpy as np\n",
    "\n",
    "class Server(object):\n",
    "    \"\"\"Server with constant service times\"\"\" \n",
    "    \n",
    "    def __init__(self, env):\n",
    "        self.env = env\n",
    "        self.server = simpy.Resource(env, capacity=personnelAmount) #amount of servers\n",
    "    \n",
    "    # select the shortest service time or the first in line\n",
    "    def server_time(self): \n",
    "        #print(len(servicetimes))\n",
    "        if servicePreference == 'shortestServiceFirst':\n",
    "            tempvalue = np.amin(servicetimes)\n",
    "            servicetimes.remove(tempvalue)\n",
    "            return tempvalue\n",
    "        if servicePreference == 'firstInFirstOut':\n",
    "            tempvalue = servicetimes[0]\n",
    "            del servicetimes[0]\n",
    "            return tempvalue\n",
    "        \n",
    "    def serve(self):\n",
    "        serve_time = self.server_time()\n",
    "        yield self.env.timeout(serve_time)\n",
    "    \n",
    "    _server_time = server_time\n",
    "    _variabele = \"Hoi\"\n",
    "    \n",
    "class Server2(Server):\n",
    "    \n",
    "    def server_time(self):\n",
    "        return 2 "
   ]
  },
  {
   "cell_type": "code",
   "execution_count": 43,
   "metadata": {},
   "outputs": [],
   "source": [
    "class Customer(object):\n",
    "    \"\"\"\n",
    "    For each customer we record the arrivaltime, \n",
    "    the response time and the departure time.\n",
    "\n",
    "    \"\"\"\n",
    "    def __init__(self, env, sv):\n",
    "        self.env = env\n",
    "        self.sv = sv\n",
    "        self.time_in_line = 0  \n",
    "        servicetimes.append(np.random.exponential(mu,1)) # mu service time  \n",
    "        \n",
    "        if serviceRateDistribution == 'ExponentialDistribution':\n",
    "            servicetimes.append(np.random.exponential(mu,1)) # mu service time \n",
    "            \n",
    "        if serviceRateDistribution == 'LongtailDistribution':\n",
    "            random_number = np.random.random()\n",
    "            if random_number > 1./4:\n",
    "                server_time = np.random.exponential(mu,1) # mu service time \n",
    "            if random_number <= 1./4:\n",
    "                server_time = np.random.exponential(5*mu,1) # mu service time \n",
    "            servicetimes.append(server_time)\n",
    "    \n",
    "        if serviceRateDistribution == 'BimodalDistribution':\n",
    "            float_maker = 1000.\n",
    "            random_number = np.random.random()\n",
    "            if random_number > 1./8:\n",
    "                server_time = np.random.exponential(mu,1)\n",
    "            if random_number <= 1./8:              \n",
    "                server_time = [5 + np.random.normal()/10.]\n",
    "            servicetimes.append(server_time)                 \n",
    "            \n",
    "    def enqueue(self):\n",
    "        #print(\"Arrived at %f\" % (self.env.now))\n",
    "        with self.sv.server.request() as request:\n",
    "            self.time_in_line = self.env.now\n",
    "            yield request\n",
    "            self.time_in_line = self.env.now - self.time_in_line\n",
    "            #print(\"Has waited at %f\" % (self.time_in_line))\n",
    "            datastorage.append(self.time_in_line)\n",
    "            #print(\"Started serving at %f\" % (self.env.now))\n",
    "            yield self.env.process(self.sv.serve())\n",
    "            #print(\"Finished serving at %f\" % (self.env.now))          "
   ]
  },
  {
   "cell_type": "code",
   "execution_count": 44,
   "metadata": {},
   "outputs": [],
   "source": [
    "class CustomerGenerator(object):\n",
    "    \"\"\"Creates new customers\"\"\"\n",
    "    def __init__(self,env,sv):\n",
    "        self.env = env\n",
    "        self.sv = sv\n",
    "        self.max_customers = 239000\n",
    "        \n",
    "    \n",
    "    def arrival_time(self):\n",
    "        randomNumber = np.random.exponential(1./interarrivalTime,1) #1/lambda = interarravial time\n",
    "        return randomNumber\n",
    "    \n",
    "    def run(self):\n",
    "        customers = 0\n",
    "        while customers < self.max_customers:\n",
    "            arrival_time = self.arrival_time()\n",
    "            yield self.env.timeout(arrival_time)\n",
    "            \n",
    "            customers += 1\n",
    "            new_customer = Customer(self.env, self.sv)\n",
    "            self.env.process(new_customer.enqueue())"
   ]
  },
  {
   "cell_type": "code",
   "execution_count": 45,
   "metadata": {},
   "outputs": [],
   "source": [
    "datastorage = []\n",
    "servicetimes = []\n",
    "\n",
    "class QTExperiment(object):\n",
    "    \"\"\" Easy interface to generate a queue \"\"\"\n",
    "    \n",
    "    def __init__(self):\n",
    "        self.env = simpy.Environment()\n",
    "        self.server = Server(self.env)\n",
    "        self.generator = CustomerGenerator(self.env, self.server)\n",
    "        \n",
    "    def run(self):\n",
    "        self.env.process(self.generator.run())\n",
    "        self.env.run()"
   ]
  },
  {
   "cell_type": "code",
   "execution_count": null,
   "metadata": {},
   "outputs": [],
   "source": [
    "datastorage = []\n",
    "servicetimes = []\n",
    "\n",
    "exp = QTExperiment().run()\n",
    "#print(datastorage[100])\n",
    "meandata = []\n",
    "sigmadata = []\n",
    "for i in range(200):\n",
    "    meandata.append(np.mean(datastorage[i*1200 + 100:i*1200 + 1100]))\n",
    "    sigmadata.append(np.std(datastorage[i*1200 + 100:i*1200 + 1100]))\n",
    "\n",
    "print \"mm\"\n",
    "print \"sm\"\n",
    "print \"ms\"\n",
    "print \"ss\"\n",
    "print np.mean(meandata)\n",
    "print np.std(meandata)\n",
    "print np.mean(sigmadata)\n",
    "print np.std(sigmadata)"
   ]
  },
  {
   "cell_type": "code",
   "execution_count": null,
   "metadata": {},
   "outputs": [],
   "source": []
  }
 ],
 "metadata": {
  "kernelspec": {
   "display_name": "Python 2",
   "language": "python",
   "name": "python2"
  },
  "language_info": {
   "codemirror_mode": {
    "name": "ipython",
    "version": 2
   },
   "file_extension": ".py",
   "mimetype": "text/x-python",
   "name": "python",
   "nbconvert_exporter": "python",
   "pygments_lexer": "ipython2",
   "version": "2.7.15"
  }
 },
 "nbformat": 4,
 "nbformat_minor": 2
}
