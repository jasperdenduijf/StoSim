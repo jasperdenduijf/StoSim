{
 "cells": [
  {
   "cell_type": "code",
   "execution_count": 43,
   "metadata": {},
   "outputs": [],
   "source": [
    "# indicate shortestServiceFirst or firstInFirstOut\n",
    "servicePreference = 'shortestServiceFirst'\n",
    "# indicate ExponentialDistribution, LongtailDistribution or BimodalDistribution, AllSame\n",
    "serviceRateDistribution = 'ExponentialDistribution'\n",
    "mu = 0.90 # mean service time\n",
    "personnelAmount = 1 #amount of servers\n",
    "interarrivalTime = 1 #denominator/divisor interarravial time\n",
    "customerAmount = 239000 #  amount of customers to visit the shop\n",
    "samplingSpace = customerAmount / 239 * 240 / 200\n",
    "halfMargin = samplingSpace / 12"
   ]
  },
  {
   "cell_type": "code",
   "execution_count": 44,
   "metadata": {},
   "outputs": [],
   "source": [
    "import simpy\n",
    "from __future__ import division"
   ]
  },
  {
   "cell_type": "code",
   "execution_count": 45,
   "metadata": {},
   "outputs": [],
   "source": [
    "servicetimes = []\n",
    "import numpy as np\n",
    "\n",
    "class Server(object):\n",
    "    \"\"\"Server with constant service times\"\"\" \n",
    "    \n",
    "    def __init__(self, env):\n",
    "        self.env = env\n",
    "        self.server = simpy.Resource(env, capacity=personnelAmount) #amount of servers\n",
    "    \n",
    "    # select the shortest service time or the first in line\n",
    "    def server_time(self): \n",
    "        #print(len(servicetimes))\n",
    "        if servicePreference == 'shortestServiceFirst':\n",
    "            tempvalue = np.amin(servicetimes)\n",
    "            servicetimes.remove(tempvalue)\n",
    "            return tempvalue\n",
    "        if servicePreference == 'firstInFirstOut':\n",
    "            tempvalue = servicetimes[0]\n",
    "            del servicetimes[0]\n",
    "            return tempvalue\n",
    "        \n",
    "    def serve(self):\n",
    "        serve_time = self.server_time()\n",
    "        yield self.env.timeout(serve_time)\n",
    "    \n",
    "    _server_time = server_time\n",
    "    _variabele = \"Hoi\"\n",
    "    \n",
    "class Server2(Server):\n",
    "    \n",
    "    def server_time(self):\n",
    "        return 2 "
   ]
  },
  {
   "cell_type": "code",
   "execution_count": 46,
   "metadata": {},
   "outputs": [],
   "source": [
    "class Customer(object):\n",
    "    \"\"\"\n",
    "    For each customer we record the arrivaltime, \n",
    "    the response time and the departure time.\n",
    "\n",
    "    \"\"\"\n",
    "    def __init__(self, env, sv):\n",
    "        self.env = env\n",
    "        self.sv = sv\n",
    "        self.time_in_line = 0  \n",
    "        #servicetimes.append(np.random.exponential(mu,1)) # mu service time   I THINK THIS SHOULD BE DELETED\n",
    "        \n",
    "        if serviceRateDistribution == 'ExponentialDistribution':\n",
    "            servicetimes.append(np.random.exponential(mu,1)) # mu service time \n",
    "            \n",
    "        if serviceRateDistribution == 'LongtailDistribution':\n",
    "            random_number = np.random.random()\n",
    "            if random_number > 1./4:\n",
    "                server_time = np.random.exponential(mu/5,1) # mu service time \n",
    "            if random_number <= 1./4:\n",
    "                server_time = np.random.exponential(3.4*mu,1) # mu service time \n",
    "            servicetimes.append(server_time) \n",
    "    \n",
    "        if serviceRateDistribution == 'BimodalDistribution':\n",
    "            random_number = np.random.random()\n",
    "            if random_number > 1./10:\n",
    "                server_time = np.random.exponential(mu,1)\n",
    "            if random_number <= 1./10:              \n",
    "                server_time = [1 + np.random.normal()/10.]\n",
    "            servicetimes.append(server_time) \n",
    "        \n",
    "        if serviceRateDistribution == 'AllSame:\n",
    "            random_number = np.random.random()\n",
    "            if random_number > 1./10:\n",
    "                server_time = np.random.exponential(mu,1)\n",
    "            if random_number <= 1./10:              \n",
    "                server_time = [1 + np.random.normal()/10.]\n",
    "            servicetimes.append(server_time) \n",
    "            \n",
    "    def enqueue(self):\n",
    "        #print(\"Arrived at %f\" % (self.env.now))\n",
    "        with self.sv.server.request() as request:\n",
    "            self.time_in_line = self.env.now\n",
    "            yield request\n",
    "            self.time_in_line = self.env.now - self.time_in_line\n",
    "            #print(\"Has waited at %f\" % (self.time_in_line))\n",
    "            datastorage.append(self.time_in_line)\n",
    "            #print(\"Started serving at %f\" % (self.env.now))\n",
    "            yield self.env.process(self.sv.serve())\n",
    "            #print(\"Finished serving at %f\" % (self.env.now)) "
   ]
  },
  {
   "cell_type": "code",
   "execution_count": 47,
   "metadata": {},
   "outputs": [],
   "source": [
    "class CustomerGenerator(object):\n",
    "    \"\"\"Creates new customers\"\"\"\n",
    "    def __init__(self,env,sv):\n",
    "        self.env = env\n",
    "        self.sv = sv\n",
    "        self.max_customers = customerAmount\n",
    "        \n",
    "    def arrival_time(self):\n",
    "        randomNumber = np.random.exponential(1./interarrivalTime,1) #1/lambda = interarravial time\n",
    "        return randomNumber\n",
    "    \n",
    "    def run(self):\n",
    "        customers = 0\n",
    "        while customers < self.max_customers:\n",
    "            arrival_time = self.arrival_time()\n",
    "            yield self.env.timeout(arrival_time)\n",
    "            \n",
    "            customers += 1\n",
    "            new_customer = Customer(self.env, self.sv)\n",
    "            self.env.process(new_customer.enqueue())"
   ]
  },
  {
   "cell_type": "code",
   "execution_count": 48,
   "metadata": {},
   "outputs": [],
   "source": [
    "datastorage = []\n",
    "servicetimes = []\n",
    "\n",
    "class QTExperiment(object):\n",
    "    \"\"\" Easy interface to generate a queue \"\"\"\n",
    "    \n",
    "    def __init__(self):\n",
    "        self.env = simpy.Environment()\n",
    "        self.server = Server(self.env)\n",
    "        self.generator = CustomerGenerator(self.env, self.server)\n",
    "        \n",
    "    def run(self):\n",
    "        self.env.process(self.generator.run())\n",
    "        self.env.run()"
   ]
  },
  {
   "cell_type": "code",
   "execution_count": 49,
   "metadata": {},
   "outputs": [
    {
     "name": "stdout",
     "output_type": "stream",
     "text": [
      "mm\n",
      "sm\n",
      "ms\n",
      "ss\n",
      "2.8939012904608545\n",
      "1.1050833464007954\n",
      "2.225723311460423\n",
      "0.6689855090978244\n",
      "\n",
      "2.534302253885573\n",
      "2.597409535790386\n",
      "4.271693185374955\n"
     ]
    }
   ],
   "source": [
    "datastorage = []\n",
    "servicetimes = []\n",
    "\n",
    "exp = QTExperiment().run()\n",
    "#print(datastorage[100])\n",
    "meandata = []\n",
    "sigmadata = []\n",
    "\n",
    "for i in range(200):\n",
    "    meandata.append(np.mean(datastorage[i*int(samplingSpace) + int(halfMargin):(i+1)*int(samplingSpace) - int(halfMargin)]))\n",
    "    sigmadata.append(np.std(datastorage[i*int(samplingSpace) + int(halfMargin):(i+1)*int(samplingSpace) - int(halfMargin)]))\n",
    "\n",
    "print \"mm\"\n",
    "print \"sm\"\n",
    "print \"ms\"\n",
    "print \"ss\"\n",
    "print np.mean(meandata)\n",
    "print np.std(meandata)\n",
    "print np.mean(sigmadata)\n",
    "print np.std(sigmadata)\n",
    "print \n",
    "jump = 60\n",
    "print np.mean(datastorage[jump*1200 + 100:jump*1200 + 1100])\n",
    "print np.mean(datastorage[jump*2*1200 + 100:jump*2*1200 + 1100])\n",
    "print np.mean(datastorage[jump*3*1200 + 100:jump*3*1200 + 1100])"
   ]
  },
  {
   "cell_type": "code",
   "execution_count": 50,
   "metadata": {},
   "outputs": [
    {
     "name": "stdout",
     "output_type": "stream",
     "text": [
      "200\n",
      "[2.6614181512543933, 3.994716064779376, 1.9550367397854758, 1.9121177178830717, 2.7960937534487775, 3.7081816495351205, 2.3861145291376387, 2.8939409942749315, 4.7581299392416545, 3.8745367365061045, 1.8460486848226556, 3.9379012117213734, 1.9874707074178095, 2.016097998899466, 1.81236451960876, 2.304796413588323, 3.321026018951121, 1.8363208715885484, 7.6665096316847885, 4.127894488787235, 5.4072740286107726, 4.023297534337933, 2.7083684569580364, 4.380818179559465, 6.203002142407237, 2.2023825958850467, 3.9022939675728847, 2.0775652791995927, 3.3647982700274004, 2.3427932593465446, 1.4024676074997915, 2.543400274917418, 2.4071271442713624, 2.217981635259428, 1.9423173894785868, 3.0680539233452144, 2.923321386698561, 3.9021832840063655, 4.391114268569327, 2.2572119738200054, 2.999203865549636, 4.010121920164297, 2.3878754025464803, 1.7965583246253591, 2.4113103781052705, 2.099780209758341, 3.1435615435928046, 3.238773832476465, 2.4034486564097532, 2.771069460393541, 3.520770548030974, 1.9233764323796423, 4.543514464038286, 2.630665622307948, 2.159065015364176, 7.589118862060917, 2.761169337365427, 3.415714901887695, 2.9804516618117343, 2.657162451174707, 2.534302253885573, 3.1476768008866203, 2.3687894143780577, 1.8191740288159344, 2.455860739593496, 2.81334570429851, 2.4919130505992944, 3.284605083233459, 2.540581161071226, 2.525135968324379, 2.9865618220476464, 5.056960809038035, 4.637129758064067, 2.497603145395609, 1.84932896891571, 2.0666429685458425, 3.042592479532599, 2.309727916968739, 2.7362575336418957, 2.7002581754724524, 2.913926427395927, 3.615693642908911, 2.365894234619991, 2.496469823735475, 2.132813629703116, 2.8817066510899165, 2.0045392762680567, 1.808974424121363, 2.952908241943427, 2.199431898854498, 1.8961902685032546, 4.270609768781258, 2.658047745275966, 3.20800885101578, 2.7684653859918473, 2.67137905204916, 1.9150252397541043, 3.898148894232174, 1.9287423373045312, 1.9290621577587443, 2.585335757494133, 2.566795804460664, 3.1084534094487606, 3.4587378031254774, 4.883915415273164, 3.18954866851063, 2.124898829300233, 1.8907698160616129, 3.3830269607795054, 4.416742047195119, 2.29389485313982, 2.6591603656274385, 2.4440077208082656, 1.749488154758059, 2.686856457470218, 3.1770460085464003, 3.440037662271323, 1.903510861018236, 2.376798117683531, 4.019560284192761, 2.597409535790386, 2.5474411226169034, 2.277773119182151, 2.419504979201767, 2.582573618110182, 1.8863255315608112, 2.0088215424600637, 1.6300971375328082, 2.147708599516889, 4.281174704672856, 3.170780641911668, 2.9613602633680856, 2.115771392135968, 1.935800406676135, 2.5136374539433746, 1.7901655615757337, 1.9644350975467533, 2.4348496523824577, 3.355903365575563, 3.0764216979462655, 3.3906473984326584, 2.9525198709419636, 2.521258042913425, 4.249899083691271, 2.3124468138565715, 3.5244721564121138, 2.7507366951493895, 2.131334458530444, 2.2886670911565017, 2.4177870568620854, 2.9067390791420182, 2.3982838619183457, 3.5930537885386147, 3.4847036482012483, 2.5394373047284318, 9.403301681726239, 3.034531699726911, 2.536163047726033, 1.9973202114707382, 2.004986414617859, 1.451939108083432, 2.0394325480638944, 2.7462706621811375, 2.052761585351895, 2.5213198014156077, 2.0921095264943723, 5.401596708863449, 2.042695482714771, 1.7971682512446423, 2.4706078852642968, 1.9676730206885842, 3.195234930580977, 2.670200743505644, 4.059737557277287, 5.124764784639847, 2.3949570002685943, 3.2118995598382027, 2.32434903282029, 2.8026010823272225, 2.2841724820671954, 4.271693185374955, 2.3341146534146975, 2.244319379190303, 1.8969218452144705, 1.9049019559104636, 2.495194601662224, 3.610750189597602, 2.929899980910675, 2.948453301607864, 2.421715196655976, 2.873172003842279, 2.281372675624327, 2.4132109665054013, 2.0611467661179192, 4.907590639136062, 3.2505979886607093, 5.4729698111453615, 2.022822835850675, 4.666245177891862, 1.3391553088030195]\n"
     ]
    }
   ],
   "source": [
    "meanSJF = []\n",
    "meanSJF = meandata\n",
    "print len(meanSJF)\n",
    "print meanSJF"
   ]
  },
  {
   "cell_type": "code",
   "execution_count": 42,
   "metadata": {},
   "outputs": [
    {
     "name": "stdout",
     "output_type": "stream",
     "text": [
      "200\n",
      "[4.466316942525484, 3.316279526768546, 10.123035732382093, 6.847634039093877, 8.05815906693973, 5.943663476548988, 4.011725274302578, 8.531101908178828, 4.516690588771978, 4.416907125022815, 8.296986014616401, 3.8783424416767573, 6.062798354337603, 7.349127848399093, 5.660526310053057, 5.035947804344057, 13.88954591705967, 10.161523112799834, 6.684815627124863, 7.550529337055407, 8.008130943316354, 8.813722231999746, 5.475122645488736, 5.286871860778349, 22.882132441653262, 9.875866708557401, 4.610584320966828, 4.651778729421458, 12.434756768527674, 5.560297512141784, 7.348433181239358, 14.29228413413321, 5.570201788458617, 3.9011594316032716, 12.208198595289133, 7.1574280690449665, 5.23847098511309, 9.99056635327221, 9.039689346435908, 7.294428935584212, 5.115812697497, 5.621845676170735, 2.983995406018308, 12.675555080126593, 21.66553744584458, 9.35895902906188, 4.5258723197674335, 7.763251473612021, 4.287514206067855, 9.451090093118218, 39.27600756857944, 31.736881841299628, 4.135531757559314, 9.19105570482216, 16.244714873506737, 7.6822130635270875, 5.497355561160177, 6.066774658852955, 8.300015124056983, 4.79773851324532, 3.4722781033453796, 26.68947203206933, 31.76125075044672, 11.535352101986428, 6.008079899292498, 7.314632898528521, 15.108972147832057, 5.211428060408624, 9.429962789863959, 9.332719226142085, 10.83393158776345, 4.726401315944735, 10.531602325013955, 4.797525133561052, 3.7102505769127747, 19.640496807167978, 4.343398759379212, 8.966905672069508, 6.526440936397121, 6.223402850958577, 20.926033826397646, 5.847573967937992, 4.346789768842471, 8.600192375090758, 6.605115234803292, 6.7137304961103945, 11.974084426482877, 13.874866172779278, 5.4455807612252976, 17.03402643478825, 10.171628588513355, 6.162898788796418, 4.29230062929634, 12.630444093746672, 6.870781757914083, 9.141164195008038, 3.9967551567513584, 8.741876001871221, 3.805912584262958, 5.452510185877196, 6.304426031214258, 7.995089446247832, 5.9749669735814965, 7.638029523529433, 7.567900604336129, 11.986505369482039, 5.387165204679594, 6.217251026955913, 5.074491783101373, 12.247741286655975, 3.0259431667124446, 20.893305520790367, 6.790419641685614, 5.688541378673894, 11.974600709114224, 6.280303832677513, 5.349230519699893, 5.699643107929558, 7.230115182085632, 25.293503472391254, 5.9357191317586695, 15.14675326284385, 7.770323615506524, 4.270234136500803, 6.872604913817224, 8.054876843255478, 6.449271240778034, 9.981861614534603, 6.059346419075446, 18.714094702542557, 7.5579314544776866, 20.31448490093459, 6.914199158963369, 15.176860533860308, 3.588993337259919, 4.9098961176839655, 8.94423774175832, 14.498203949194721, 3.9641816840444806, 4.7640810691040825, 6.189665073190729, 9.236459450133028, 9.170112989726942, 7.8587320502910005, 8.690380318858486, 11.743546805566234, 8.525219333799207, 6.7565849192369205, 4.27455819444923, 10.531670669346058, 7.350904058110289, 6.098314576210163, 3.789086414592137, 12.336717913834581, 7.44375483006952, 4.267842041047436, 4.77944931956596, 10.941827064270328, 5.0823413270642925, 4.262475861527462, 26.404950577080015, 8.566244431965403, 7.123360495392816, 5.424937853879877, 4.668900130310037, 16.16237365718375, 5.503673391796445, 3.6680835240554006, 5.843417903732247, 13.581998180279712, 9.317870767457352, 8.89028477055265, 15.84267466708977, 8.185356988306914, 4.374103056697262, 4.815660703201924, 5.197275308505167, 7.111507944542361, 5.207977969943604, 4.532780098773364, 3.365404765078536, 8.747807461316349, 8.927181041659177, 6.073774231943011, 7.281933337608003, 7.517367714620341, 6.6826942092072565, 4.040012064495997, 6.874921868480305, 4.050730639962159, 8.612633984073211, 4.846932264720759, 5.742167270867503, 10.315648559179536, 7.132145666794036, 9.335734718106862, 6.383866157699784, 5.305641824123712, 6.972558809244685, 6.225353895767767]\n"
     ]
    }
   ],
   "source": [
    "meanFIFO = []\n",
    "meanFIFO = meandata\n",
    "print len(meanFIFO)\n",
    "print meanFIFO"
   ]
  },
  {
   "cell_type": "code",
   "execution_count": 78,
   "metadata": {},
   "outputs": [
    {
     "name": "stdout",
     "output_type": "stream",
     "text": [
      "Ttest_indResult(statistic=21.397086781553273, pvalue=3.695792012598977e-68)\n",
      "23.23558861368508\n"
     ]
    }
   ],
   "source": [
    "from scipy.stats import ttest_ind\n",
    "statisticalResult = ttest_ind(meanMean1, meanMean8)\n",
    "print statisticalResult\n",
    "print np.var(meanMean1)"
   ]
  },
  {
   "cell_type": "code",
   "execution_count": null,
   "metadata": {},
   "outputs": [],
   "source": []
  }
 ],
 "metadata": {
  "kernelspec": {
   "display_name": "Python 2",
   "language": "python",
   "name": "python2"
  },
  "language_info": {
   "codemirror_mode": {
    "name": "ipython",
    "version": 2
   },
   "file_extension": ".py",
   "mimetype": "text/x-python",
   "name": "python",
   "nbconvert_exporter": "python",
   "pygments_lexer": "ipython2",
   "version": "2.7.15"
  }
 },
 "nbformat": 4,
 "nbformat_minor": 2
}
