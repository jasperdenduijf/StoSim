{
 "cells": [
  {
   "cell_type": "code",
   "execution_count": 19,
   "metadata": {},
   "outputs": [],
   "source": [
    "import simpy\n",
    "import random\n",
    "import math\n",
    "\n",
    "class Customers(object):\n",
    "    def __init__(self, env):\n",
    "        self.env = env\n",
    "        # Start the run process everytime an instance is created.\n",
    "        self.action = env.process(self.run())\n",
    "        queueLength = 0\n",
    "        \n",
    "    def run(self):\n",
    "        while True:\n",
    "            print('No customers in the shop')\n",
    "            arrivalTime = 10* - math.log(random.random())\n",
    "            yield self.env.timeout(arrivalTime)\n",
    "            \n",
    "            print('Start serving customer at %d' % self.env.now)\n",
    "            serviceDuration = 10* - math.log(random.random())\n",
    "            yield self.env.timeout(serviceDuration)\n",
    "            \n",
    "            print('Start being idle at %d' % self.env.now)\n",
    "            idleDuration = 10* - math.log(random.random())\n",
    "            yield self.env.timeout(idleDuration)\n",
    "    \n",
    "    def DetermineQueueLength():\n",
    "        noUse\n",
    "        \n",
    "            "
   ]
  },
  {
   "cell_type": "code",
   "execution_count": 19,
   "metadata": {},
   "outputs": [],
   "source": [
    "import simpy\n",
    "import random\n",
    "import math\n",
    "\n",
    "class Customers(object):\n",
    "    def __init__(self, env):\n",
    "        self.env = env\n",
    "        # Start the run process everytime an instance is created.\n",
    "        self.action = env.process(self.run())\n",
    "        queueLength = 0\n",
    "        \n",
    "    def serveCustomer(self):\n",
    "        while True:\n",
    "            \n",
    "            print('Start serving customer at %d' % self.env.now)\n",
    "            serviceDuration = 10* - math.log(random.random())\n",
    "            yield self.env.timeout(serviceDuration)\n",
    "            \n",
    "            print('Start being idle at %d' % self.env.now)\n",
    "            idleDuration = 10* - math.log(random.random())\n",
    "            yield self.env.timeout(idleDuration)\n",
    "    \n",
    "    def DetermineQueueLength(self):\n",
    "        noUse\n",
    "        \n",
    "            "
   ]
  },
  {
   "cell_type": "code",
   "execution_count": 21,
   "metadata": {},
   "outputs": [
    {
     "name": "stdout",
     "output_type": "stream",
     "text": [
      "No customers in the shop\n",
      "Start serving customer at 7\n",
      "Start being idle at 15\n",
      "No customers in the shop\n",
      "Start serving customer at 34\n",
      "Start being idle at 40\n",
      "No customers in the shop\n",
      "Start serving customer at 47\n",
      "Start being idle at 53\n",
      "No customers in the shop\n",
      "Start serving customer at 90\n",
      "Start being idle at 98\n"
     ]
    }
   ],
   "source": [
    "env = simpy.Environment()\n",
    "customers = Customers(env)\n",
    "env.run(until=100)"
   ]
  },
  {
   "cell_type": "code",
   "execution_count": 7,
   "metadata": {},
   "outputs": [
    {
     "name": "stdout",
     "output_type": "stream",
     "text": [
      "2.79002504765\n",
      "0.406839967599\n",
      "1.3209799692\n",
      "1.26081434143\n",
      "4.76568279911\n",
      "0.265446666719\n",
      "0.522539651263\n",
      "0.398827339486\n",
      "0.101071423401\n",
      "0.455188280145\n",
      "0.468154896975\n",
      "0.249176876114\n",
      "0.359164833514\n",
      "0.853416815095\n",
      "0.705666751959\n",
      "1.79665213645\n",
      "0.886640764054\n",
      "2.21147917093\n",
      "1.57037351238\n",
      "0.618310958672\n"
     ]
    }
   ],
   "source": [
    "for i in range(20):\n",
    "    print - math.log(random.random())"
   ]
  },
  {
   "cell_type": "code",
   "execution_count": 22,
   "metadata": {},
   "outputs": [
    {
     "name": "stdout",
     "output_type": "stream",
     "text": [
      "fast 0\n",
      "slow 0\n",
      "fast 0.5\n",
      "slow 1\n",
      "fast 1.0\n",
      "fast 1.5\n"
     ]
    }
   ],
   "source": [
    "# https://simpy.readthedocs.io/en/latest/simpy_intro/basic_concepts.html\n",
    "\n",
    "def clock(env, name, tick):\n",
    "    while True:\n",
    "        print name, env.now\n",
    "        yield env.timeout(tick)\n",
    "\n",
    "env = simpy.Environment()\n",
    "env.process(clock(env, 'fast', 0.5))\n",
    "env.process(clock(env, 'slow', 1))\n",
    "env.run(until=2)"
   ]
  },
  {
   "cell_type": "code",
   "execution_count": null,
   "metadata": {},
   "outputs": [],
   "source": [
    "def retail(env):\n",
    "    while True:\n",
    "        yield env.timeout(10* - math.log(random.random()))\n",
    "        print 'Being idle'\n",
    "        "
   ]
  },
  {
   "cell_type": "code",
   "execution_count": 30,
   "metadata": {},
   "outputs": [],
   "source": [
    "class Car(object):\n",
    "    def __init__(self, env):\n",
    "        self.env = env\n",
    "        # Start the run process everytime an instance is created.\n",
    "        self.action = env.process(self.run())\n",
    "        \n",
    "    def run(self):\n",
    "        while True:\n",
    "            print('Start parking and charging at %d' % self.env.now)\n",
    "            charge_duration = 5\n",
    "            \n",
    "            # We yield the process that process() returns\n",
    "            # to wait for it to finish\n",
    "            yield self.env.process(self.charge(charge_duration))\n",
    "            \n",
    "            # The charge process has finished and\n",
    "            # we can start driving again.\n",
    "            print('Start driving at %d' % self.env.now)\n",
    "            trip_duration = 2\n",
    "            yield self.env.timeout(trip_duration)\n",
    "            \n",
    "    def charge(self, duration):\n",
    "        yield self.env.timeout(duration)"
   ]
  },
  {
   "cell_type": "code",
   "execution_count": 31,
   "metadata": {},
   "outputs": [
    {
     "name": "stdout",
     "output_type": "stream",
     "text": [
      "Start parking and charging at 0\n",
      "Start driving at 5\n",
      "Start parking and charging at 7\n",
      "Start driving at 12\n",
      "Start parking and charging at 14\n"
     ]
    }
   ],
   "source": [
    "env = simpy.Environment()\n",
    "car = Car(env)\n",
    "env.run(until=15)"
   ]
  },
  {
   "cell_type": "code",
   "execution_count": 74,
   "metadata": {},
   "outputs": [],
   "source": [
    "class Customer(object):\n",
    "    def __init__(self, env):\n",
    "        self.env = env\n",
    "        # Start the run process everytime an instance is created.\n",
    "        self.action = env.process(self.run())\n",
    "        self.customers = 10\n",
    "    \n",
    "    def run(self):\n",
    "        while True:\n",
    "            while self.customers > 0:\n",
    "                ServiceDuration = 10* - math.log(random.random())\n",
    "                ServiceDuration = 10* - math.log(random.random())\n",
    "                print('the service has started at %f' % (self.env.now))\n",
    "                yield self.env.process(self.serve(ServiceDuration))\n",
    "                self.customers -= 1\n",
    "                print('there are %d customers waiting in line' % (self.customers))\n",
    "                print('the service has finished at %f' % self.env.now)\n",
    "                print\n",
    "            \n",
    "            \n",
    "    def serve(self, duration):\n",
    "        yield self.env.timeout(duration)\n",
    "        \n",
    "            "
   ]
  },
  {
   "cell_type": "code",
   "execution_count": 75,
   "metadata": {},
   "outputs": [
    {
     "name": "stdout",
     "output_type": "stream",
     "text": [
      "the service has started at 0.000000\n",
      "there are 9 customers waiting in line\n",
      "the service has finished at 5.228113\n",
      "\n",
      "the service has started at 5.228113\n",
      "there are 8 customers waiting in line\n",
      "the service has finished at 15.137514\n",
      "\n",
      "the service has started at 15.137514\n",
      "there are 7 customers waiting in line\n",
      "the service has finished at 19.882058\n",
      "\n",
      "the service has started at 19.882058\n",
      "there are 6 customers waiting in line\n",
      "the service has finished at 22.407471\n",
      "\n",
      "the service has started at 22.407471\n",
      "there are 5 customers waiting in line\n",
      "the service has finished at 40.315868\n",
      "\n",
      "the service has started at 40.315868\n",
      "there are 4 customers waiting in line\n",
      "the service has finished at 42.344980\n",
      "\n",
      "the service has started at 42.344980\n",
      "there are 3 customers waiting in line\n",
      "the service has finished at 47.991462\n",
      "\n",
      "the service has started at 47.991462\n",
      "there are 2 customers waiting in line\n",
      "the service has finished at 49.585983\n",
      "\n",
      "the service has started at 49.585983\n",
      "there are 1 customers waiting in line\n",
      "the service has finished at 52.226175\n",
      "\n",
      "the service has started at 52.226175\n",
      "there are 0 customers waiting in line\n",
      "the service has finished at 105.844609\n",
      "\n"
     ]
    },
    {
     "ename": "KeyboardInterrupt",
     "evalue": "",
     "output_type": "error",
     "traceback": [
      "\u001b[0;31m---------------------------------------------------------------------------\u001b[0m",
      "\u001b[0;31mKeyboardInterrupt\u001b[0m                         Traceback (most recent call last)",
      "\u001b[0;32m<ipython-input-75-66d76f3fe0c8>\u001b[0m in \u001b[0;36m<module>\u001b[0;34m()\u001b[0m\n\u001b[1;32m      1\u001b[0m \u001b[0menv\u001b[0m \u001b[0;34m=\u001b[0m \u001b[0msimpy\u001b[0m\u001b[0;34m.\u001b[0m\u001b[0mEnvironment\u001b[0m\u001b[0;34m(\u001b[0m\u001b[0;34m)\u001b[0m\u001b[0;34m\u001b[0m\u001b[0m\n\u001b[1;32m      2\u001b[0m \u001b[0mcustomer\u001b[0m \u001b[0;34m=\u001b[0m \u001b[0mCustomer\u001b[0m\u001b[0;34m(\u001b[0m\u001b[0menv\u001b[0m\u001b[0;34m)\u001b[0m\u001b[0;34m\u001b[0m\u001b[0m\n\u001b[0;32m----> 3\u001b[0;31m \u001b[0menv\u001b[0m\u001b[0;34m.\u001b[0m\u001b[0mrun\u001b[0m\u001b[0;34m(\u001b[0m\u001b[0muntil\u001b[0m\u001b[0;34m=\u001b[0m\u001b[0;36m150\u001b[0m\u001b[0;34m)\u001b[0m\u001b[0;34m\u001b[0m\u001b[0m\n\u001b[0m",
      "\u001b[0;32m/Users/koengreuell/anaconda2/lib/python2.7/site-packages/simpy/core.pyc\u001b[0m in \u001b[0;36mrun\u001b[0;34m(self, until)\u001b[0m\n\u001b[1;32m    136\u001b[0m         \u001b[0;32mtry\u001b[0m\u001b[0;34m:\u001b[0m\u001b[0;34m\u001b[0m\u001b[0m\n\u001b[1;32m    137\u001b[0m             \u001b[0;32mwhile\u001b[0m \u001b[0mTrue\u001b[0m\u001b[0;34m:\u001b[0m\u001b[0;34m\u001b[0m\u001b[0m\n\u001b[0;32m--> 138\u001b[0;31m                 \u001b[0mself\u001b[0m\u001b[0;34m.\u001b[0m\u001b[0mstep\u001b[0m\u001b[0;34m(\u001b[0m\u001b[0;34m)\u001b[0m\u001b[0;34m\u001b[0m\u001b[0m\n\u001b[0m\u001b[1;32m    139\u001b[0m         \u001b[0;32mexcept\u001b[0m \u001b[0mStopSimulation\u001b[0m \u001b[0;32mas\u001b[0m \u001b[0mexc\u001b[0m\u001b[0;34m:\u001b[0m\u001b[0;34m\u001b[0m\u001b[0m\n\u001b[1;32m    140\u001b[0m             \u001b[0;32mreturn\u001b[0m \u001b[0mexc\u001b[0m\u001b[0;34m.\u001b[0m\u001b[0margs\u001b[0m\u001b[0;34m[\u001b[0m\u001b[0;36m0\u001b[0m\u001b[0;34m]\u001b[0m  \u001b[0;31m# == until.value\u001b[0m\u001b[0;34m\u001b[0m\u001b[0m\n",
      "\u001b[0;32m/Users/koengreuell/anaconda2/lib/python2.7/site-packages/simpy/core.pyc\u001b[0m in \u001b[0;36mstep\u001b[0;34m(self)\u001b[0m\n\u001b[1;32m    228\u001b[0m             \u001b[0mexc\u001b[0m \u001b[0;34m=\u001b[0m \u001b[0mtype\u001b[0m\u001b[0;34m(\u001b[0m\u001b[0mevent\u001b[0m\u001b[0;34m.\u001b[0m\u001b[0m_value\u001b[0m\u001b[0;34m)\u001b[0m\u001b[0;34m(\u001b[0m\u001b[0;34m*\u001b[0m\u001b[0mevent\u001b[0m\u001b[0;34m.\u001b[0m\u001b[0m_value\u001b[0m\u001b[0;34m.\u001b[0m\u001b[0margs\u001b[0m\u001b[0;34m)\u001b[0m\u001b[0;34m\u001b[0m\u001b[0m\n\u001b[1;32m    229\u001b[0m             \u001b[0mexc\u001b[0m\u001b[0;34m.\u001b[0m\u001b[0m__cause__\u001b[0m \u001b[0;34m=\u001b[0m \u001b[0mevent\u001b[0m\u001b[0;34m.\u001b[0m\u001b[0m_value\u001b[0m\u001b[0;34m\u001b[0m\u001b[0m\n\u001b[0;32m--> 230\u001b[0;31m             \u001b[0;32mraise\u001b[0m \u001b[0mexc\u001b[0m\u001b[0;34m\u001b[0m\u001b[0m\n\u001b[0m",
      "\u001b[0;31mKeyboardInterrupt\u001b[0m: "
     ]
    }
   ],
   "source": [
    "env = simpy.Environment()\n",
    "customer = Customer(env)\n",
    "env.run(until=150)"
   ]
  },
  {
   "cell_type": "code",
   "execution_count": 50,
   "metadata": {},
   "outputs": [
    {
     "name": "stdout",
     "output_type": "stream",
     "text": [
      "the service of customer 1 has started at 0.500000\n"
     ]
    }
   ],
   "source": [
    "print 'the service of customer %d has started at %f' % (1, .5)"
   ]
  },
  {
   "cell_type": "code",
   "execution_count": null,
   "metadata": {},
   "outputs": [],
   "source": []
  }
 ],
 "metadata": {
  "kernelspec": {
   "display_name": "Python 2",
   "language": "python",
   "name": "python2"
  },
  "language_info": {
   "codemirror_mode": {
    "name": "ipython",
    "version": 2
   },
   "file_extension": ".py",
   "mimetype": "text/x-python",
   "name": "python",
   "nbconvert_exporter": "python",
   "pygments_lexer": "ipython2",
   "version": "2.7.15"
  }
 },
 "nbformat": 4,
 "nbformat_minor": 2
}
