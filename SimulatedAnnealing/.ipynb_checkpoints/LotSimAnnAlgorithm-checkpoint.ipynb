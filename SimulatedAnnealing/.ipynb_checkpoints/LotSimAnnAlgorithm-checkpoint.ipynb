{
 "cells": [
  {
   "cell_type": "markdown",
   "metadata": {},
   "source": [
    "doubt on:\n",
    "the correct Metropolis step code\n",
    "\n",
    "work on:\n",
    "\n",
    "X cooling schedule (exponential decay)\n",
    "\n",
    "X odeint\n",
    "\n",
    "X accept 98% (only for present settings)\n",
    "\n",
    "determine right samplingspace\n",
    "\n",
    "X randomly change one or more variables\n",
    "\n",
    "\n",
    "Can we not get stuck in a local minimum by changing one parameter at a time? see picture '2dLocalMinima'\n",
    "\n",
    "Annealing temperature:\n",
    "\n",
    "A good rule of thumb is that your initial temperature Tmax should be set to accept roughly 98% of the moves \n",
    "and that the final temperature Tmin should be low enough that the solution does not improve much, if at all.\n",
    "\n",
    "The number of steps can influence the results; \n",
    "if there are not enough iterations to adequately explore the search space it can get trapped at a local minimum.\n",
    "\n",
    "steven said a samplingspace of 2 should work\n",
    "\n",
    "e^-verschil/T\n",
    "\n",
    "is el[0] goed?"
   ]
  },
  {
   "cell_type": "code",
   "execution_count": 1,
   "metadata": {},
   "outputs": [
    {
     "data": {
      "application/javascript": [
       "IPython.OutputArea.prototype._should_scroll = function(lines) {\n",
       "    return false;\n",
       "}\n",
       "// from https://stackoverflow.com/questions/36757301/disable-ipython-notebook-autoscrolling\n",
       "// disable scroll"
      ],
      "text/plain": [
       "<IPython.core.display.Javascript object>"
      ]
     },
     "metadata": {},
     "output_type": "display_data"
    }
   ],
   "source": [
    "%%javascript\n",
    "IPython.OutputArea.prototype._should_scroll = function(lines) {\n",
    "    return false;\n",
    "}\n",
    "// from https://stackoverflow.com/questions/36757301/disable-ipython-notebook-autoscrolling\n",
    "// disable scroll"
   ]
  },
  {
   "cell_type": "code",
   "execution_count": 2,
   "metadata": {},
   "outputs": [],
   "source": [
    "import matplotlib.pyplot as plt\n",
    "import pandas\n",
    "import numpy as np\n",
    "import math\n",
    "from scipy.integrate import solve_ivp\n",
    "from sklearn.metrics import mean_squared_error as detMSE\n",
    "from scipy.integrate import odeint\n",
    "#from scipy.spatial import distance"
   ]
  },
  {
   "cell_type": "code",
   "execution_count": 42,
   "metadata": {},
   "outputs": [],
   "source": [
    "# set temperatures\n",
    "def temperature(Tmax,t,amountOfTemperatures):\n",
    "    x = (math.log(1./Tmax))/amountOfTemperatures\n",
    "    T = Tmax * math.exp(t*x) - 0.99\n",
    "    return T\n",
    "\"\"\"\n",
    "old:\n",
    "def temperature(TMax,time):\n",
    "    T = TMax * np.e**(-1./(TMax / 10.)*time)\n",
    "    return T\n",
    "\"\"\"\n",
    "\n",
    "# differential equation for prey\n",
    "def dx(alfa, x, beta, y):\n",
    "    dx = alfa * x - beta * x * y\n",
    "    return dx\n",
    "\n",
    "# differential equation for predators\n",
    "def dy(delta, x, y, gamma):\n",
    "    dy = delta * x * y - gamma * y\n",
    "    return dy\n",
    "\n",
    "# solving differential equations using Euler method\n",
    "def EulerSolveODE(x,y,parameters, times):\n",
    "    for month in times:\n",
    "        xList.append(x)\n",
    "        yList.append(y)    \n",
    "        x += dx(parameters[0], x, parameters[1], y)\n",
    "        y += dy(parameters[2], x, y, parameters[3]) \n",
    "\n",
    "# solving differential equations using scipy ode int         \n",
    "def pend(f, t, a, b, c, d):\n",
    "    x, y = f\n",
    "    dfdt = [a*x - b*x*y, d*x*y - c*y]\n",
    "    return dfdt        \n",
    "        \n",
    "# randomly change one of the parameters \n",
    "# all change at equal probability\n",
    "# the parameter is changed to a completely new number in the range\n",
    "def changeParameter(parameters, samplingSpace):\n",
    "    stepsize = 0.1\n",
    "    randomNumber = np.random.random()\n",
    "    if randomNumber < 1./4:\n",
    "        parameters[0] = parameters[0] + np.random.random() * stepsize - stepsize/2 \n",
    "    elif randomNumber < 2./4:\n",
    "        parameters[1] = parameters[1] + np.random.random() * stepsize - stepsize/2 \n",
    "    elif randomNumber < 3./4:\n",
    "        parameters[2] = parameters[2] + np.random.random() * stepsize - stepsize/2 \n",
    "    else:\n",
    "        parameters[3] = parameters[2] + np.random.random() * stepsize - stepsize/2 \n",
    "    return parameters\n",
    "\n",
    "# randomly change parameters, \n",
    "# with p = 1./2 for each parameter to be changed \n",
    "# the parameter is changed to a completely new number in the range\n",
    "def changeMultipleParameters(parameters, samplingSpace):\n",
    "    #print(parameters)\n",
    "    temparray = parameters.copy()\n",
    "    stepsize = 1\n",
    "    change = 0\n",
    "    while change == 0:\n",
    "        randomNumber = np.random.random()\n",
    "        if randomNumber < 1./2:\n",
    "            temparray[0] += max(np.random.random()* stepsize - stepsize/2 , -temparray[0])\n",
    "            change = 1\n",
    "        randomNumber = np.random.random()\n",
    "        if randomNumber < 1./2:\n",
    "            temparray[1] += max(np.random.random()* stepsize - stepsize/2 , -temparray[1])\n",
    "            change = 1\n",
    "        randomNumber = np.random.random()\n",
    "        if randomNumber < 1./2:\n",
    "            temparray[2] += max(np.random.random()* stepsize - stepsize/2, -temparray[2]\n",
    "            change = 1\n",
    "        randomNumber = np.random.random()\n",
    "        if randomNumber < 1./2:\n",
    "            temparray[3] += max(np.random.random()* stepsize - stepsize/2, -temparray[3])\n",
    "            change = 1\n",
    "    return temparray"
   ]
  },
  {
   "cell_type": "code",
   "execution_count": 43,
   "metadata": {},
   "outputs": [],
   "source": [
    "# import csv using pandas\n",
    "# create 3 data lists: time, prey and predators\n",
    "pandaFile = pandas.read_csv('predator-prey-data.csv')\n",
    "times = []\n",
    "xValues = []\n",
    "yValues = []\n",
    "for row in range(len(pandaFile['t'])):\n",
    "    time = pandaFile['t'][row]\n",
    "    x = pandaFile['x'][row]\n",
    "    y = pandaFile['y'][row]\n",
    "    times.append(time)\n",
    "    xValues.append(x)\n",
    "    yValues.append(y)"
   ]
  },
  {
   "cell_type": "code",
   "execution_count": 50,
   "metadata": {},
   "outputs": [],
   "source": [
    "def optimize_fit(Calculations,MarkovLength,Tolerant,Lowest,xValues,yValues,times):\n",
    "    msearray = []\n",
    "    \"\"\"\n",
    "    Find an optimal fit with multiple strategy options:\n",
    "    calculations: amount of fitting attempts to be made\n",
    "    MarkovLength: length of variables tried at the same temperature\n",
    "    Tolerant: accepts only better values or accepts also worse outcomes \n",
    "        (but becomes stricter as the temperature decreases)\n",
    "    Lowest: Pick either the alfa, beta, delta, gamma values delivering the lowest sum of squares,\n",
    "        or picking the last value in the markov chain to continue to the next chain\n",
    "    xValues: list of prey count\n",
    "    yValues: list of predator count\n",
    "    times: time points for which data exists\n",
    "    \"\"\"\n",
    "    # set the initial amount of prey and predators equal to those of the data\n",
    "    x = xValues[0] #amount of prey\n",
    "    y = yValues[0] #amount of predators\n",
    "\n",
    "    # set the sampling space from where to pick the parameters in the domain [0,samplingSpace]\n",
    "    samplingSpace = 3\n",
    "\n",
    "    # assign a random number to the parameters in the range\n",
    "    alfa = np.random.random()*samplingSpace #birth rate prey\n",
    "    beta = np.random.random()*samplingSpace #prey catch rate\n",
    "    delta = np.random.random()*samplingSpace #birth of predators per predator per prey\n",
    "    gamma = np.random.random()*samplingSpace #death rate predators\n",
    "    establishedParameters = [alfa,beta,delta,gamma]\n",
    "\n",
    "    # assign the cooling schedule\n",
    "    TMax = 100\n",
    "    amountOfTemperatures = Calculations/MarkovLength # set the amount of temperatures such that calculation total remains equal\n",
    "    temperatures = []\n",
    "    for t in range(round(amountOfTemperatures)):\n",
    "        T = temperature(TMax,t,amountOfTemperatures)\n",
    "        temperatures.append(T)    \n",
    "\n",
    "    # assign a high number to the mean squared error \n",
    "    #hoping the first random guess of the parameters will lead to acceptance\n",
    "    mse = 999999999\n",
    "\n",
    "    # track how often new values are assigned\n",
    "    trackAcceptance = 0\n",
    "    timeTracker = 0\n",
    "\n",
    "    # simulating annealing\n",
    "    temperatureTrack = [] # track the temperature for future plotting\n",
    "    for T in temperatures:\n",
    "        listParameters = [] # keep a list of parameters\n",
    "        listMSE = [] # and the score achieved with those parameters\n",
    "        for chainPosition in range(MarkovLength):\n",
    "            temperatureTrack.append(T)\n",
    "            listParameters.append(establishedParameters)\n",
    "            listMSE.append(mse)\n",
    "            \n",
    "            # set newParameters almost equal to establisedParameters\n",
    "            newParameters = changeMultipleParameters(establishedParameters, samplingSpace).copy()\n",
    "            \n",
    "            # set the initial values of prey and predators equal to the data \n",
    "            y0 = [xValues[0], yValues[0]]\n",
    "            \n",
    "            # solve the ODE for the parameters chosen\n",
    "            sol = odeint(pend, y0, times, args=tuple(newParameters))\n",
    "            \n",
    "            #determine mse of prey and predators and add up\n",
    "            msePrey = detMSE(xValues, [el[0] for el in sol])\n",
    "            msePredators = detMSE(yValues, [el[1] for el in sol])\n",
    "            mseSum = msePrey + msePredators\n",
    "            \n",
    "            # use a time tracker to only record the acceptance in the first 1000\n",
    "            timeTracker += 1\n",
    "            \n",
    "            # if the new mean squared error is smaller than the old, \n",
    "            # accept newParameters as establisedParameters\n",
    "            # take the lower mean squared error as the new benchmark\n",
    "            if mseSum < mse:\n",
    "                establishedParameters = newParameters.copy()\n",
    "                mse = mseSum\n",
    "                #print mseSum - mse, 'is accepted'\n",
    "                if timeTracker < 1000:\n",
    "                    trackAcceptance += 1\n",
    "                    \n",
    "            # if the new mean squared error is almost as small as the old,\n",
    "            # accept newParameters as establisedParameters \n",
    "            # take the lower mean squared error as the new benchmark\n",
    "            elif math.exp(-(mseSum - mse)/T) > np.random.random() and Tolerant == 'T':\n",
    "                #print math.exp(-(mseSum - mse)/T) > np.random.random, (mseSum - mse)\n",
    "                #print 'Tolerant = T'\n",
    "                #print mseSum - mse, 'is accepted'\n",
    "                establishedParameters = newParameters.copy()\n",
    "                mse = mseSum \n",
    "                if timeTracker < 1000:\n",
    "                    trackAcceptance += 1\n",
    "\n",
    "            msearray.append(mse)\n",
    "            \n",
    "        # choose the lowest parameters found in the Markov chain for the next temperature, or not\n",
    "        if Lowest == 'T':\n",
    "            #print 'Lowest = T'\n",
    "            PositionMinimalMSE = listMSE.index(min(listMSE))\n",
    "            establishedParameters = listParameters[PositionMinimalMSE]\n",
    "    \n",
    "    preyQuantity = [el[0] for el in sol]\n",
    "    predatorQuantity = [el[1] for el in sol]\n",
    "    print(msearray)\n",
    "    print(\"Minimum values\", PositionMinimalMSE)\n",
    "    print(establishedParameters)\n",
    "    return [establishedParameters, temperatureTrack, trackAcceptance, [preyQuantity,predatorQuantity],mse]"
   ]
  },
  {
   "cell_type": "code",
   "execution_count": 51,
   "metadata": {},
   "outputs": [
    {
     "name": "stdout",
     "output_type": "stream",
     "text": [
      "[400.5022479783177, 288.1201675770514, 288.1201675770514, 176.4352430015965, 170.96574750141338, 93.07722016209398, 65.1870403530581, 64.98104168488312, 64.14051953046743, 65.2663494955604, 91.0321845889745, 90.92819499526007, 94.72251610366352, 96.10443009911315, 54.51414439149014, 51.49085830823888, 39.37150429620746, 37.96386982045105, 36.59033858543023, 44.20427780847148, 53.797105118553546, 90.36175718028785, 63.33171454172227, 60.20206366049929, 62.705125796409675, 62.72827943346866, 40.45422036904004, 63.025172689689164, 108.62923192459573, 141.9798164546518, 60.184652073092316, 59.52318186693976, 32.609124784045186, 44.35818470010508, 43.38717383275577, 75.0878315006608, 73.74862485575953, 73.78773601157042, 71.65114781537089, 64.71399138330949, 165.69914057546842, 166.2479473644388, 169.8941700508972, 173.67324007476503, 79.75040740919079, 76.88931531559693, 62.45263008587757, 60.942162219429854, 58.85531779021383, 62.672924557360055, 102.03096139396102, 105.26905549196894, 105.26905549196894, 57.89376841134534, 61.87584608902308, 60.19180468014585, 83.86709580932272, 45.99222192582884, 76.94525047157325, 87.37695098031719, 87.37695098031719, 87.37695098031719, 87.37695098031719, 43.94717175489968, 53.1662043665366, 53.25696472176981, 37.48181041081899, 37.4100559200581, 37.22887219677542, 28.171827410107152, 23.99822873378808, 37.030442313407, 66.40184591829207, 66.4364701306926, 64.34955769987593, 63.911691320420346, 85.27215569183417, 64.98538610148672, 58.11268964246069, 40.441516556422236, 39.04533182822834, 31.496648392044673, 31.724347815446592, 46.45223456637406, 45.226982148896205, 46.684094642898955, 52.87416189633817, 51.77201429886826, 51.88972596180501, 51.602688618305116, 53.809901803971016, 54.11880679125581, 117.28686694567509, 117.28686694567509, 92.8168408764307, 92.8168408764307, 92.8168408764307, 136.0671076887869, 71.82093092195989, 80.06314280711109, 18.671834646948522, 26.603720017083084, 27.143225523572273, 27.202451161622115, 27.828127570804725, 25.93089233760879, 25.40467220001815, 21.80830605857565, 20.31127222030241, 20.036965704076977, 20.421741803020964, 15.55804469338243, 17.094143065496677, 17.532487457129868, 17.428365784055845, 17.389776907817513, 18.56514429163525, 15.269408897115326, 14.886447327984493, 13.83307443604346, 16.728927179531933, 16.709557126199044, 13.280065311319742, 12.734216611260315, 12.1816506324876, 12.324295594298341, 10.495863191025904, 9.92457459355405, 10.261655391848644, 10.590367644313094, 12.585161843531372, 12.558107588672039, 12.338766974065567, 11.987985439318155, 12.506411854829858, 12.317261117543081, 11.291331070773737, 10.841839323899936, 10.806918374380977, 10.267647964982766, 9.45990828854855, 9.519337083293307, 9.740708411667757, 10.003635905602946, 9.472053436627066, 9.442696148463423, 9.40694487571999, 9.545964772259328, 10.00734900865281, 10.720899207452824, 10.61243888105346, 10.334273058161536, 10.01326979081085, 9.064079320742586, 9.750679848148645, 9.207921469752346, 9.016577556024085, 9.17043454594764, 8.910280926790957, 8.91791145088801, 8.940077360165214, 8.94773120322379, 8.819683008539453, 8.434781559263069, 8.921774700556846, 9.230782848000176, 9.149426617228771, 8.914987116967893, 8.884838975523895, 9.14993905187687, 9.238904801990826, 9.122714497919684, 9.292818376542392, 9.20936418374706, 9.0050996011093, 9.58630759037284, 9.323948223252762, 9.471946647087519, 8.905223742247385, 8.485260608459178, 8.564304874017076, 8.883813759425896, 9.763280288921928, 9.273133158731246, 9.288747261997036, 8.682202859977888, 8.697587967169959, 8.560258518651072, 8.720370745517526, 9.549788648638462, 8.887820974448767, 9.035653645286187, 8.922352778714945, 8.947455206816505, 9.074921717867685, 8.906943710569145, 9.047633717626539, 9.13857768904202, 8.885197186565174, 9.015063498086489, 8.486085519752596, 8.53875822825055, 8.819044134877199, 9.08556516478872, 9.190167320432392, 9.02565985111056, 9.019299419704577, 8.844105406906902, 8.3518080893258, 8.79344624640644, 8.884729058402696, 8.57470313488689, 8.707003239811664, 8.471696606551768, 8.798758239933237, 8.974999781976027, 8.830954112140429, 8.71986267543228, 8.637932224455216, 9.094006032308577, 8.915549007742944, 8.992655405881539, 9.167407918495304, 9.179355924851103, 9.307620515919245, 9.267513088502369, 9.306563594831639, 9.660406481585827, 10.386333785097438, 10.59007337219034, 9.808659200620658, 10.56550461003743, 10.518560781744117, 10.956257952185304, 10.94312919092609, 10.828677046435853, 11.35901236079564, 10.678188615632134, 11.135768164431651, 10.896322088918652, 10.981045208614876, 10.738542499456365, 11.334959535667217, 11.447005912569214, 11.965439504710627, 11.530923761342393, 13.481117187089255, 11.802744717009059, 11.980227818775084, 12.034434584054624, 12.152787923902526, 11.774049496137776, 11.341766582878792, 11.519922223393166, 10.814541466576753, 9.668199944647936, 11.098404024396721, 10.76665332985157, 12.394668927680526, 11.649368459639273, 11.198693848566894, 11.06673364672793, 10.330108550296886, 11.011282471568684, 10.836080421416865, 14.795794445554002, 11.047474127570673, 13.964466361781907, 13.965901219741744, 12.847939104690775, 11.937772479100845, 11.645060135675319, 10.899143107230751, 10.714539461036825, 11.087243494956049, 11.393883537160827, 12.21961223085723, 12.203992945096074, 15.57055459521074, 17.62115510148149, 27.53753370669399, 20.91375716472343, 35.73902265465917, 29.526592924347135, 28.907656992979902, 29.648937701904252, 19.44765405920182, 18.30187937087676, 19.08461514404667, 21.081063094539928, 24.244347201889582, 26.270956570939813, 27.783653646088023, 26.165812577481002, 36.742355003062606, 36.742355003062606, 50.35718331842458, 53.70662331059007, 53.70662331059007, 44.2601740627761, 8.287315768731602, 8.2893259842299, 8.194210883926031, 8.167307567293111, 8.19546383156786, 8.929016373441003, 9.710408206944521, 9.63977732543173, 10.035658188945236, 10.43671975141149, 10.360704441271828, 10.0134724637817, 9.67570336257971, 9.617040869370829, 9.732727717009537, 9.286048027681229, 9.598380884516446, 9.968543644656535, 10.645169220536152, 10.86830653606571, 11.292535318933966, 11.36894562650599, 11.935557317321898, 11.933718488395298, 11.258751844379258, 11.291113139788981, 11.395215839997944, 11.005048581270747, 11.137498128795272, 12.852260553194833, 13.257186675044704, 11.57883118368255, 11.543704779216858, 11.395378499567945, 11.109133186827652, 11.967429157905148, 13.636256982922612, 17.440724362621438, 17.12772607305814, 17.136403798681805, 17.38417650939242, 16.780924403751758, 14.775093972697748, 14.72763969191792, 14.876526824569362, 16.585838166419634, 16.511507421003582, 16.082458950200607, 16.4290145066126, 22.24785699004236, 21.755661627127886, 22.85997100197374, 21.33459958996575, 21.370123190048773, 27.071058143769047, 27.18413970286049, 27.18413970286049, 27.086446264625682, 26.140718980374086, 26.67061339643865, 26.719784557169177, 26.592249023622735, 33.526335813560955, 33.526335813560955, 33.526335813560955, 33.30499947958442, 31.97620494312431, 31.78127109812017, 21.74287516050715, 22.649494041358572, 22.410952352205527, 20.37407541701807, 23.741404724225593, 23.863908139058065, 20.51011164230301, 17.809117353602, 17.913110247607932, 17.642729613174797, 17.39861131829475, 13.090707212572074, 11.48107717335444, 11.539776765652027, 11.043451686482506, 9.90575536711895, 10.99501006649097, 11.116281672925915, 10.805774274189234, 10.744289464107966, 10.983094697428685, 11.147228912025115, 11.841764113862666, 12.400849856969845, 14.131178479257168, 13.520367654439159, 13.919579129692055, 16.37585924302561, 15.590192167950486, 19.641079405761623, 14.9461694087697, 15.036608887774536, 8.219643313070733, 8.087030727636431, 8.084343360583816, 8.041807273972697, 8.034944167952903, 8.12143611522804, 8.048949761591539, 8.04735970185294, 8.073036430206956, 8.221277206027331, 8.401247029770856, 8.717291268303137, 8.637414840632333, 8.525385128549468, 8.264566399031361, 8.293187477130747, 8.393754963978582, 8.39129228653125, 8.205474177380417, 8.098287411426085, 8.063645428360536, 8.060835454812636, 8.067842206049226, 8.081100257309899, 8.099996896748877, 8.190302206826434, 8.069289964713176, 7.956997212470458, 7.966126792900346, 7.954745252034419, 7.9555782925093546, 7.949842212514378, 7.958860721724496, 7.948244812699052, 7.9526579185734665, 8.049583038816984, 7.95677147695319, 8.136125228541001, 8.093607118036656, 8.29836186988776, 8.189507775091725, 8.16072977546977, 8.203593520329504, 7.960073250291609, 7.943766253717078, 8.017789686342137, 7.987458569666258, 8.063254449504338, 8.165817576929701, 8.403353944751327, 8.631365309176202, 8.508148473675066, 8.986546471156839, 8.471090344426763, 8.45652289278442, 8.651431515632645, 8.548886589152652, 8.471013813592036, 8.33479986650676, 8.370282993401908, 8.412495632355146, 8.256993616550572, 8.571505556590026, 9.056758521084527, 9.078655654625763, 9.078655654625763, 10.101194473065485, 11.028381276767703, 10.735601139698442, 9.347678115879955, 8.856595318359602, 8.856595318359602, 8.777112708594343, 8.82345441864025, 8.803209899502395, 8.44108854145272, 8.302860773746445, 8.623046001055407, 8.471855244999533, 8.511916398450547, 8.290942590401295, 8.547279664888228, 8.351655809749985, 8.340169938442552, 8.374939288427303, 8.363240291964942, 8.575882068751785, 8.653819186774657, 8.627892932983587, 8.308993557534546, 8.383674431002673, 8.644382038356161, 8.554331788864541, 8.514987665606853, 8.543524783287664, 8.417808378842135, 8.536411144080688, 8.516639702356482, 8.623763280072131, 8.47096800847363, 7.9292717867978375, 7.998917278160516, 8.146157156851194, 8.099803360262879, 8.479729263275933, 8.256509157707223, 8.50353944160029, 8.240022453772433, 8.645326752146307, 8.922694481971098, 9.163826352120285, 8.698796339422568, 8.636643714610193, 8.178316215229826, 8.182948089624453, 8.5047871578427, 8.644524733731375, 8.40590396968797, 8.551054863932887, 8.550017958496175, 8.452492061106836, 8.116102299384304, 8.209500770515135, 8.04786278867012, 8.365023327428112, 8.05813440319783, 8.10993839039994, 8.180734161913664, 8.180734161913664, 8.308053628406295, 8.371896038844774, 8.377537811955797, 8.291863827065013, 8.716413818796836, 9.051442741355727, 8.923503075829322, 8.995267386983937, 9.140568075585513, 9.141973942950091, 9.037688132805222, 9.214227549255616, 8.986780775517119, 8.782741778396002, 8.544840574961775, 8.544080866011079, 8.647377974147336, 8.69597670000891, 8.768686170495938, 8.789475014227802, 9.132114698295426, 9.053077354018894, 8.954582320076483, 8.642146826558276, 8.740595005241666, 9.039610855544405, 9.056256689023087, 9.066785045620051, 9.122486682162473, 9.483685831803557, 9.305608105448984, 9.514104485466289, 9.477989545153148, 9.575516200335002, 9.443625203915332, 9.523379384101412, 9.644244783725755, 9.693395843040328, 9.525068894506335, 9.42838858650577, 9.479824169137919, 9.359156938737888, 9.329350207135318, 9.25170190211417, 9.02825970610677, 8.326951033714256, 8.504999609142553, 8.256986760282825, 8.238561097086007, 8.600834927812567, 8.791636386510536, 8.209931835584541, 8.20518531054203, 8.715240184898509, 8.402161407981605, 8.243955771796628, 8.222988240632219, 8.436992660582716, 8.464389071786062, 8.416549399371668, 8.381861475070853, 9.496265512664413, 9.639215778719652, 9.620714510721784, 9.743431988561978, 9.954829627111842, 9.012360057265155, 8.85391661389156, 8.438700381401214, 8.47958552259196, 8.432597738428191, 7.963931071688858, 8.148864778085418, 8.216935427684524, 8.193218368077112, 8.305517298646507, 8.078092307305262, 8.078092307305262, 7.93474666658301, 8.021437947651492, 8.090302998307173, 8.075049321818632, 8.176799738172674, 7.980130652044728, 8.043571048297176, 8.152504562485412, 8.036091136068656, 8.00448692545601, 8.107092689819869, 8.174198043553881, 8.174198043553881, 8.608648309794678, 8.892482677695074, 8.70969699131895, 9.055383847721316, 9.129169458848857, 9.686017565887491, 10.125027962164763, 10.175487315639058, 10.275290564272495, 10.217816494180294, 10.18105911973176, 9.883832229384613, 10.00188275776496, 10.068432837448173, 10.110001311760868, 10.486614399187317, 10.38609913475371, 9.93386132760299, 9.844282661412043, 9.655618395440904, 9.481192784007442, 9.796439834615589, 9.558184806319764, 9.422777005199059, 9.403028873196543, 9.322200312979565, 9.032026452517577, 9.165358093821046, 8.366200765577766, 8.66676661630303, 8.66676661630303, 8.33757669363554, 8.394103798913806, 9.06025872829523, 9.275898298020454, 9.228042027734553, 9.117826955980995, 8.212666982271145, 8.212666982271145, 8.127722053837344, 8.428568481828865, 8.442312367119053, 8.434323196266137, 8.50589193573264, 8.566096832261053, 8.622346279939027, 8.274859280563547, 8.432138752596863, 8.738832228339778, 8.387072850226065, 8.558190880006793, 8.528300111830651, 8.82409746984525, 8.823507427498331, 8.616460532104117, 8.654392193988983, 8.691236767848757, 9.153329544275508, 9.680465873390311, 9.782767253297763, 10.323958518472239, 10.133615209334156, 10.662457544375597, 10.126755960466866, 10.573636346059669, 10.199830083622064, 10.30956590757483, 10.857075272130043, 10.592128764164324, 10.593787315064914, 10.808750102594436, 11.042241951494631, 11.096722909424003, 11.167492126291553, 10.782473148778747, 10.626121858780309, 10.626121858780309, 10.74412910805599, 10.639607493271612, 10.617762249676765, 8.137698792981439, 8.375405883470346, 8.692776487176703, 8.608791045153179, 8.498781096722638, 8.787430936326816, 8.787430936326816, 8.675707490211458, 8.750483963084946, 8.454193185645554, 8.416198331331985, 8.391315098105729, 8.70785007237707, 8.473231383230146, 8.405998611703392, 8.357843048361586, 8.341529003634871, 8.129469937668283, 8.02521839066962, 7.989378849339264, 8.132191719197223, 8.418499325125262, 8.760258008733986, 8.760258008733986, 8.68117750882392, 8.686664578723407, 8.70362853913104, 8.424253804647924, 8.63174120587566, 8.548467143866084, 8.612396816521574, 8.157740548637578, 8.008763224008437, 8.046748656993795, 8.18021379987974, 8.08550728702722, 8.15753800698982, 8.080318790552793, 8.105611116184786, 8.184399308632093, 8.46489770306152, 8.441045609313589, 8.537363721239803, 8.528735719236021, 8.699153469428431, 8.734923768827501, 8.852740288541309, 8.929429840334882, 8.962093853962937, 8.94951919621417, 8.864013070058151, 9.009949874276353, 9.03305097541195, 9.238699690321342, 9.186239333350759, 9.174825312136061, 9.488806853759353, 9.485592867740483, 9.396875063558415, 9.582884400926378, 9.589444525148616, 9.582217521481901, 9.582460860713589, 9.377548630342233, 10.094698032460666, 10.167944243447444, 10.052028422113366, 10.590290812044632, 10.442756775051816, 10.262129187384478, 10.133699331190652, 9.582703148653298, 10.118933678467616, 9.937874487442599, 10.263161430512941, 10.224480199822505, 10.065720185163253, 9.95998448863065, 9.880085847287717, 9.360427935922798, 9.35621698367946, 9.138302741050815, 8.944330847613525, 8.928101468220305, 8.925723883435698, 9.145244085783006, 9.631905663350565, 10.492265686148857, 10.644554100554906, 11.376100702818869, 11.132145738472317, 10.88183215060134, 11.023085838922706, 11.243438691056932, 11.268781286245645, 11.481342417966227, 12.290109350089285, 12.966597822933299, 12.799440355732191, 12.231154800512847, 8.09215425385484, 8.087768936083034, 8.084296273520259, 8.114021881701575, 8.108727177460835, 8.066594249282367, 8.064306747914642, 8.054484048032958, 7.991542132461618, 8.084795388119073, 8.220490147868952, 8.263341023848636, 8.114467512079608, 8.055937268694072, 8.329109436343401, 8.329109436343401, 8.547818140314007, 8.456418971137255, 8.888174735472735, 8.723682866898914, 9.599157494155914, 9.946334764049913, 9.949082516879404, 9.813646285225573, 10.087601964243428, 9.807330703592273, 9.277265008774798, 9.073289442285647, 9.262488887614825, 9.178065338481144, 9.138604889479241, 9.138604889479241, 9.147163587030388, 8.974299589932649, 9.090690643742157, 8.940906937359468, 8.862266546368815, 9.018282369964995, 9.11932101212583, 9.197565788418537, 8.941686208724017, 8.969296034200202, 8.832760250350308, 8.833738797727099, 9.048525492354061, 8.889832607035503, 8.893147176625638, 8.777101606069287, 8.983439602562372, 9.158310804865089, 9.092905517939627, 9.064113044491659, 9.041451203510253, 9.041112230082433, 9.004591293117064, 8.93955934516726, 9.008365420994522, 9.154259553518942, 9.030798841094665, 8.90472541440807, 9.048892797630822, 8.894021969940155, 9.07447459204429, 9.290091669392998, 9.037323002279802, 9.102401419478253, 9.10197747450937, 9.069639348468105, 9.103597282232293, 9.21592103969499, 9.101720909240584, 9.133629473540068, 9.168377527358954, 9.051353720817831, 9.16726115657876, 9.188773192471418, 9.258528483049698, 9.283077735265625, 9.20443298432215, 9.132806045588307, 8.913820983852132, 8.240684728746547, 7.767894915727274, 7.98295495994528, 8.210670253972914, 8.244671825807714, 7.739207535490624, 7.688199844080726, 7.673569835563529, 7.928672353259833, 8.526814394502749, 8.655512754610893, 8.840239023041855, 8.698674051382437, 8.872318789110935, 9.233028075384608, 9.1148266878976, 8.838666835417975, 9.221656326493823, 9.036576639969699, 7.628963498649903, 7.933894639012177, 7.703161087961222, 7.613856754758123, 7.613856754758123, 7.521639906031357, 7.583991706012269, 8.195704866680106, 8.195704866680106, 8.073792477027633, 8.399626297022252, 8.556715977023735, 8.629846851176483, 8.629846851176483, 8.53719984704182, 7.7661965599082015, 8.412523279611822, 8.181990345884238, 7.919613341167823, 7.895225850253857, 7.862752322391973, 7.959748955757142, 7.959748955757142, 7.981762867491557, 7.732230460574533, 8.251005823256644, 8.632378249338181, 8.164127477668329, 7.7071673563627545, 7.7883458256145826, 7.7883458256145826, 7.550364422248585, 7.617355222177638, 7.617355222177638, 7.9267837899573905, 7.9267837899573905, 8.363773434597288, 7.7732159247477375, 7.903065832154188, 7.924997621054679, 7.665861014253933, 7.681780560372669, 7.681780560372669, 7.693681070178913, 7.876499973500799, 7.772261415825122, 7.772261415825122, 7.772261415825122, 7.592729162812722, 7.592729162812722, 7.7407417598127335, 7.961083907593592, 7.807403877762242, 9.153517656382927, 9.249386287543224, 9.082476390988942, 7.938602775371253, 7.483393417018225, 7.56706601022068, 7.56706601022068, 7.56706601022068, 7.829954536748666, 7.829954536748666, 8.113851166781144, 8.113851166781144, 7.9069573353526215, 7.595506031813505, 7.594382922698657, 7.8024916425779605, 7.8024916425779605, 7.856528809441491, 8.096429400038465, 9.143301799605593, 9.075755755760301, 8.470451912506697, 8.60351977259803, 8.448808640323588, 8.645314541115573, 8.283399707809007, 8.283399707809007, 8.214579536320421, 8.48601936169436, 8.161913311508249, 8.32328768227646, 8.21378901986613, 8.184003710170735, 8.168665653108487, 8.144538650114546, 8.144538650114546, 8.015141097642177, 8.112277899589426, 8.424574633516485, 8.424574633516485, 8.424574633516485, 8.424574633516485, 8.692716616067711, 8.456341301951054, 8.485394391091564, 8.636196043128994, 8.651875018207015]\n",
      "Minimum values 58\n",
      "[0.8476908340608561, 0.3355199837179206, 3.065322312390736, 1.2774129595257522]\n",
      "8.651875018207015\n"
     ]
    }
   ],
   "source": [
    "#establishedParameters, temperatureTrack, trackAcceptance, [xValues,yValues], sumOfSquares = \n",
    "#optimize_fit(Calculations,MarkovLength,Tolerant,Lowest,xValues,yValues)\n",
    "Calculations = 1000\n",
    "\n",
    "MarkovTolerantLowest = optimize_fit(Calculations,100,'T','T',xValues,yValues,times)\n",
    "#ContinuousTolerant = optimize_fit(Calculations,1,'T','F',xValues,yValues,times)\n",
    "\n",
    "## run greedy algorhithm in a loop:\n",
    "#greedySOS = []\n",
    "#greedyParameters = []\n",
    "#for i in range(10):\n",
    "#    MarkovIntolerant = optimize_fit(100,50,'F','F',xValues,yValues,times)\n",
    "#    greedySOS.append(MarkovIntolerant[4])\n",
    "#    greedyParameters.append(MarkovIntolerant[0])\n",
    "\n",
    "print(MarkovTolerantLowest[4])\n",
    "#print(ContinuousTolerant[4])\n",
    "#print(min(greedySOS))"
   ]
  },
  {
   "cell_type": "code",
   "execution_count": 53,
   "metadata": {},
   "outputs": [
    {
     "name": "stdout",
     "output_type": "stream",
     "text": [
      "953\n"
     ]
    }
   ],
   "source": [
    "smallerMarkovTolerantLowest = MarkovTolerantLowest[2]\n",
    "#smallerContinuousTolerant = ContinuousTolerant[4]\n",
    "#smallerMarkovIntolerant = min(greedySOS)\n",
    "print(smallerMarkovTolerantLowest)\n",
    "#print(smallerContinuousTolerant)\n",
    "#print(smallerMarkovIntolerant)"
   ]
  },
  {
   "cell_type": "code",
   "execution_count": 54,
   "metadata": {},
   "outputs": [
    {
     "data": {
      "text/plain": [
       "'\\nbiggerMarkovTolerantLowest = MarkovTolerantLowest[4]\\nbiggerContinuousTolerant = ContinuousTolerant[4]\\nbiggerMarkovIntolerant = min(greedySOS)\\n\\nprint(biggerMarkovTolerantLowest)\\nprint(biggerContinuousTolerant)\\nprint(biggerMarkovIntolerant)\\n'"
      ]
     },
     "execution_count": 54,
     "metadata": {},
     "output_type": "execute_result"
    }
   ],
   "source": [
    "\"\"\"\n",
    "biggerMarkovTolerantLowest = MarkovTolerantLowest[4]\n",
    "biggerContinuousTolerant = ContinuousTolerant[4]\n",
    "biggerMarkovIntolerant = min(greedySOS)\n",
    "\n",
    "print(biggerMarkovTolerantLowest)\n",
    "print(biggerContinuousTolerant)\n",
    "print(biggerMarkovIntolerant)\n",
    "\"\"\""
   ]
  },
  {
   "cell_type": "code",
   "execution_count": 55,
   "metadata": {},
   "outputs": [
    {
     "data": {
      "image/png": "[encoded data removed]",
      "text/plain": [
       "<Figure size 432x288 with 1 Axes>"
      ]
     },
     "metadata": {},
     "output_type": "display_data"
    }
   ],
   "source": [
    "# show the temperature shows exponential decay\n",
    "plt.plot(MarkovTolerantLowest[1])\n",
    "plt.show()"
   ]
  },
  {
   "cell_type": "code",
   "execution_count": 56,
   "metadata": {},
   "outputs": [
    {
     "name": "stdout",
     "output_type": "stream",
     "text": [
      "8.651875018207015\n"
     ]
    },
    {
     "data": {
      "image/png": "[encoded data removed]",
      "text/plain": [
       "<Figure size 1080x360 with 1 Axes>"
      ]
     },
     "metadata": {},
     "output_type": "display_data"
    }
   ],
   "source": [
    "plt.figure(figsize=(15,5))\n",
    "\n",
    "# plot the data\n",
    "plt.plot(times,xValues,'x', label = 'prey data', color = 'b')\n",
    "plt.plot(times,yValues,'x', label = 'predators data', color = 'r')\n",
    "\n",
    "# plot various fitting options\n",
    "plt.plot(times,MarkovTolerantLowest[3][0],label = 'annealing prey fit',color = 'b')\n",
    "plt.plot(times,MarkovTolerantLowest[3][1],label = 'annealing predators fit',color = 'r')\n",
    "#plt.plot(times,ContinuousTolerant[3][0],label = 'continuous annealing prey fit',ls='dashed',color = 'b')\n",
    "#plt.plot(times,ContinuousTolerant[3][1],label = 'continuous annealing predators fit',ls='dashed',color = 'r')\n",
    "#plt.plot(times,MarkovIntolerant[3][0],label = 'greedy prey fit',ls='dashdot',color = 'b')\n",
    "#plt.plot(times,MarkovIntolerant[3][1],label = 'greedy predators fit',ls='dashdot',color = 'r')\n",
    "#\n",
    "#plt.yscale(\"log\")\n",
    "plt.xlabel('time')\n",
    "plt.ylabel('n')\n",
    "plt.legend()\n",
    "print(MarkovTolerantLowest[4])\n",
    "plt.show()"
   ]
  },
  {
   "cell_type": "code",
   "execution_count": 33,
   "metadata": {},
   "outputs": [
    {
     "name": "stdout",
     "output_type": "stream",
     "text": [
      "4.241666405891568\n"
     ]
    }
   ],
   "source": [
    "msePrey = detMSE(xValues, MarkovTolerantLowest[3][0])\n",
    "msePredators = detMSE(yValues, MarkovTolerantLowest[3][1])\n",
    "mseSum = msePrey + msePredators\n",
    "print(mseSum)"
   ]
  },
  {
   "cell_type": "code",
   "execution_count": 12,
   "metadata": {},
   "outputs": [
    {
     "data": {
      "text/plain": [
       "[110.80641454565006, 80.9336564333782, 111.03255125130784, 94.39337532004214]"
      ]
     },
     "execution_count": 12,
     "metadata": {},
     "output_type": "execute_result"
    }
   ],
   "source": [
    "MarkovTolerantLowest[0]"
   ]
  }
 ],
 "metadata": {
  "kernelspec": {
   "display_name": "Python 3",
   "language": "python",
   "name": "python3"
  },
  "language_info": {
   "codemirror_mode": {
    "name": "ipython",
    "version": 3
   },
   "file_extension": ".py",
   "mimetype": "text/x-python",
   "name": "python",
   "nbconvert_exporter": "python",
   "pygments_lexer": "ipython3",
   "version": "3.6.5"
  }
 },
 "nbformat": 4,
 "nbformat_minor": 2
}
