{
 "cells": [
  {
   "cell_type": "code",
   "execution_count": 1,
   "metadata": {},
   "outputs": [
    {
     "data": {
      "application/javascript": [
       "IPython.OutputArea.prototype._should_scroll = function(lines) {\n",
       "    return false;\n",
       "}\n",
       "// from https://stackoverflow.com/questions/36757301/disable-ipython-notebook-autoscrolling\n",
       "// disable scroll"
      ],
      "text/plain": [
       "<IPython.core.display.Javascript object>"
      ]
     },
     "metadata": {},
     "output_type": "display_data"
    }
   ],
   "source": [
    "%%javascript\n",
    "IPython.OutputArea.prototype._should_scroll = function(lines) {\n",
    "    return false;\n",
    "}\n",
    "// from https://stackoverflow.com/questions/36757301/disable-ipython-notebook-autoscrolling\n",
    "// disable scroll"
   ]
  },
  {
   "cell_type": "code",
   "execution_count": 40,
   "metadata": {},
   "outputs": [],
   "source": [
    "import matplotlib.pyplot as plt\n",
    "import pandas\n",
    "import numpy as np\n",
    "from scipy.integrate import solve_ivp\n",
    "from sklearn.metrics import mean_squared_error as detMSE"
   ]
  },
  {
   "cell_type": "code",
   "execution_count": 45,
   "metadata": {},
   "outputs": [],
   "source": [
    "def dx(alfa, x, beta, y):\n",
    "    dx = alfa * x - beta * x * y\n",
    "    return dx\n",
    "\n",
    "def dy(delta, x, y, gamma):\n",
    "    dy = delta * x * y - gamma * y\n",
    "    return dy\n",
    "\n",
    "def EulerSolveODE(x,y,parameters):\n",
    "    for month in times:\n",
    "        xList.append(x)\n",
    "        yList.append(y)    \n",
    "        x += dx(parameters[0], x, parameters[1], y)\n",
    "        y += dy(parameters[2], x, y, parameters[3]) \n",
    "\n",
    "def changeParameter(parameters):\n",
    "    randomNumber = np.random.random()\n",
    "    if randomNumber < 1./4:\n",
    "        parameters[0] = np.random.random()/10\n",
    "    elif randomNumber < 2./4:\n",
    "        parameters[1] = np.random.random()/10\n",
    "    elif randomNumber < 3./4:\n",
    "        parameters[2] = np.random.random()/10\n",
    "    else:\n",
    "        parameters[3] = np.random.random()/10\n",
    "    return parameters"
   ]
  },
  {
   "cell_type": "code",
   "execution_count": 29,
   "metadata": {},
   "outputs": [],
   "source": [
    "# import csv using pandas\n",
    "pandaFile = pandas.read_csv('predator-prey-data.csv')\n",
    "times = []\n",
    "xValues = []\n",
    "yValues = []\n",
    "for row in range(len(pandaFile['t'])):\n",
    "    time = pandaFile['t'][row]\n",
    "    x = pandaFile['x'][row]\n",
    "    y = pandaFile['y'][row]\n",
    "    times.append(time)\n",
    "    xValues.append(x)\n",
    "    yValues.append(y)"
   ]
  },
  {
   "cell_type": "code",
   "execution_count": 49,
   "metadata": {},
   "outputs": [
    {
     "name": "stdout",
     "output_type": "stream",
     "text": [
      "[0.07936504115823365, 0.045763309891698356, 0.077698223309062, 0.024465142423023445]\n"
     ]
    }
   ],
   "source": [
    "# using Euler\n",
    "# prey and predators are float numbers\n",
    "\n",
    "# initial guesses\n",
    "x = xValues[0] #amount of prey\n",
    "y = yValues[0] #amount of predators\n",
    "alfa = np.random.random()/10 #birth rate prey\n",
    "beta = np.random.random()/10 #prey catch rate\n",
    "delta = np.random.random()/10 #birth of predators per predator per prey\n",
    "gamma = np.random.random()/10 #death rate predators\n",
    "TMax = 10000\n",
    "TMin = 1\n",
    "temperatures = np.arange(TMax,TMin-1,-1)\n",
    "\n",
    "establishedParameters = [alfa,beta,delta,gamma]\n",
    "\n",
    "mse = 999999999\n",
    "\n",
    "for T in temperatures:\n",
    "    newParameters = changeParameter(establishedParameters)\n",
    "    \n",
    "    xList = []\n",
    "    yList = []\n",
    "    EulerSolveODE(x,y,newParameters)\n",
    "    #determine mse once and work with that\n",
    "    \n",
    "    if detMSE(xValues,xList) + detMSE(yValues,yList) < mse:\n",
    "        establishedParameters = newParameters\n",
    "        mse = detMSE(xValues,xList) + detMSE(yValues,yList)\n",
    "        \n",
    "    elif ((detMSE(xValues,xList) + detMSE(yValues,yList)) - mse)/T < np.random.random():\n",
    "        establishedParameters = newParameters\n",
    "        mse = detMSE(xValues,xList) + detMSE(yValues,yList)  \n",
    "        \n",
    "print establishedParameters"
   ]
  },
  {
   "cell_type": "code",
   "execution_count": 6,
   "metadata": {},
   "outputs": [
    {
     "name": "stdout",
     "output_type": "stream",
     "text": [
      "255441080.01873076\n"
     ]
    }
   ],
   "source": [
    "# determine the mean squared error\n",
    "print detMSE(xValues,xList) + detMSE(yValues,yList)"
   ]
  },
  {
   "cell_type": "code",
   "execution_count": 50,
   "metadata": {},
   "outputs": [
    {
     "data": {
      "image/png": "[encoded data removed]",
      "text/plain": [
       "<Figure size 1080x360 with 1 Axes>"
      ]
     },
     "metadata": {
      "needs_background": "light"
     },
     "output_type": "display_data"
    }
   ],
   "source": [
    "#print 'xList =', xList\n",
    "#print 'yList =', yList\n",
    "plt.figure(figsize=(15,5))\n",
    "plt.plot(times,xValues,'x', label = 'prey data', color = 'b')\n",
    "plt.plot(times,yValues,'x', label = 'predators data', color = 'r')\n",
    "plt.plot(times,xList,label = 'prey fit', color = 'b')\n",
    "plt.plot(times,yList, label = 'predators fit', color = 'r')\n",
    "plt.yscale(\"log\")\n",
    "plt.xlabel('time')\n",
    "plt.ylabel('n')\n",
    "plt.legend()\n",
    "plt.show()"
   ]
  },
  {
   "cell_type": "code",
   "execution_count": null,
   "metadata": {},
   "outputs": [],
   "source": []
  }
 ],
 "metadata": {
  "kernelspec": {
   "display_name": "Python 2",
   "language": "python",
   "name": "python2"
  },
  "language_info": {
   "codemirror_mode": {
    "name": "ipython",
    "version": 2
   },
   "file_extension": ".py",
   "mimetype": "text/x-python",
   "name": "python",
   "nbconvert_exporter": "python",
   "pygments_lexer": "ipython2",
   "version": "2.7.15"
  }
 },
 "nbformat": 4,
 "nbformat_minor": 2
}
