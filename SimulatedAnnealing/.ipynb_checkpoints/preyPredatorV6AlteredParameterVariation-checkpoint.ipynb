{
 "cells": [
  {
   "cell_type": "markdown",
   "metadata": {},
   "source": [
    "doubt on:\n",
    "the correct Metropolis step code\n",
    "\n",
    "work on:\n",
    "\n",
    "X cooling schedule (exponential decay)\n",
    "\n",
    "X odeint\n",
    "\n",
    "X accept 98% (only for present settings)\n",
    "\n",
    "determine right samplingspace\n",
    "\n",
    "X randomly change one or more variables\n",
    "\n",
    "\n",
    "Can we not get stuck in a local minimum by changing one parameter at a time? see picture '2dLocalMinima'\n",
    "\n",
    "Annealing temperature:\n",
    "\n",
    "A good rule of thumb is that your initial temperature Tmax should be set to accept roughly 98% of the moves \n",
    "and that the final temperature Tmin should be low enough that the solution does not improve much, if at all.\n",
    "\n",
    "The number of steps can influence the results; \n",
    "if there are not enough iterations to adequately explore the search space it can get trapped at a local minimum.\n",
    "\n",
    "steven said a samplingspace of 2 should work\n",
    "\n",
    "e^-verschil/T\n",
    "\n",
    "is el[0] goed?"
   ]
  },
  {
   "cell_type": "code",
   "execution_count": 15,
   "metadata": {},
   "outputs": [
    {
     "data": {
      "application/javascript": [
       "IPython.OutputArea.prototype._should_scroll = function(lines) {\n",
       "    return false;\n",
       "}\n",
       "// from https://stackoverflow.com/questions/36757301/disable-ipython-notebook-autoscrolling\n",
       "// disable scroll"
      ],
      "text/plain": [
       "<IPython.core.display.Javascript object>"
      ]
     },
     "metadata": {},
     "output_type": "display_data"
    }
   ],
   "source": [
    "%%javascript\n",
    "IPython.OutputArea.prototype._should_scroll = function(lines) {\n",
    "    return false;\n",
    "}\n",
    "// from https://stackoverflow.com/questions/36757301/disable-ipython-notebook-autoscrolling\n",
    "// disable scroll"
   ]
  },
  {
   "cell_type": "code",
   "execution_count": 70,
   "metadata": {},
   "outputs": [],
   "source": [
    "import matplotlib.pyplot as plt\n",
    "import pandas\n",
    "import numpy as np\n",
    "import math\n",
    "from scipy.integrate import solve_ivp\n",
    "from sklearn.metrics import mean_squared_error as detMSE\n",
    "from scipy.integrate import odeint\n",
    "#from scipy.spatial import distance"
   ]
  },
  {
   "cell_type": "code",
   "execution_count": 71,
   "metadata": {},
   "outputs": [],
   "source": [
    "def temperature(TMax,TMin,t,amountOfTemperatures):\n",
    "    \"\"\"\n",
    "    set temperatures\n",
    "    TMax is the initial temperature\n",
    "    t is the time point at which one is \n",
    "    (mostly this funcition is called for once per iteration to generate a list of the desired temperatures)\n",
    "    Amount of temperatures provides the amount of different temperatures desired for the model\n",
    "    \"\"\"\n",
    "    x = (math.log(float(TMin)/TMax))/amountOfTemperatures\n",
    "    T = TMax * math.exp(t*x)\n",
    "    return T\n",
    "\"\"\"\n",
    "# differential equation for prey\n",
    "def dx(alfa, x, beta, y):\n",
    "    dx = alfa * x - beta * x * y\n",
    "    return dx\n",
    "\n",
    "# differential equation for predators\n",
    "def dy(delta, x, y, gamma):\n",
    "    dy = delta * x * y - gamma * y\n",
    "    return dy\n",
    "\n",
    "# solving differential equations using Euler method\n",
    "def EulerSolveODE(x,y,parameters, times):\n",
    "    for month in times:\n",
    "        xList.append(x)\n",
    "        yList.append(y)    \n",
    "        x += dx(parameters[0], x, parameters[1], y)\n",
    "        y += dy(parameters[2], x, y, parameters[3]) \n",
    "\"\"\"\n",
    "# solving differential equations using scipy ode int         \n",
    "def pend(f, t, a, b, c, d):\n",
    "    \"\"\"\n",
    "    solving differential equations using scipy ode int \n",
    "    f is the amount of x and y at a time point\n",
    "    \"\"\"\n",
    "    x, y = f\n",
    "    dfdt = [a*x - b*x*y, d*x*y - c*y]\n",
    "    return dfdt        \n",
    "        \n",
    "def changeParameter(parameters, samplingSpace):\n",
    "    \"\"\"\n",
    "    Disused old function\n",
    "    randomly change one of the parameters \n",
    "    all change at equal probability\n",
    "    the parameter is changed to a completely new number in the range\n",
    "    \"\"\"\n",
    "    randomNumber = np.random.random()\n",
    "    if randomNumber < 1./4:\n",
    "        parameters[0] = np.random.random()*samplingSpace\n",
    "    elif randomNumber < 2./4:\n",
    "        parameters[1] = np.random.random()*samplingSpace\n",
    "    elif randomNumber < 3./4:\n",
    "        parameters[2] = np.random.random()*samplingSpace\n",
    "    else:\n",
    "        parameters[3] = np.random.random()*samplingSpace\n",
    "    return parameters\n",
    "\n",
    "# randomly change parameters, \n",
    "# with p = 1./2 for each parameter to be changed \n",
    "# the parameter is changed to a completely new number in the range\n",
    "def changeMultipleParameters(parameters, samplingSpace):\n",
    "    change = 0\n",
    "    while change == 0:\n",
    "        randomNumber = np.random.random()\n",
    "        if randomNumber < 1./2:\n",
    "            AddSubtract = 1 if np.random.random() < 0.5 else -1\n",
    "            parameters[0] += AddSubtract*np.random.exponential(.5,1)[0]\n",
    "            if parameters[0] > 1 and parameters[0] < samplingSpace:\n",
    "                change = 1\n",
    "        randomNumber = np.random.random()\n",
    "        if randomNumber < 1./2:\n",
    "            AddSubtract = 1 if np.random.random() < 0.5 else -1\n",
    "            parameters[1] += AddSubtract*np.random.exponential(.5,1)[0]\n",
    "            if parameters[0] > 1 and parameters[0] < samplingSpace:\n",
    "                change = 1\n",
    "        randomNumber = np.random.random()\n",
    "        if randomNumber < 1./2:\n",
    "            AddSubtract = 1 if np.random.random() < 0.5 else -1\n",
    "            parameters[2] += AddSubtract*np.random.exponential(.5,1)[0]\n",
    "            if parameters[0] > 1 and parameters[0] < samplingSpace:\n",
    "                change = 1\n",
    "        randomNumber = np.random.random()\n",
    "        if randomNumber < 1./2:\n",
    "            AddSubtract = 1 if np.random.random() < 0.5 else -1\n",
    "            parameters[3] += AddSubtract*np.random.exponential(.5,1)[0]\n",
    "            if parameters[0] > 1 and parameters[0] < samplingSpace:\n",
    "                change = 1\n",
    "    return parameters"
   ]
  },
  {
   "cell_type": "code",
   "execution_count": 72,
   "metadata": {},
   "outputs": [],
   "source": [
    "# import csv using pandas\n",
    "# create 3 data lists: time, prey and predators\n",
    "pandaFile = pandas.read_csv('predator-prey-data.csv')\n",
    "times = []\n",
    "xValues = []\n",
    "yValues = []\n",
    "for row in range(len(pandaFile['t'])):\n",
    "    time = pandaFile['t'][row]\n",
    "    x = pandaFile['x'][row]\n",
    "    y = pandaFile['y'][row]\n",
    "    times.append(time)\n",
    "    xValues.append(x)\n",
    "    yValues.append(y)"
   ]
  },
  {
   "cell_type": "code",
   "execution_count": 73,
   "metadata": {},
   "outputs": [],
   "source": [
    "def optimize_fit(Calculations,MarkovLength,Tolerant,Lowest,Temperatures,xValues,yValues,times):\n",
    "    \"\"\"\n",
    "    Find an optimal fit with multiple strategy options:\n",
    "    calculations: amount of fitting attempts to be made\n",
    "    MarkovLength: length of variables tried at the same temperature\n",
    "    Tolerant: accepts only better values or accepts also worse outcomes \n",
    "        (but becomes stricter as the temperature decreases)\n",
    "    Lowest: Pick either the alfa, beta, delta, gamma values delivering the lowest sum of squares,\n",
    "        or picking the last value in the markov chain to continue to the next chain\n",
    "    xValues: list of prey count\n",
    "    yValues: list of predator count\n",
    "    times: time points for which data exists\n",
    "    \"\"\"\n",
    "    # set the initial amount of prey and predators equal to those of the data\n",
    "    x = xValues[0] #amount of prey\n",
    "    y = yValues[0] #amount of predators\n",
    "\n",
    "    # set the sampling space from where to pick the parameters in the domain [0,samplingSpace]\n",
    "    samplingSpace = 10\n",
    "\n",
    "    # assign a random number to the parameters in the range\n",
    "    alfa = np.random.random()*samplingSpace #birth rate prey\n",
    "    beta = np.random.random()*samplingSpace #prey catch rate\n",
    "    delta = np.random.random()*samplingSpace #birth of predators per predator per prey\n",
    "    gamma = np.random.random()*samplingSpace #death rate predators\n",
    "    establishedParameters = [alfa,beta,delta,gamma]\n",
    "\n",
    "    # assign the cooling schedule\n",
    "    amountOfTemperatures = Calculations/MarkovLength # set the amount of temperatures such that calculation total remains equal\n",
    "    temperatures = []\n",
    "    for t in range(amountOfTemperatures):\n",
    "        T = temperature(Temperatures[0],Temperatures[1],t,amountOfTemperatures)\n",
    "        temperatures.append(T)    \n",
    "\n",
    "    # assign a high number to the mean squared error \n",
    "    #hoping the first random guess of the parameters will lead to acceptance\n",
    "    mse = 999999999\n",
    "\n",
    "    # track how often new values are assigned\n",
    "    trackAcceptance = [[0,0],[0,0]]\n",
    "    timeTracker = 0\n",
    "    lowestMsePerMarkov = []\n",
    "\n",
    "    # simulating annealing\n",
    "    temperatureTrack = [] # track the temperature for future plotting\n",
    "    mseDifference = []\n",
    "    for T in temperatures:\n",
    "        listParameters = [] # keep a list of parameters\n",
    "        listMSE = [] # and the score achieved with those parameters\n",
    "        for chainPosition in range(MarkovLength):\n",
    "            temperatureTrack.append(T)\n",
    "            listParameters.append(establishedParameters)\n",
    "            listMSE.append(mse)\n",
    "            \n",
    "            # set newParameters almost equal to establisedParameters\n",
    "            newParameters = changeMultipleParameters(establishedParameters, samplingSpace)\n",
    "            \n",
    "            # set the initial values of prey and predators equal to the data \n",
    "            y0 = [xValues[0], yValues[0]]\n",
    "            \n",
    "            # solve the ODE for the parameters chosen\n",
    "            sol = odeint(pend, y0, times, args=tuple(newParameters))\n",
    "            \n",
    "            #determine mse of prey and predators and add up\n",
    "            msePrey = detMSE(xValues, [el[0] for el in sol])\n",
    "            msePredators = detMSE(yValues, [el[1] for el in sol])\n",
    "            mseSum = msePrey + msePredators\n",
    "            \n",
    "            # use a time tracker to only record the acceptance in the first 1000\n",
    "            timeTracker += 1\n",
    "            \"\"\"\n",
    "            # if the new mean squared error is smaller than the old, \n",
    "            # accept newParameters as establisedParameters\n",
    "            # take the lower mean squared error as the new benchmark\n",
    "            if mseSum < mse:\n",
    "                establishedParameters = newParameters\n",
    "                mse = mseSum\n",
    "                #print mseSum - mse, 'is accepted'\n",
    "                if timeTracker < 1000:\n",
    "                    trackAcceptance[0] += 1\n",
    "                    \n",
    "            # if the new mean squared error is almost as small as the old,\n",
    "            # accept newParameters as establisedParameters \n",
    "            # take the lower mean squared error as the new benchmark\n",
    "            elif math.exp(-(mseSum - mse)/T) > np.random.random() and Tolerant == 'T':\n",
    "                mseDifference.append(mseSum - mse)\n",
    "                #print math.exp(-(mseSum - mse)/T) > np.random.random, (mseSum - mse)\n",
    "                #print 'Tolerant = T'\n",
    "                #print mseSum - mse, 'is accepted'\n",
    "                establishedParameters = newParameters\n",
    "                mse = mseSum \n",
    "                \n",
    "                if timeTracker < 1000:\n",
    "                    trackAcceptance[1] += 1\n",
    "            \"\"\"  \n",
    "            # if the new mean squared error is smaller than the old, \n",
    "            # accept newParameters as establisedParameters\n",
    "            # take the lower mean squared error as the new benchmark\n",
    "            if mseSum < mse:\n",
    "                establishedParameters = newParameters\n",
    "                mse = mseSum\n",
    "                #print mseSum - mse, 'is accepted'\n",
    "                if timeTracker < 1000:\n",
    "                    trackAcceptance[0][0] += 1\n",
    "                if timeTracker > (Calculations - MarkovLength):\n",
    "                    trackAcceptance[1][0] += 1\n",
    "                    \n",
    "            \n",
    "            else:\n",
    "                passingGrade = math.exp(-(mseSum - mse)/T)  \n",
    "                randomNumber = np.random.random()\n",
    "                # if the new mean squared error is almost as small as the old,\n",
    "                # accept newParameters as establisedParameters \n",
    "                # take the lower mean squared error as the new benchmark\n",
    "                if passingGrade > randomNumber and Tolerant == 'T':\n",
    "                    #print 'passingGrade = %f' % passingGrade\n",
    "                    #print 'randomNumber = %f' % randomNumber\n",
    "                    #print 'difference in mse = %f' % (mseSum - mse)\n",
    "                    mseDifference.append(mseSum - mse)\n",
    "                    #print math.exp(-(mseSum - mse)/T) > np.random.random, (mseSum - mse)\n",
    "                    #print 'Tolerant = T'\n",
    "                    #print mseSum - mse, 'is accepted'\n",
    "                    establishedParameters = newParameters\n",
    "                    mse = mseSum \n",
    "                    \n",
    "                    if timeTracker < 1000:\n",
    "                        trackAcceptance[0][1] += 1\n",
    "                    if timeTracker > (Calculations - MarkovLength):\n",
    "                        trackAcceptance[1][0] += 1\n",
    "            \n",
    "            \n",
    "        # save the lowest mse for each markov chain\n",
    "        lowestMsePerMarkov.append(min(listMSE))\n",
    "        # choose the lowest parameters found in the Markov chain for the next temperature, or not\n",
    "        if Lowest == 'T':\n",
    "            #print 'Lowest = T'\n",
    "            PositionMinimalMSE = listMSE.index(min(listMSE))\n",
    "            establishedParameters = listParameters[PositionMinimalMSE]\n",
    "    \n",
    "    preyQuantity = [el[0] for el in sol]\n",
    "    predatorQuantity = [el[1] for el in sol]\n",
    "    return [establishedParameters, temperatureTrack, trackAcceptance, [preyQuantity,predatorQuantity],mse,mseDifference,lowestMsePerMarkov]"
   ]
  },
  {
   "cell_type": "code",
   "execution_count": 76,
   "metadata": {},
   "outputs": [
    {
     "ename": "ValueError",
     "evalue": "Input contains NaN, infinity or a value too large for dtype('float64').",
     "output_type": "error",
     "traceback": [
      "\u001b[0;31m---------------------------------------------------------------------------\u001b[0m",
      "\u001b[0;31mValueError\u001b[0m                                Traceback (most recent call last)",
      "\u001b[0;32m<ipython-input-76-fb5c0cb93106>\u001b[0m in \u001b[0;36m<module>\u001b[0;34m()\u001b[0m\n\u001b[1;32m      2\u001b[0m \u001b[0;31m#optimize_fit(Calculations,MarkovLength,Tolerant,Lowest,Temperatures,xValues,yValues)\u001b[0m\u001b[0;34m\u001b[0m\u001b[0;34m\u001b[0m\u001b[0m\n\u001b[1;32m      3\u001b[0m \u001b[0;34m\u001b[0m\u001b[0m\n\u001b[0;32m----> 4\u001b[0;31m \u001b[0mMarkovTolerantLowest\u001b[0m \u001b[0;34m=\u001b[0m \u001b[0moptimize_fit\u001b[0m\u001b[0;34m(\u001b[0m\u001b[0;36m1000\u001b[0m\u001b[0;34m,\u001b[0m\u001b[0;36m100\u001b[0m\u001b[0;34m,\u001b[0m\u001b[0;34m'T'\u001b[0m\u001b[0;34m,\u001b[0m\u001b[0;34m'F'\u001b[0m\u001b[0;34m,\u001b[0m\u001b[0;34m[\u001b[0m\u001b[0;36m1\u001b[0m\u001b[0;34m,\u001b[0m\u001b[0;36m.001\u001b[0m\u001b[0;34m]\u001b[0m\u001b[0;34m,\u001b[0m\u001b[0mxValues\u001b[0m\u001b[0;34m,\u001b[0m\u001b[0myValues\u001b[0m\u001b[0;34m,\u001b[0m\u001b[0mtimes\u001b[0m\u001b[0;34m)\u001b[0m\u001b[0;34m\u001b[0m\u001b[0m\n\u001b[0m\u001b[1;32m      5\u001b[0m \u001b[0;34m\u001b[0m\u001b[0m\n\u001b[1;32m      6\u001b[0m \u001b[0;32mprint\u001b[0m \u001b[0;34m'the establised parameters are:'\u001b[0m\u001b[0;34m,\u001b[0m \u001b[0mMarkovTolerantLowest\u001b[0m\u001b[0;34m[\u001b[0m\u001b[0;36m0\u001b[0m\u001b[0;34m]\u001b[0m\u001b[0;34m\u001b[0m\u001b[0m\n",
      "\u001b[0;32m<ipython-input-73-fa5da963b5ec>\u001b[0m in \u001b[0;36moptimize_fit\u001b[0;34m(Calculations, MarkovLength, Tolerant, Lowest, Temperatures, xValues, yValues, times)\u001b[0m\n\u001b[1;32m     63\u001b[0m \u001b[0;34m\u001b[0m\u001b[0m\n\u001b[1;32m     64\u001b[0m             \u001b[0;31m#determine mse of prey and predators and add up\u001b[0m\u001b[0;34m\u001b[0m\u001b[0;34m\u001b[0m\u001b[0m\n\u001b[0;32m---> 65\u001b[0;31m             \u001b[0mmsePrey\u001b[0m \u001b[0;34m=\u001b[0m \u001b[0mdetMSE\u001b[0m\u001b[0;34m(\u001b[0m\u001b[0mxValues\u001b[0m\u001b[0;34m,\u001b[0m \u001b[0;34m[\u001b[0m\u001b[0mel\u001b[0m\u001b[0;34m[\u001b[0m\u001b[0;36m0\u001b[0m\u001b[0;34m]\u001b[0m \u001b[0;32mfor\u001b[0m \u001b[0mel\u001b[0m \u001b[0;32min\u001b[0m \u001b[0msol\u001b[0m\u001b[0;34m]\u001b[0m\u001b[0;34m)\u001b[0m\u001b[0;34m\u001b[0m\u001b[0m\n\u001b[0m\u001b[1;32m     66\u001b[0m             \u001b[0mmsePredators\u001b[0m \u001b[0;34m=\u001b[0m \u001b[0mdetMSE\u001b[0m\u001b[0;34m(\u001b[0m\u001b[0myValues\u001b[0m\u001b[0;34m,\u001b[0m \u001b[0;34m[\u001b[0m\u001b[0mel\u001b[0m\u001b[0;34m[\u001b[0m\u001b[0;36m1\u001b[0m\u001b[0;34m]\u001b[0m \u001b[0;32mfor\u001b[0m \u001b[0mel\u001b[0m \u001b[0;32min\u001b[0m \u001b[0msol\u001b[0m\u001b[0;34m]\u001b[0m\u001b[0;34m)\u001b[0m\u001b[0;34m\u001b[0m\u001b[0m\n\u001b[1;32m     67\u001b[0m             \u001b[0mmseSum\u001b[0m \u001b[0;34m=\u001b[0m \u001b[0mmsePrey\u001b[0m \u001b[0;34m+\u001b[0m \u001b[0mmsePredators\u001b[0m\u001b[0;34m\u001b[0m\u001b[0m\n",
      "\u001b[0;32m/Users/koengreuell/anaconda2/lib/python2.7/site-packages/sklearn/metrics/regression.pyc\u001b[0m in \u001b[0;36mmean_squared_error\u001b[0;34m(y_true, y_pred, sample_weight, multioutput)\u001b[0m\n\u001b[1;32m    236\u001b[0m     \"\"\"\n\u001b[1;32m    237\u001b[0m     y_type, y_true, y_pred, multioutput = _check_reg_targets(\n\u001b[0;32m--> 238\u001b[0;31m         y_true, y_pred, multioutput)\n\u001b[0m\u001b[1;32m    239\u001b[0m     output_errors = np.average((y_true - y_pred) ** 2, axis=0,\n\u001b[1;32m    240\u001b[0m                                weights=sample_weight)\n",
      "\u001b[0;32m/Users/koengreuell/anaconda2/lib/python2.7/site-packages/sklearn/metrics/regression.pyc\u001b[0m in \u001b[0;36m_check_reg_targets\u001b[0;34m(y_true, y_pred, multioutput)\u001b[0m\n\u001b[1;32m     75\u001b[0m     \u001b[0mcheck_consistent_length\u001b[0m\u001b[0;34m(\u001b[0m\u001b[0my_true\u001b[0m\u001b[0;34m,\u001b[0m \u001b[0my_pred\u001b[0m\u001b[0;34m)\u001b[0m\u001b[0;34m\u001b[0m\u001b[0m\n\u001b[1;32m     76\u001b[0m     \u001b[0my_true\u001b[0m \u001b[0;34m=\u001b[0m \u001b[0mcheck_array\u001b[0m\u001b[0;34m(\u001b[0m\u001b[0my_true\u001b[0m\u001b[0;34m,\u001b[0m \u001b[0mensure_2d\u001b[0m\u001b[0;34m=\u001b[0m\u001b[0mFalse\u001b[0m\u001b[0;34m)\u001b[0m\u001b[0;34m\u001b[0m\u001b[0m\n\u001b[0;32m---> 77\u001b[0;31m     \u001b[0my_pred\u001b[0m \u001b[0;34m=\u001b[0m \u001b[0mcheck_array\u001b[0m\u001b[0;34m(\u001b[0m\u001b[0my_pred\u001b[0m\u001b[0;34m,\u001b[0m \u001b[0mensure_2d\u001b[0m\u001b[0;34m=\u001b[0m\u001b[0mFalse\u001b[0m\u001b[0;34m)\u001b[0m\u001b[0;34m\u001b[0m\u001b[0m\n\u001b[0m\u001b[1;32m     78\u001b[0m \u001b[0;34m\u001b[0m\u001b[0m\n\u001b[1;32m     79\u001b[0m     \u001b[0;32mif\u001b[0m \u001b[0my_true\u001b[0m\u001b[0;34m.\u001b[0m\u001b[0mndim\u001b[0m \u001b[0;34m==\u001b[0m \u001b[0;36m1\u001b[0m\u001b[0;34m:\u001b[0m\u001b[0;34m\u001b[0m\u001b[0m\n",
      "\u001b[0;32m/Users/koengreuell/anaconda2/lib/python2.7/site-packages/sklearn/utils/validation.pyc\u001b[0m in \u001b[0;36mcheck_array\u001b[0;34m(array, accept_sparse, dtype, order, copy, force_all_finite, ensure_2d, allow_nd, ensure_min_samples, ensure_min_features, warn_on_dtype, estimator)\u001b[0m\n\u001b[1;32m    451\u001b[0m                              % (array.ndim, estimator_name))\n\u001b[1;32m    452\u001b[0m         \u001b[0;32mif\u001b[0m \u001b[0mforce_all_finite\u001b[0m\u001b[0;34m:\u001b[0m\u001b[0;34m\u001b[0m\u001b[0m\n\u001b[0;32m--> 453\u001b[0;31m             \u001b[0m_assert_all_finite\u001b[0m\u001b[0;34m(\u001b[0m\u001b[0marray\u001b[0m\u001b[0;34m)\u001b[0m\u001b[0;34m\u001b[0m\u001b[0m\n\u001b[0m\u001b[1;32m    454\u001b[0m \u001b[0;34m\u001b[0m\u001b[0m\n\u001b[1;32m    455\u001b[0m     \u001b[0mshape_repr\u001b[0m \u001b[0;34m=\u001b[0m \u001b[0m_shape_repr\u001b[0m\u001b[0;34m(\u001b[0m\u001b[0marray\u001b[0m\u001b[0;34m.\u001b[0m\u001b[0mshape\u001b[0m\u001b[0;34m)\u001b[0m\u001b[0;34m\u001b[0m\u001b[0m\n",
      "\u001b[0;32m/Users/koengreuell/anaconda2/lib/python2.7/site-packages/sklearn/utils/validation.pyc\u001b[0m in \u001b[0;36m_assert_all_finite\u001b[0;34m(X)\u001b[0m\n\u001b[1;32m     42\u001b[0m             and not np.isfinite(X).all()):\n\u001b[1;32m     43\u001b[0m         raise ValueError(\"Input contains NaN, infinity\"\n\u001b[0;32m---> 44\u001b[0;31m                          \" or a value too large for %r.\" % X.dtype)\n\u001b[0m\u001b[1;32m     45\u001b[0m \u001b[0;34m\u001b[0m\u001b[0m\n\u001b[1;32m     46\u001b[0m \u001b[0;34m\u001b[0m\u001b[0m\n",
      "\u001b[0;31mValueError\u001b[0m: Input contains NaN, infinity or a value too large for dtype('float64')."
     ]
    }
   ],
   "source": [
    "#establishedParameters, temperatureTrack, trackAcceptance, [xValues,yValues], sumOfSquares, mseDifference, lowestMsePerMarkov = \n",
    "#optimize_fit(Calculations,MarkovLength,Tolerant,Lowest,Temperatures,xValues,yValues)\n",
    "\n",
    "MarkovTolerantLowest = optimize_fit(1000,100,'T','F',[1,.001],xValues,yValues,times)\n",
    "\n",
    "print 'the establised parameters are:', MarkovTolerantLowest[0]\n",
    "print 'acceptance in the first 1000 trials and last 1000 trials =', MarkovTolerantLowest[2]\n",
    "print 'the sum of squares is %f' % MarkovTolerantLowest[4]\n",
    "\n",
    "\"\"\"\n",
    "# run greedy algorithm in a loop:\n",
    "greedySOS = []\n",
    "greedyParameters = []\n",
    "for i in range(10):\n",
    "    MarkovIntolerant = optimize_fit(1000,100,'F','F',1,xValues,yValues,times)\n",
    "    greedySOS.append(MarkovIntolerant[4])\n",
    "    greedyParameters.append(MarkovIntolerant[0])\n",
    "\"\"\""
   ]
  },
  {
   "cell_type": "code",
   "execution_count": 43,
   "metadata": {},
   "outputs": [
    {
     "name": "stdout",
     "output_type": "stream",
     "text": [
      "the establised parameters are: [-32.49776547515202, 6.398801442567592, 9.701673333706765, 1.562095235015507]\n",
      "acceptance in the first 1000 trials and last 1000 trials = [[367, 397], [765, 0]]\n",
      "the sum of squares is 11.372756\n"
     ]
    }
   ],
   "source": [
    "HillDescent = optimize_fit(1000,1000,'T','F',[1,.001],xValues,yValues,times)\n",
    "\n",
    "print 'the establised parameters are:', HillDescent[0]\n",
    "print 'acceptance in the first 1000 trials and last 1000 trials =', HillDescent[2]\n",
    "print 'the sum of squares is %f' % HillDescent[4]"
   ]
  },
  {
   "cell_type": "code",
   "execution_count": 46,
   "metadata": {},
   "outputs": [
    {
     "name": "stdout",
     "output_type": "stream",
     "text": [
      "[8.760857439321358, 9.609350878241289, 10.478656171660246, 6.537225381298013, 4.837219467562688, 6.7340813695881305, 8.383468927058816, 6.27909864071118, 6.8319088277827165, 9.871103224483674]\n"
     ]
    }
   ],
   "source": [
    "#run the greedy algorhithm\n",
    "Calculations = 30000\n",
    "\n",
    "# run greedy algorithm in a loop:\n",
    "greedySOS = []\n",
    "greedyParameters = []\n",
    "\n",
    "for i in range(10):\n",
    "    MarkovIntolerant = optimize_fit(1000,1000,'F','F',[1,.001],xValues,yValues,times)\n",
    "    greedySOS.append(MarkovIntolerant[4])\n",
    "    greedyParameters.append(MarkovIntolerant[0])\n",
    "\n",
    "print greedySOS"
   ]
  },
  {
   "cell_type": "code",
   "execution_count": 47,
   "metadata": {},
   "outputs": [
    {
     "name": "stdout",
     "output_type": "stream",
     "text": [
      "4.837219467562688\n",
      "[2.290493870183614, 1.8399582415242643, 5.846993849393054, 5.983025766988251]\n"
     ]
    }
   ],
   "source": [
    "print greedySOS[4]\n",
    "print greedyParameters[4]"
   ]
  },
  {
   "cell_type": "code",
   "execution_count": 39,
   "metadata": {},
   "outputs": [
    {
     "data": {
      "image/png": "[encoded data removed]",
      "text/plain": [
       "<Figure size 432x288 with 1 Axes>"
      ]
     },
     "metadata": {
      "needs_background": "light"
     },
     "output_type": "display_data"
    },
    {
     "data": {
      "image/png": "[encoded data removed]",
      "text/plain": [
       "<Figure size 432x288 with 1 Axes>"
      ]
     },
     "metadata": {
      "needs_background": "light"
     },
     "output_type": "display_data"
    }
   ],
   "source": [
    "# show the temperature shows exponential decay\n",
    "plt.plot(MarkovTolerantLowest[1])\n",
    "plt.show()\n",
    "\n",
    "# show the mse change\n",
    "plt.plot(MarkovTolerantLowest[6])\n",
    "plt.show()"
   ]
  },
  {
   "cell_type": "code",
   "execution_count": 40,
   "metadata": {},
   "outputs": [
    {
     "data": {
      "image/png": "[encoded data removed]",
      "text/plain": [
       "<Figure size 1080x360 with 1 Axes>"
      ]
     },
     "metadata": {
      "needs_background": "light"
     },
     "output_type": "display_data"
    }
   ],
   "source": [
    "plt.figure(figsize=(15,5))\n",
    "\n",
    "# plot the data\n",
    "plt.plot(times,xValues,'x', label = 'prey data', color = 'b')\n",
    "plt.plot(times,yValues,'x', label = 'predators data', color = 'r')\n",
    "\n",
    "# plot various fitting options\n",
    "plt.plot(times,MarkovTolerantLowest[3][0],label = 'annealing prey fit',color = 'b')\n",
    "plt.plot(times,MarkovTolerantLowest[3][1],label = 'annealing predators fit',color = 'r')\n",
    "\"\"\"\n",
    "plt.plot(times,ContinuousTolerant[3][0],label = 'continuous annealing prey fit',ls='dashed',color = 'b')\n",
    "plt.plot(times,ContinuousTolerant[3][1],label = 'continuous annealing predators fit',ls='dashed',color = 'r')\n",
    "plt.plot(times,MarkovIntolerant[3][0],label = 'greedy prey fit',ls='dashdot',color = 'b')\n",
    "plt.plot(times,MarkovIntolerant[3][1],label = 'greedy predators fit',ls='dashdot',color = 'r')\n",
    "\"\"\"\n",
    "plt.yscale(\"log\")\n",
    "plt.xlabel('time')\n",
    "plt.ylabel('n')\n",
    "plt.legend()\n",
    "plt.show()"
   ]
  },
  {
   "cell_type": "code",
   "execution_count": 27,
   "metadata": {},
   "outputs": [
    {
     "name": "stdout",
     "output_type": "stream",
     "text": [
      "False\n",
      "passingGrade = 0.000000\n",
      "randomNumber = 0.859295\n",
      "difference in mse = 91.000000\n"
     ]
    }
   ],
   "source": [
    "\"\"\"\n",
    "mseSum = 101\n",
    "mse = 10\n",
    "T = 4\n",
    "passingGrade = math.exp(-(mseSum - mse)/T)  \n",
    "randomNumber = np.random.random()\n",
    "# if the new mean squared error is almost as small as the old,\n",
    "# accept newParameters as establisedParameters \n",
    "# take the lower mean squared error as the new benchmark\n",
    "print passingGrade > randomNumber\n",
    "print 'passingGrade = %f' % passingGrade\n",
    "print 'randomNumber = %f' % randomNumber\n",
    "print 'difference in mse = %f' % (mseSum - mse)\n",
    "\"\"\""
   ]
  },
  {
   "cell_type": "code",
   "execution_count": 44,
   "metadata": {},
   "outputs": [
    {
     "data": {
      "text/plain": [
       "'\\nprint max(MarkovTolerantLowest[5])\\nprint len(MarkovTolerantLowest[5])\\nprint \\nprint MarkovTolerantLowest[5]\\n'"
      ]
     },
     "execution_count": 44,
     "metadata": {},
     "output_type": "execute_result"
    }
   ],
   "source": [
    "\"\"\"\n",
    "print max(MarkovTolerantLowest[5])\n",
    "print len(MarkovTolerantLowest[5])\n",
    "print \n",
    "print MarkovTolerantLowest[5]\n",
    "\"\"\""
   ]
  },
  {
   "cell_type": "code",
   "execution_count": 15,
   "metadata": {},
   "outputs": [
    {
     "name": "stdout",
     "output_type": "stream",
     "text": [
      "10.236861033829463\n",
      "19.544025390081288\n",
      "3.016743837984238\n"
     ]
    }
   ],
   "source": [
    "\"\"\"\n",
    "smallerMarkovTolerantLowest = MarkovTolerantLowest[4]\n",
    "smallerContinuousTolerant = ContinuousTolerant[4]\n",
    "smallerMarkovIntolerant = min(greedySOS)\n",
    "print smallerMarkovTolerantLowest\n",
    "print smallerContinuousTolerant\n",
    "print smallerMarkovIntolerant\n",
    "\"\"\""
   ]
  },
  {
   "cell_type": "code",
   "execution_count": 16,
   "metadata": {},
   "outputs": [
    {
     "name": "stdout",
     "output_type": "stream",
     "text": [
      "12.280969869804345\n",
      "8.78345960453889\n",
      "3.1192959582800857\n"
     ]
    }
   ],
   "source": [
    "\"\"\"\n",
    "biggerMarkovTolerantLowest = MarkovTolerantLowest[4]\n",
    "biggerContinuousTolerant = ContinuousTolerant[4]\n",
    "biggerMarkovIntolerant = min(greedySOS)\n",
    "\"\"\"\n",
    "\"\"\"\n",
    "print biggerMarkovTolerantLowest\n",
    "print biggerContinuousTolerant\n",
    "print biggerMarkovIntolerant\n",
    "\"\"\""
   ]
  },
  {
   "cell_type": "code",
   "execution_count": 64,
   "metadata": {},
   "outputs": [
    {
     "name": "stdout",
     "output_type": "stream",
     "text": [
      "[5.3732390059705475, 4.74929595737017, 5, 5]\n",
      "[5, 5, 4.332994925389067, 4.898617134126904]\n",
      "[5, 5, 5, 5.658450007198162]\n",
      "[5.444136815767763, 5, 5.368710090011034, 5.738955607335337]\n",
      "[5, 4.4950451882869125, 4.098481998665793, 5.891208606070109]\n",
      "[5, 5.701489672151407, 4.843107985724201, 6.1953853946996436]\n",
      "[4.010343862226356, 5, 4.448275541312686, 4.790880435350588]\n",
      "[5.50221594791544, 5, 5.224278394154762, 5]\n",
      "[5, 5.368405799785517, 5, 5]\n",
      "[4.551235386382739, 4.630201523116889, 4.126520474622348, 5]\n"
     ]
    }
   ],
   "source": [
    "# randomly change parameters, \n",
    "# with p = 1./2 for each parameter to be changed \n",
    "# the parameter is changed to a completely new number in the range\n",
    "def changeMultipleParameters(parameters, samplingSpace):\n",
    "    change = 0\n",
    "    while change == 0:\n",
    "        randomNumber = np.random.random()\n",
    "        if randomNumber < 1./2:\n",
    "            AddSubtract = 1 if np.random.random() < 0.5 else -1\n",
    "            parameters[0] += AddSubtract*np.random.exponential(.5,1)[0]\n",
    "            # if parameters[0] < -samplingSpace and parameters[0] > samplingSpace:\n",
    "            change = 1\n",
    "        randomNumber = np.random.random()\n",
    "        if randomNumber < 1./2:\n",
    "            AddSubtract = 1 if np.random.random() < 0.5 else -1\n",
    "            parameters[1] += AddSubtract*np.random.exponential(.5,1)[0]\n",
    "            # if parameters[1] < -samplingSpace and parameters[0] > samplingSpace:\n",
    "            change = 1\n",
    "        randomNumber = np.random.random()\n",
    "        if randomNumber < 1./2:\n",
    "            AddSubtract = 1 if np.random.random() < 0.5 else -1\n",
    "            parameters[2] += AddSubtract*np.random.exponential(.5,1)[0]\n",
    "            # if parameters[2] < -samplingSpace and parameters[0] > samplingSpace:\n",
    "            change = 1\n",
    "        randomNumber = np.random.random()\n",
    "        if randomNumber < 1./2:\n",
    "            AddSubtract = 1 if np.random.random() < 0.5 else -1\n",
    "            parameters[3] += AddSubtract*np.random.exponential(.5,1)[0]\n",
    "            # if parameters[3] < -samplingSpace and parameters[0] > samplingSpace:\n",
    "            change = 1\n",
    "    return parameters\n",
    "\n",
    "for i in range(10):\n",
    "    print changeMultipleParameters([5,5,5,5], 10)"
   ]
  },
  {
   "cell_type": "code",
   "execution_count": null,
   "metadata": {},
   "outputs": [],
   "source": []
  }
 ],
 "metadata": {
  "kernelspec": {
   "display_name": "Python 2",
   "language": "python",
   "name": "python2"
  },
  "language_info": {
   "codemirror_mode": {
    "name": "ipython",
    "version": 2
   },
   "file_extension": ".py",
   "mimetype": "text/x-python",
   "name": "python",
   "nbconvert_exporter": "python",
   "pygments_lexer": "ipython2",
   "version": "2.7.15"
  }
 },
 "nbformat": 4,
 "nbformat_minor": 2
}
