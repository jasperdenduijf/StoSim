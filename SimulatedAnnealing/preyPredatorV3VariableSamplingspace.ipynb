{
 "cells": [
  {
   "cell_type": "code",
   "execution_count": 1,
   "metadata": {},
   "outputs": [
    {
     "data": {
      "text/plain": [
       "\"\\nIn annealing the temperature is also increased sometimes. Should we do the same?\\nShould the temperature in simulated annealing decrease linearly?\\nCan we not get stuck in a local minimum by changing one parameter at a time? see picture '2dLocalMinima'\\n\""
      ]
     },
     "execution_count": 1,
     "metadata": {},
     "output_type": "execute_result"
    }
   ],
   "source": [
    "\"\"\"\n",
    "work on:\n",
    "X cooling schedule (exponential decay)\n",
    "ode\n",
    "X accept 98% (only for present settings)\n",
    "determine right samplingspace\n",
    "X randomly change one or more variables\n",
    "\n",
    "Can we not get stuck in a local minimum by changing one parameter at a time? see picture '2dLocalMinima'\n",
    "\n",
    "Annealing temperature:\n",
    "A good rule of thumb is that your initial temperature Tmax should be set to accept roughly 98% of the moves \n",
    "and that the final temperature Tmin should be low enough that the solution does not improve much, if at all.\n",
    "\n",
    "The number of steps can influence the results; \n",
    "if there are not enough iterations to adequately explore the search space it can get trapped at a local minimum.\n",
    "\n",
    "steven said a samplingspace of 2 should work\n",
    "\"\"\""
   ]
  },
  {
   "cell_type": "code",
   "execution_count": 2,
   "metadata": {},
   "outputs": [
    {
     "data": {
      "application/javascript": [
       "IPython.OutputArea.prototype._should_scroll = function(lines) {\n",
       "    return false;\n",
       "}\n",
       "// from https://stackoverflow.com/questions/36757301/disable-ipython-notebook-autoscrolling\n",
       "// disable scroll"
      ],
      "text/plain": [
       "<IPython.core.display.Javascript object>"
      ]
     },
     "metadata": {},
     "output_type": "display_data"
    }
   ],
   "source": [
    "%%javascript\n",
    "IPython.OutputArea.prototype._should_scroll = function(lines) {\n",
    "    return false;\n",
    "}\n",
    "// from https://stackoverflow.com/questions/36757301/disable-ipython-notebook-autoscrolling\n",
    "// disable scroll"
   ]
  },
  {
   "cell_type": "code",
   "execution_count": 3,
   "metadata": {},
   "outputs": [],
   "source": [
    "import matplotlib.pyplot as plt\n",
    "import pandas\n",
    "import numpy as np\n",
    "from scipy.integrate import solve_ivp\n",
    "from sklearn.metrics import mean_squared_error as detMSE"
   ]
  },
  {
   "cell_type": "code",
   "execution_count": 37,
   "metadata": {},
   "outputs": [
    {
     "name": "stdout",
     "output_type": "stream",
     "text": [
      "inf\n",
      "0.90799859525\n"
     ]
    },
    {
     "name": "stderr",
     "output_type": "stream",
     "text": [
      "/Users/koengreuell/anaconda2/lib/python2.7/site-packages/ipykernel_launcher.py:6: RuntimeWarning: divide by zero encountered in log\n",
      "  \n"
     ]
    }
   ],
   "source": [
    "# set temperatures\n",
    "def temperature(TMax,time):\n",
    "    T = TMax * np.e**(-1./(TMax / 10.)*time)\n",
    "    return T\n",
    "\n",
    "# differential equation for prey\n",
    "def dx(alfa, x, beta, y):\n",
    "    dx = alfa * x - beta * x * y\n",
    "    return dx\n",
    "\n",
    "# differential equation for predators\n",
    "def dy(delta, x, y, gamma):\n",
    "    dy = delta * x * y - gamma * y\n",
    "    return dy\n",
    "\n",
    "# solving differential equtions using Euler method\n",
    "def EulerSolveODE(x,y,parameters, times):\n",
    "    for month in times:\n",
    "        xList.append(x)\n",
    "        yList.append(y)    \n",
    "        x += dx(parameters[0], x, parameters[1], y)\n",
    "        y += dy(parameters[2], x, y, parameters[3]) \n",
    "\n",
    "# randomly change one of the parameters \n",
    "# all change at equal probability\n",
    "# the parameter is changed to a completely new number in the range\n",
    "def changeParameter(parameters, samplingSpace):\n",
    "    randomNumber = np.random.random()\n",
    "    if randomNumber < 1./4:\n",
    "        parameters[0] = np.random.random()*samplingSpace\n",
    "    elif randomNumber < 2./4:\n",
    "        parameters[1] = np.random.random()*samplingSpace\n",
    "    elif randomNumber < 3./4:\n",
    "        parameters[2] = np.random.random()*samplingSpace\n",
    "    else:\n",
    "        parameters[3] = np.random.random()*samplingSpace\n",
    "    return parameters\n",
    "\n",
    "# randomly change parameters, \n",
    "# with p = 1./2 for each parameter to be changed \n",
    "# the parameter is changed to a completely new number in the range\n",
    "def changeMultipleParameters(parameters, samplingSpace):\n",
    "    change = 0\n",
    "    while change == 0:\n",
    "        randomNumber = np.random.random()\n",
    "        if randomNumber < 1./2:\n",
    "            parameters[0] = np.random.random()*samplingSpace\n",
    "            change = 1\n",
    "        randomNumber = np.random.random()\n",
    "        if randomNumber < 1./2:\n",
    "            parameters[1] = np.random.random()*samplingSpace\n",
    "            change = 1\n",
    "        randomNumber = np.random.random()\n",
    "        if randomNumber < 1./2:\n",
    "            parameters[2] = np.random.random()*samplingSpace\n",
    "            change = 1\n",
    "        randomNumber = np.random.random()\n",
    "        if randomNumber < 1./2:\n",
    "            parameters[3] = np.random.random()*samplingSpace\n",
    "            change = 1\n",
    "    return parameters"
   ]
  },
  {
   "cell_type": "code",
   "execution_count": 6,
   "metadata": {},
   "outputs": [],
   "source": [
    "# import csv using pandas\n",
    "# create 3 data lists: time, prey and predators\n",
    "pandaFile = pandas.read_csv('predator-prey-data.csv')\n",
    "times = []\n",
    "xValues = []\n",
    "yValues = []\n",
    "for row in range(len(pandaFile['t'])):\n",
    "    time = pandaFile['t'][row]\n",
    "    x = pandaFile['x'][row]\n",
    "    y = pandaFile['y'][row]\n",
    "    times.append(time)\n",
    "    xValues.append(x)\n",
    "    yValues.append(y)"
   ]
  },
  {
   "cell_type": "code",
   "execution_count": 38,
   "metadata": {},
   "outputs": [
    {
     "name": "stdout",
     "output_type": "stream",
     "text": [
      "[0.04744196090032768, 0.05238213533677153, 0.09794876172262962, 0.0020050928429865447]\n"
     ]
    }
   ],
   "source": [
    "# using Euler\n",
    "# prey and predators are float numbers\n",
    "\n",
    "# initial guesses\n",
    "\n",
    "# set the initial amount of prey and predators equal to those of the real data\n",
    "x = xValues[0] #amount of prey\n",
    "y = yValues[0] #amount of predators\n",
    "\n",
    "# set the sampling space\n",
    "samplingSpace = 0.1\n",
    "\n",
    "# assign a random number to the parameters in the range\n",
    "alfa = np.random.random()*samplingSpace #birth rate prey\n",
    "beta = np.random.random()*samplingSpace #prey catch rate\n",
    "delta = np.random.random()*samplingSpace #birth of predators per predator per prey\n",
    "gamma = np.random.random()*samplingSpace #death rate predators\n",
    "establishedParameters = [alfa,beta,delta,gamma]\n",
    "\n",
    "# assign the cooling schedule\n",
    "TMax = 20000 # proper starting temperature for samplingspace = 0.1\n",
    "temperatures = []\n",
    "for time in range(20000):\n",
    "    T = temperature(TMax,time)\n",
    "    temperatures.append(T)\n",
    "\n",
    "#TMin = 19000#1\n",
    "#temperatures = np.arange(TMax,TMin-1,-1)\n",
    "\n",
    "# assign a high number to the mean squared error \n",
    "#hoping the first random guess of the parameters will lead to acceptance\n",
    "mse = 999999999\n",
    "\n",
    "# track how often new values are assigned\n",
    "trackAcceptance = [0,0]\n",
    "#MSEDifferencePerT = []\n",
    "\n",
    "# simulating annealing\n",
    "for T in temperatures:\n",
    "    \n",
    "    # set newParameters almost equal to establisedParameters\n",
    "    # changing only 1 using the function changeParameter\n",
    "    newParameters = changeMultipleParameters(establishedParameters, samplingSpace)\n",
    "    \n",
    "    # calculate the amount of prey and predators for each time point indicated from data\n",
    "    # assume all time point lie at equal distance\n",
    "    xList = []\n",
    "    yList = []\n",
    "    EulerSolveODE(x,y,newParameters, times)\n",
    "    \n",
    "    #determine mse of prey and predators\n",
    "    msePrey = detMSE(xValues,xList)\n",
    "    msePredators = detMSE(yValues,yList)\n",
    "    mseSum = msePrey + msePredators\n",
    "    \n",
    "    # if the new mean squared error is smaller than the old, \n",
    "    # accept newParameters as establisedParameters\n",
    "    # take the lower mean squared error as the new benchmark\n",
    "    if mseSum < mse:\n",
    "        establishedParameters = newParameters\n",
    "        mse = mseSum\n",
    "        \n",
    "        trackAcceptance[0] += 1\n",
    "        \n",
    "        \n",
    "    # if the new mean squared error is almost as small as the old,\n",
    "    # accept newParameters as establisedParameters \n",
    "    # take the lower mean squared error as the new benchmark\n",
    "    elif (mseSum - mse)/T < np.random.random():\n",
    "        establishedParameters = newParameters\n",
    "        mse = mseSum \n",
    "        \n",
    "        trackAcceptance[1] += 1\n",
    "        # track the score difference\n",
    "        #MSEDifferencePerT.append(mseSum - mse)\n",
    "        \n",
    "        \n",
    "print establishedParameters"
   ]
  },
  {
   "cell_type": "code",
   "execution_count": 39,
   "metadata": {},
   "outputs": [
    {
     "data": {
      "image/png": "[encoded data removed]",
      "text/plain": [
       "<Figure size 432x288 with 1 Axes>"
      ]
     },
     "metadata": {
      "needs_background": "light"
     },
     "output_type": "display_data"
    }
   ],
   "source": [
    "plt.plot(range(20000),temperatures)\n",
    "plt.show()"
   ]
  },
  {
   "cell_type": "code",
   "execution_count": 23,
   "metadata": {},
   "outputs": [
    {
     "name": "stdout",
     "output_type": "stream",
     "text": [
      "981\n",
      "1001\n",
      "0.98001998002\n"
     ]
    }
   ],
   "source": [
    "print sum(trackAcceptance)\n",
    "print len(temperatures)\n",
    "print float(sum(trackAcceptance)) / len(temperatures)"
   ]
  },
  {
   "cell_type": "code",
   "execution_count": 8,
   "metadata": {},
   "outputs": [
    {
     "data": {
      "image/png": "[encoded data removed]",
      "text/plain": [
       "<Figure size 1080x360 with 1 Axes>"
      ]
     },
     "metadata": {
      "needs_background": "light"
     },
     "output_type": "display_data"
    }
   ],
   "source": [
    "#print 'xList =', xList\n",
    "#print 'yList =', yList\n",
    "plt.figure(figsize=(15,5))\n",
    "plt.plot(times,xValues,'x', label = 'prey data', color = 'b')\n",
    "plt.plot(times,yValues,'x', label = 'predators data', color = 'r')\n",
    "plt.plot(times,xList,label = 'prey fit', color = 'b')\n",
    "plt.plot(times,yList, label = 'predators fit', color = 'r')\n",
    "plt.yscale(\"log\")\n",
    "plt.xlabel('time')\n",
    "plt.ylabel('n')\n",
    "plt.legend()\n",
    "plt.show()"
   ]
  },
  {
   "cell_type": "code",
   "execution_count": 16,
   "metadata": {},
   "outputs": [
    {
     "data": {
      "text/plain": [
       "0.9048374180359595"
      ]
     },
     "execution_count": 16,
     "metadata": {},
     "output_type": "execute_result"
    }
   ],
   "source": [
    "np.e**-.1"
   ]
  },
  {
   "cell_type": "code",
   "execution_count": null,
   "metadata": {},
   "outputs": [],
   "source": []
  }
 ],
 "metadata": {
  "kernelspec": {
   "display_name": "Python 2",
   "language": "python",
   "name": "python2"
  },
  "language_info": {
   "codemirror_mode": {
    "name": "ipython",
    "version": 2
   },
   "file_extension": ".py",
   "mimetype": "text/x-python",
   "name": "python",
   "nbconvert_exporter": "python",
   "pygments_lexer": "ipython2",
   "version": "2.7.15"
  }
 },
 "nbformat": 4,
 "nbformat_minor": 2
}
