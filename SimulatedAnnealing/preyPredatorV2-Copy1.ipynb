{
 "cells": [
  {
   "cell_type": "code",
   "execution_count": 12,
   "metadata": {},
   "outputs": [
    {
     "data": {
      "text/plain": [
       "\"\\nIn annealing the temperature is also increased sometimes. Should we do the same?\\nShould the temperature in simulated annealing decrease linearly?\\nCan we not get stuck in a local minimum by changing one parameter at a time? see picture '2dLocalMinima'\\n\""
      ]
     },
     "execution_count": 12,
     "metadata": {},
     "output_type": "execute_result"
    }
   ],
   "source": [
    "\"\"\"\n",
    "In annealing the temperature is also increased sometimes. Should we do the same?\n",
    "Should the temperature in simulated annealing decrease linearly?\n",
    "Can we not get stuck in a local minimum by changing one parameter at a time? see picture '2dLocalMinima'\n",
    "\"\"\""
   ]
  },
  {
   "cell_type": "code",
   "execution_count": 13,
   "metadata": {},
   "outputs": [
    {
     "data": {
      "application/javascript": [
       "IPython.OutputArea.prototype._should_scroll = function(lines) {\n",
       "    return false;\n",
       "}\n",
       "// from https://stackoverflow.com/questions/36757301/disable-ipython-notebook-autoscrolling\n",
       "// disable scroll"
      ],
      "text/plain": [
       "<IPython.core.display.Javascript object>"
      ]
     },
     "metadata": {},
     "output_type": "display_data"
    }
   ],
   "source": [
    "%%javascript\n",
    "IPython.OutputArea.prototype._should_scroll = function(lines) {\n",
    "    return false;\n",
    "}\n",
    "// from https://stackoverflow.com/questions/36757301/disable-ipython-notebook-autoscrolling\n",
    "// disable scroll"
   ]
  },
  {
   "cell_type": "code",
   "execution_count": 14,
   "metadata": {},
   "outputs": [],
   "source": [
    "import matplotlib.pyplot as plt\n",
    "import pandas\n",
    "import numpy as np\n",
    "from scipy.integrate import solve_ivp\n",
    "from sklearn.metrics import mean_squared_error as detMSE"
   ]
  },
  {
   "cell_type": "code",
   "execution_count": 66,
   "metadata": {},
   "outputs": [],
   "source": [
    "# differential equation for prey\n",
    "def dx(alfa, x, beta, y):\n",
    "    dx = alfa * x - beta * x * y\n",
    "    return dx\n",
    "\n",
    "# differential equation for predators\n",
    "def dy(delta, x, y, gamma):\n",
    "    dy = delta * x * y - gamma * y\n",
    "    return dy\n",
    "\n",
    "# solving differential equtions using Euler method\n",
    "def EulerSolveODE(x,y,parameters, times):\n",
    "    for month in times:\n",
    "        xList.append(x)\n",
    "        yList.append(y)    \n",
    "        x += dx(parameters[0], x, parameters[1], y)\n",
    "        y += dy(parameters[2], x, y, parameters[3]) \n",
    "        \n",
    "def pend(f, t, a, b, c, d):\n",
    "    x, y = f\n",
    "    dfdt = [a*x - b*x*y, d*x*y - c*y]\n",
    "    return dfdt\n",
    "\n",
    "# randomly change one of the parameters \n",
    "# all change at equal probability\n",
    "# the parameter is changed to a completely new number in the range\n",
    "def changeParameter(parameters):\n",
    "    randomNumber = np.random.random()\n",
    "    if randomNumber < 1./4:\n",
    "        parameters[0] += np.random.random() - 0.5\n",
    "    elif randomNumber < 2./4:\n",
    "        parameters[1] += np.random.random() - 0.5\n",
    "    elif randomNumber < 3./4:\n",
    "        parameters[2] += np.random.random() - 0.5\n",
    "    else:\n",
    "        parameters[3] += np.random.random() - 0.5\n",
    "    return parameters"
   ]
  },
  {
   "cell_type": "code",
   "execution_count": 64,
   "metadata": {},
   "outputs": [],
   "source": [
    "# import csv using pandas\n",
    "# create 3 data lists: time, prey and predators\n",
    "pandaFile = pandas.read_csv('predator-prey-data.csv')\n",
    "times = []\n",
    "xValues = []\n",
    "yValues = []\n",
    "for row in range(len(pandaFile['t'])):\n",
    "    time = pandaFile['t'][row]\n",
    "    x = pandaFile['x'][row]\n",
    "    y = pandaFile['y'][row]\n",
    "    times.append(time)\n",
    "    xValues.append(x)\n",
    "    yValues.append(y)"
   ]
  },
  {
   "cell_type": "code",
   "execution_count": 74,
   "metadata": {},
   "outputs": [
    {
     "name": "stdout",
     "output_type": "stream",
     "text": [
      "[4.257668121838833, 1.6160323256997922, 1.9042055884465965, 3.920389899463671]\n",
      "[4.257668121838833, 1.8391822117509005, 1.9042055884465965, 3.920389899463671]\n",
      "[4.073539541018579, 1.1408744298491276, 1.1298372923036164, 3.8142749018418196]\n",
      "[4.087603086655273, 1.080888385937095, 2.6114348067754536, 4.3505546555306225]\n",
      "[4.087603086655273, 1.080888385937095, 2.6114348067754536, 4.817262124144975]\n",
      "[3.448089130548585, 1.0023867081272524, 1.5625876372802998, 6.090708797920284]\n",
      "[3.2514564149896494, 0.9825911840669685, 1.5479279210054122, 5.458214913566384]\n",
      "[4.526927930801593, 1.3474868066690275, 2.482313600489397, 2.865115376522247]\n",
      "[4.317386218584445, 0.3106982871502897, 1.0720012172710558, 3.0392460498187037]\n",
      "[3.513593612777997, 0.5233441499088984, 1.0774752088958268, 2.9418070843154527]\n",
      "[3.513593612777997, 0.41326344450828, 0.9657946329881009, 2.369019077532495]\n"
     ]
    },
    {
     "name": "stderr",
     "output_type": "stream",
     "text": [
      "C:\\Users\\jaspe\\Anaconda3\\lib\\site-packages\\scipy\\integrate\\odepack.py:236: ODEintWarning: Excess work done on this call (perhaps wrong Dfun type). Run with full_output = 1 to get quantitative information.\n",
      "  warnings.warn(warning_msg, ODEintWarning)\n",
      "C:\\Users\\jaspe\\Anaconda3\\lib\\site-packages\\sklearn\\metrics\\regression.py:239: RuntimeWarning: overflow encountered in square\n",
      "  output_errors = np.average((y_true - y_pred) ** 2, axis=0,\n",
      "C:\\Users\\jaspe\\Anaconda3\\lib\\site-packages\\ipykernel_launcher.py:8: RuntimeWarning: overflow encountered in double_scalars\n",
      "  \n",
      "C:\\Users\\jaspe\\Anaconda3\\lib\\site-packages\\scipy\\integrate\\odepack.py:236: ODEintWarning: Illegal input detected (internal error). Run with full_output = 1 to get quantitative information.\n",
      "  warnings.warn(warning_msg, ODEintWarning)\n"
     ]
    },
    {
     "ename": "ValueError",
     "evalue": "Input contains NaN, infinity or a value too large for dtype('float64').",
     "output_type": "error",
     "traceback": [
      "\u001b[1;31m---------------------------------------------------------------------------\u001b[0m",
      "\u001b[1;31mValueError\u001b[0m                                Traceback (most recent call last)",
      "\u001b[1;32m<ipython-input-74-755e052cbcc5>\u001b[0m in \u001b[0;36m<module>\u001b[1;34m()\u001b[0m\n\u001b[0;32m     43\u001b[0m \u001b[1;33m\u001b[0m\u001b[0m\n\u001b[0;32m     44\u001b[0m     \u001b[1;31m#determine mse of prey and predators\u001b[0m\u001b[1;33m\u001b[0m\u001b[1;33m\u001b[0m\u001b[0m\n\u001b[1;32m---> 45\u001b[1;33m     \u001b[0mmsePrey\u001b[0m \u001b[1;33m=\u001b[0m \u001b[0mdetMSE\u001b[0m\u001b[1;33m(\u001b[0m\u001b[0mxValues\u001b[0m\u001b[1;33m,\u001b[0m \u001b[1;33m[\u001b[0m\u001b[0mel\u001b[0m\u001b[1;33m[\u001b[0m\u001b[1;36m0\u001b[0m\u001b[1;33m]\u001b[0m \u001b[1;32mfor\u001b[0m \u001b[0mel\u001b[0m \u001b[1;32min\u001b[0m \u001b[0msol\u001b[0m\u001b[1;33m]\u001b[0m\u001b[1;33m)\u001b[0m\u001b[1;33m\u001b[0m\u001b[0m\n\u001b[0m\u001b[0;32m     46\u001b[0m     \u001b[0mmsePredators\u001b[0m \u001b[1;33m=\u001b[0m \u001b[0mdetMSE\u001b[0m\u001b[1;33m(\u001b[0m\u001b[0myValues\u001b[0m\u001b[1;33m,\u001b[0m \u001b[1;33m[\u001b[0m\u001b[0mel\u001b[0m\u001b[1;33m[\u001b[0m\u001b[1;36m0\u001b[0m\u001b[1;33m]\u001b[0m \u001b[1;32mfor\u001b[0m \u001b[0mel\u001b[0m \u001b[1;32min\u001b[0m \u001b[0msol\u001b[0m\u001b[1;33m]\u001b[0m\u001b[1;33m)\u001b[0m\u001b[1;33m\u001b[0m\u001b[0m\n\u001b[0;32m     47\u001b[0m     \u001b[0mmseSum\u001b[0m \u001b[1;33m=\u001b[0m \u001b[0mmsePrey\u001b[0m \u001b[1;33m+\u001b[0m \u001b[0mmsePredators\u001b[0m\u001b[1;33m\u001b[0m\u001b[0m\n",
      "\u001b[1;32m~\\Anaconda3\\lib\\site-packages\\sklearn\\metrics\\regression.py\u001b[0m in \u001b[0;36mmean_squared_error\u001b[1;34m(y_true, y_pred, sample_weight, multioutput)\u001b[0m\n\u001b[0;32m    236\u001b[0m     \"\"\"\n\u001b[0;32m    237\u001b[0m     y_type, y_true, y_pred, multioutput = _check_reg_targets(\n\u001b[1;32m--> 238\u001b[1;33m         y_true, y_pred, multioutput)\n\u001b[0m\u001b[0;32m    239\u001b[0m     output_errors = np.average((y_true - y_pred) ** 2, axis=0,\n\u001b[0;32m    240\u001b[0m                                weights=sample_weight)\n",
      "\u001b[1;32m~\\Anaconda3\\lib\\site-packages\\sklearn\\metrics\\regression.py\u001b[0m in \u001b[0;36m_check_reg_targets\u001b[1;34m(y_true, y_pred, multioutput)\u001b[0m\n\u001b[0;32m     75\u001b[0m     \u001b[0mcheck_consistent_length\u001b[0m\u001b[1;33m(\u001b[0m\u001b[0my_true\u001b[0m\u001b[1;33m,\u001b[0m \u001b[0my_pred\u001b[0m\u001b[1;33m)\u001b[0m\u001b[1;33m\u001b[0m\u001b[0m\n\u001b[0;32m     76\u001b[0m     \u001b[0my_true\u001b[0m \u001b[1;33m=\u001b[0m \u001b[0mcheck_array\u001b[0m\u001b[1;33m(\u001b[0m\u001b[0my_true\u001b[0m\u001b[1;33m,\u001b[0m \u001b[0mensure_2d\u001b[0m\u001b[1;33m=\u001b[0m\u001b[1;32mFalse\u001b[0m\u001b[1;33m)\u001b[0m\u001b[1;33m\u001b[0m\u001b[0m\n\u001b[1;32m---> 77\u001b[1;33m     \u001b[0my_pred\u001b[0m \u001b[1;33m=\u001b[0m \u001b[0mcheck_array\u001b[0m\u001b[1;33m(\u001b[0m\u001b[0my_pred\u001b[0m\u001b[1;33m,\u001b[0m \u001b[0mensure_2d\u001b[0m\u001b[1;33m=\u001b[0m\u001b[1;32mFalse\u001b[0m\u001b[1;33m)\u001b[0m\u001b[1;33m\u001b[0m\u001b[0m\n\u001b[0m\u001b[0;32m     78\u001b[0m \u001b[1;33m\u001b[0m\u001b[0m\n\u001b[0;32m     79\u001b[0m     \u001b[1;32mif\u001b[0m \u001b[0my_true\u001b[0m\u001b[1;33m.\u001b[0m\u001b[0mndim\u001b[0m \u001b[1;33m==\u001b[0m \u001b[1;36m1\u001b[0m\u001b[1;33m:\u001b[0m\u001b[1;33m\u001b[0m\u001b[0m\n",
      "\u001b[1;32m~\\Anaconda3\\lib\\site-packages\\sklearn\\utils\\validation.py\u001b[0m in \u001b[0;36mcheck_array\u001b[1;34m(array, accept_sparse, dtype, order, copy, force_all_finite, ensure_2d, allow_nd, ensure_min_samples, ensure_min_features, warn_on_dtype, estimator)\u001b[0m\n\u001b[0;32m    451\u001b[0m                              % (array.ndim, estimator_name))\n\u001b[0;32m    452\u001b[0m         \u001b[1;32mif\u001b[0m \u001b[0mforce_all_finite\u001b[0m\u001b[1;33m:\u001b[0m\u001b[1;33m\u001b[0m\u001b[0m\n\u001b[1;32m--> 453\u001b[1;33m             \u001b[0m_assert_all_finite\u001b[0m\u001b[1;33m(\u001b[0m\u001b[0marray\u001b[0m\u001b[1;33m)\u001b[0m\u001b[1;33m\u001b[0m\u001b[0m\n\u001b[0m\u001b[0;32m    454\u001b[0m \u001b[1;33m\u001b[0m\u001b[0m\n\u001b[0;32m    455\u001b[0m     \u001b[0mshape_repr\u001b[0m \u001b[1;33m=\u001b[0m \u001b[0m_shape_repr\u001b[0m\u001b[1;33m(\u001b[0m\u001b[0marray\u001b[0m\u001b[1;33m.\u001b[0m\u001b[0mshape\u001b[0m\u001b[1;33m)\u001b[0m\u001b[1;33m\u001b[0m\u001b[0m\n",
      "\u001b[1;32m~\\Anaconda3\\lib\\site-packages\\sklearn\\utils\\validation.py\u001b[0m in \u001b[0;36m_assert_all_finite\u001b[1;34m(X)\u001b[0m\n\u001b[0;32m     42\u001b[0m             and not np.isfinite(X).all()):\n\u001b[0;32m     43\u001b[0m         raise ValueError(\"Input contains NaN, infinity\"\n\u001b[1;32m---> 44\u001b[1;33m                          \" or a value too large for %r.\" % X.dtype)\n\u001b[0m\u001b[0;32m     45\u001b[0m \u001b[1;33m\u001b[0m\u001b[0m\n\u001b[0;32m     46\u001b[0m \u001b[1;33m\u001b[0m\u001b[0m\n",
      "\u001b[1;31mValueError\u001b[0m: Input contains NaN, infinity or a value too large for dtype('float64')."
     ]
    }
   ],
   "source": [
    "# using Euler\n",
    "# prey and predators are float numbers\n",
    "\n",
    "# initial guesses\n",
    "\n",
    "# set the initial amount of prey and predators equal to those of the real data\n",
    "x = xValues[0] #amount of prey\n",
    "y = yValues[0] #amount of predators\n",
    "\n",
    "# assign a random number to the parameters in the range\n",
    "a = np.random.random()*5 #birth rate prey\n",
    "b = np.random.random()*5 #prey catch rate\n",
    "d = np.random.random()*5 #birth of predators per predator per prey\n",
    "c = np.random.random()*5 #death rate predators\n",
    "establishedParameters = [a,b,c,d]\n",
    "\n",
    "# assign the cooling schedule\n",
    "TMax = 10000\n",
    "TMin = 1\n",
    "temperatures = np.arange(TMax,TMin-1,-1)\n",
    "\n",
    "# assign a high number to the mean squared error \n",
    "#hoping the first random guess of the parameters will lead to acceptance\n",
    "mse = 999999999\n",
    "\n",
    "# simulating annealing\n",
    "for T in temperatures:\n",
    "    \n",
    "    #print(T)\n",
    "    \n",
    "    # set newParameters almost equal to establisedParameters\n",
    "    # changing only 1 using the function changeParameter\n",
    "    newParameters = changeParameter(establishedParameters)\n",
    "    \n",
    "    # calculate the amount of prey and predators for each time point indicated from data\n",
    "    # assume all time point lie at equal distance\n",
    "    xList = []\n",
    "    yList = []\n",
    "    \n",
    "    y0 = [3, 3]\n",
    "    \n",
    "    sol = odeint(pend, y0, times, args=tuple(newParameters))\n",
    "    \n",
    "    #determine mse of prey and predators\n",
    "    msePrey = detMSE(xValues, [el[0] for el in sol])\n",
    "    msePredators = detMSE(yValues, [el[0] for el in sol])\n",
    "    mseSum = msePrey + msePredators\n",
    "    \n",
    "    # if the new mean squared error is smaller than the old, \n",
    "    # accept newParameters as establisedParameters\n",
    "    # take the lower mean squared error as the new benchmark\n",
    "    if mseSum < mse:\n",
    "        print(newParameters)\n",
    "        establishedParameters = newParameters\n",
    "        mse = mseSum\n",
    "        \n",
    "    # if the new mean squared error is almost as small as the old,\n",
    "    # accept newParameters as establisedParameters \n",
    "    # take the lower mean squared error as the new benchmark\n",
    "    #elif (mseSum - mse)/T < np.random.random():\n",
    "        #establishedParameters = newParameters\n",
    "        #mse = mseSum  \n",
    "        \n",
    "print(\"end \", establishedParameters)"
   ]
  },
  {
   "cell_type": "code",
   "execution_count": null,
   "metadata": {},
   "outputs": [],
   "source": [
    "# determine the mean squared error\n",
    "print(detMSE(xValues,xList) + detMSE(yValues,yList))"
   ]
  },
  {
   "cell_type": "code",
   "execution_count": 21,
   "metadata": {},
   "outputs": [
    {
     "data": {
      "image/png": "[encoded data removed]",
      "text/plain": [
       "<Figure size 1080x360 with 1 Axes>"
      ]
     },
     "metadata": {},
     "output_type": "display_data"
    }
   ],
   "source": [
    "#print 'xList =', xList\n",
    "#print 'yList =', yList\n",
    "plt.figure(figsize=(15,5))\n",
    "plt.plot(times,xValues,'x', label = 'prey data', color = 'b')\n",
    "plt.plot(times,yValues,'x', label = 'predators data', color = 'r')\n",
    "plt.plot(times,xList,label = 'prey fit', color = 'b')\n",
    "plt.plot(times,yList, label = 'predators fit', color = 'r')\n",
    "plt.yscale(\"log\")\n",
    "plt.xlabel('time')\n",
    "plt.ylabel('n')\n",
    "plt.legend()\n",
    "plt.show()"
   ]
  },
  {
   "cell_type": "code",
   "execution_count": 72,
   "metadata": {},
   "outputs": [
    {
     "data": {
      "image/png": "[encoded data removed]",
      "text/plain": [
       "<Figure size 1080x360 with 1 Axes>"
      ]
     },
     "metadata": {},
     "output_type": "display_data"
    }
   ],
   "source": [
    "import numpy as np\n",
    "from scipy.integrate import odeint\n",
    "from scipy.spatial import distance\n",
    "import matplotlib.pyplot as plt\n",
    "\n",
    "def pend(f, t, a, b, c, d):\n",
    "    x, y = f\n",
    "    dfdt = [a*x - b*x*y, d*x*y - c*y]\n",
    "    return dfdt\n",
    "arr = [-5.9675538967234445, -6.900162295311295, 30.76471445139855, -7.830178541158306]\n",
    "a = arr[0]\n",
    "b = arr[1] \n",
    "c = arr[2]\n",
    "d = arr[3]\n",
    "\n",
    "y0 = [3, 3]\n",
    "t = np.linspace(0, 20, 201)\n",
    "\n",
    "sol = odeint(pend, y0, t, args=(a, b, c, d))\n",
    "\n",
    "plt.figure(figsize=(15,5))\n",
    "plt.plot(times,xValues,'x', label = 'prey data', color = 'b')\n",
    "plt.plot(times,yValues,'x', label = 'predators data', color = 'r')\n",
    "plt.plot(t, [el[0] for el in sol])\n",
    "plt.plot(t, [el[1] for el in sol])\n",
    "plt.show()\n"
   ]
  }
 ],
 "metadata": {
  "kernelspec": {
   "display_name": "Python 2",
   "language": "python",
   "name": "python2"
  },
  "language_info": {
   "codemirror_mode": {
    "name": "ipython",
    "version": 2
   },
   "file_extension": ".py",
   "mimetype": "text/x-python",
   "name": "python",
   "nbconvert_exporter": "python",
   "pygments_lexer": "ipython2",
   "version": "2.7.15"
  }
 },
 "nbformat": 4,
 "nbformat_minor": 2
}
