{
 "cells": [
  {
   "cell_type": "markdown",
   "metadata": {},
   "source": [
    "doubt on:\n",
    "the correct Metropolis step code\n",
    "\n",
    "work on:\n",
    "\n",
    "X cooling schedule (exponential decay)\n",
    "\n",
    "X odeint\n",
    "\n",
    "X accept 98% (only for present settings)\n",
    "\n",
    "determine right samplingspace\n",
    "\n",
    "X randomly change one or more variables\n",
    "\n",
    "\n",
    "Can we not get stuck in a local minimum by changing one parameter at a time? see picture '2dLocalMinima'\n",
    "\n",
    "Annealing temperature:\n",
    "\n",
    "A good rule of thumb is that your initial temperature Tmax should be set to accept roughly 98% of the moves \n",
    "and that the final temperature Tmin should be low enough that the solution does not improve much, if at all.\n",
    "\n",
    "The number of steps can influence the results; \n",
    "if there are not enough iterations to adequately explore the search space it can get trapped at a local minimum.\n",
    "\n",
    "steven said a samplingspace of 2 should work\n",
    "\n",
    "e^-verschil/T\n",
    "\n",
    "is el[0] goed?"
   ]
  },
  {
   "cell_type": "code",
   "execution_count": 2,
   "metadata": {},
   "outputs": [
    {
     "data": {
      "application/javascript": [
       "IPython.OutputArea.prototype._should_scroll = function(lines) {\n",
       "    return false;\n",
       "}\n",
       "// from https://stackoverflow.com/questions/36757301/disable-ipython-notebook-autoscrolling\n",
       "// disable scroll"
      ],
      "text/plain": [
       "<IPython.core.display.Javascript object>"
      ]
     },
     "metadata": {},
     "output_type": "display_data"
    }
   ],
   "source": [
    "%%javascript\n",
    "IPython.OutputArea.prototype._should_scroll = function(lines) {\n",
    "    return false;\n",
    "}\n",
    "// from https://stackoverflow.com/questions/36757301/disable-ipython-notebook-autoscrolling\n",
    "// disable scroll"
   ]
  },
  {
   "cell_type": "code",
   "execution_count": 17,
   "metadata": {},
   "outputs": [],
   "source": [
    "import matplotlib.pyplot as plt\n",
    "import pandas\n",
    "import numpy as np\n",
    "import math\n",
    "from scipy.integrate import solve_ivp\n",
    "from sklearn.metrics import mean_squared_error as detMSE\n",
    "from scipy.integrate import odeint\n",
    "#from scipy.spatial import distance"
   ]
  },
  {
   "cell_type": "code",
   "execution_count": 165,
   "metadata": {},
   "outputs": [],
   "source": [
    "# set temperatures\n",
    "def temperature(Tmax,t,amountOfTemperatures):\n",
    "    x = (math.log(1./Tmax))/amountOfTemperatures\n",
    "    T = Tmax * math.exp(t*x)\n",
    "    return T\n",
    "\"\"\"\n",
    "old:\n",
    "def temperature(TMax,time):\n",
    "    T = TMax * np.e**(-1./(TMax / 10.)*time)\n",
    "    return T\n",
    "\"\"\"\n",
    "\n",
    "# differential equation for prey\n",
    "def dx(alfa, x, beta, y):\n",
    "    dx = alfa * x - beta * x * y\n",
    "    return dx\n",
    "\n",
    "# differential equation for predators\n",
    "def dy(delta, x, y, gamma):\n",
    "    dy = delta * x * y - gamma * y\n",
    "    return dy\n",
    "\n",
    "# solving differential equations using Euler method\n",
    "def EulerSolveODE(x,y,parameters, times):\n",
    "    for month in times:\n",
    "        xList.append(x)\n",
    "        yList.append(y)    \n",
    "        x += dx(parameters[0], x, parameters[1], y)\n",
    "        y += dy(parameters[2], x, y, parameters[3]) \n",
    "\n",
    "# solving differential equations using scipy ode int         \n",
    "def pend(f, t, a, b, c, d):\n",
    "    x, y = f\n",
    "    dfdt = [a*x - b*x*y, d*x*y - c*y]\n",
    "    return dfdt        \n",
    "        \n",
    "# randomly change one of the parameters \n",
    "# all change at equal probability\n",
    "# the parameter is changed to a completely new number in the range\n",
    "def changeParameter(parameters, samplingSpace):\n",
    "    randomNumber = np.random.random()\n",
    "    if randomNumber < 1./4:\n",
    "        parameters[0] = np.random.random()*samplingSpace\n",
    "    elif randomNumber < 2./4:\n",
    "        parameters[1] = np.random.random()*samplingSpace\n",
    "    elif randomNumber < 3./4:\n",
    "        parameters[2] = np.random.random()*samplingSpace\n",
    "    else:\n",
    "        parameters[3] = np.random.random()*samplingSpace\n",
    "    return parameters\n",
    "\n",
    "# randomly change parameters, \n",
    "# with p = 1./2 for each parameter to be changed \n",
    "# the parameter is changed to a completely new number in the range\n",
    "def changeMultipleParameters(parameters, samplingSpace):\n",
    "    change = 0\n",
    "    while change == 0:\n",
    "        randomNumber = np.random.random()\n",
    "        if randomNumber < 1./2:\n",
    "            parameters[0] = np.random.random()*samplingSpace\n",
    "            change = 1\n",
    "        randomNumber = np.random.random()\n",
    "        if randomNumber < 1./2:\n",
    "            parameters[1] = np.random.random()*samplingSpace\n",
    "            change = 1\n",
    "        randomNumber = np.random.random()\n",
    "        if randomNumber < 1./2:\n",
    "            parameters[2] = np.random.random()*samplingSpace\n",
    "            change = 1\n",
    "        randomNumber = np.random.random()\n",
    "        if randomNumber < 1./2:\n",
    "            parameters[3] = np.random.random()*samplingSpace\n",
    "            change = 1\n",
    "    return parameters"
   ]
  },
  {
   "cell_type": "code",
   "execution_count": 19,
   "metadata": {},
   "outputs": [],
   "source": [
    "# import csv using pandas\n",
    "# create 3 data lists: time, prey and predators\n",
    "pandaFile = pandas.read_csv('predator-prey-data.csv')\n",
    "times = []\n",
    "xValues = []\n",
    "yValues = []\n",
    "for row in range(len(pandaFile['t'])):\n",
    "    time = pandaFile['t'][row]\n",
    "    x = pandaFile['x'][row]\n",
    "    y = pandaFile['y'][row]\n",
    "    times.append(time)\n",
    "    xValues.append(x)\n",
    "    yValues.append(y)"
   ]
  },
  {
   "cell_type": "code",
   "execution_count": 170,
   "metadata": {},
   "outputs": [],
   "source": [
    "def optimize_fit(Calculations,MarkovLength,Tolerant,Lowest,xValues,yValues,times):\n",
    "    \"\"\"\n",
    "    Find an optimal fit with multiple strategy options:\n",
    "    calculations: amount of fitting attempts to be made\n",
    "    MarkovLength: length of variables tried at the same temperature\n",
    "    Tolerant: accepts only better values or accepts also worse outcomes \n",
    "        (but becomes stricter as the temperature decreases)\n",
    "    Lowest: Pick either the alfa, beta, delta, gamma values delivering the lowest sum of squares,\n",
    "        or picking the last value in the markov chain to continue to the next chain\n",
    "    xValues: list of prey count\n",
    "    yValues: list of predator count\n",
    "    times: time points for which data exists\n",
    "    \"\"\"\n",
    "    # set the initial amount of prey and predators equal to those of the data\n",
    "    x = xValues[0] #amount of prey\n",
    "    y = yValues[0] #amount of predators\n",
    "\n",
    "    # set the sampling space from where to pick the parameters in the domain [0,samplingSpace]\n",
    "    samplingSpace = 10\n",
    "\n",
    "    # assign a random number to the parameters in the range\n",
    "    alfa = np.random.random()*samplingSpace #birth rate prey\n",
    "    beta = np.random.random()*samplingSpace #prey catch rate\n",
    "    delta = np.random.random()*samplingSpace #birth of predators per predator per prey\n",
    "    gamma = np.random.random()*samplingSpace #death rate predators\n",
    "    establishedParameters = [alfa,beta,delta,gamma]\n",
    "\n",
    "    # assign the cooling schedule\n",
    "    TMax = 40000\n",
    "    amountOfTemperatures = Calculations/MarkovLength # set the amount of temperatures such that calculation total remains equal\n",
    "    temperatures = []\n",
    "    for t in range(amountOfTemperatures):\n",
    "        T = temperature(TMax,t,amountOfTemperatures)\n",
    "        temperatures.append(T)    \n",
    "\n",
    "    # assign a high number to the mean squared error \n",
    "    #hoping the first random guess of the parameters will lead to acceptance\n",
    "    mse = 999999999\n",
    "\n",
    "    # track how often new values are assigned\n",
    "    trackAcceptance = 0\n",
    "    timeTracker = 0\n",
    "\n",
    "    # simulating annealing\n",
    "    temperatureTrack = [] # track the temperature for future plotting\n",
    "    for T in temperatures:\n",
    "        listParameters = [] # keep a list of parameters\n",
    "        listMSE = [] # and the score achieved with those parameters\n",
    "        for chainPosition in range(MarkovLength):\n",
    "            temperatureTrack.append(T)\n",
    "            listParameters.append(establishedParameters)\n",
    "            listMSE.append(mse)\n",
    "            \n",
    "            # set newParameters almost equal to establisedParameters\n",
    "            newParameters = changeMultipleParameters(establishedParameters, samplingSpace)\n",
    "            \n",
    "            # set the initial values of prey and predators equal to the data \n",
    "            y0 = [xValues[0], yValues[0]]\n",
    "            \n",
    "            # solve the ODE for the parameters chosen\n",
    "            sol = odeint(pend, y0, times, args=tuple(newParameters))\n",
    "            \n",
    "            #determine mse of prey and predators and add up\n",
    "            msePrey = detMSE(xValues, [el[0] for el in sol])\n",
    "            msePredators = detMSE(yValues, [el[1] for el in sol])\n",
    "            mseSum = msePrey + msePredators\n",
    "            \n",
    "            # use a time tracker to only record the acceptance in the first 1000\n",
    "            timeTracker += 1\n",
    "            \n",
    "            # if the new mean squared error is smaller than the old, \n",
    "            # accept newParameters as establisedParameters\n",
    "            # take the lower mean squared error as the new benchmark\n",
    "            if mseSum < mse:\n",
    "                establishedParameters = newParameters\n",
    "                mse = mseSum\n",
    "                #print mseSum - mse, 'is accepted'\n",
    "                if timeTracker < 1000:\n",
    "                    trackAcceptance += 1\n",
    "                    \n",
    "            # if the new mean squared error is almost as small as the old,\n",
    "            # accept newParameters as establisedParameters \n",
    "            # take the lower mean squared error as the new benchmark\n",
    "            elif math.exp(-(mseSum - mse)/T) > np.random.random() and Tolerant == 'T':\n",
    "                #print math.exp(-(mseSum - mse)/T) > np.random.random, (mseSum - mse)\n",
    "                #print 'Tolerant = T'\n",
    "                #print mseSum - mse, 'is accepted'\n",
    "                establishedParameters = newParameters\n",
    "                mse = mseSum \n",
    "                \n",
    "                if timeTracker < 1000:\n",
    "                    trackAcceptance += 1\n",
    "        \n",
    "        # choose the lowest parameters found in the Markov chain for the next temperature, or not\n",
    "        if Lowest == 'T':\n",
    "            #print 'Lowest = T'\n",
    "            PositionMinimalMSE = listMSE.index(min(listMSE))\n",
    "            establishedParameters = listParameters[PositionMinimalMSE]\n",
    "    \n",
    "    preyQuantity = [el[0] for el in sol]\n",
    "    predatorQuantity = [el[1] for el in sol]\n",
    "    return [establishedParameters, temperatureTrack, trackAcceptance, [preyQuantity,predatorQuantity],mse]"
   ]
  },
  {
   "cell_type": "code",
   "execution_count": 171,
   "metadata": {},
   "outputs": [
    {
     "name": "stdout",
     "output_type": "stream",
     "text": [
      "899\n"
     ]
    }
   ],
   "source": [
    "#establishedParameters, temperatureTrack, trackAcceptance, [xValues,yValues], sumOfSquares = \n",
    "#optimize_fit(Calculations,MarkovLength,Tolerant,Lowest,xValues,yValues)\n",
    "Calculations = 10000\n",
    "\n",
    "MarkovTolerantLowest = optimize_fit(Calculations,1000,'T','T',xValues,yValues)\n",
    "print MarkovTolerantLowest[2]\n",
    "#ContinuousTolerant = optimize_fit(Calculations,1,'T','F',xValues,yValues)\n",
    "#MarkovIntolerant = optimize_fit(Calculations,10,'F','F',xValues,yValues)"
   ]
  },
  {
   "cell_type": "code",
   "execution_count": 62,
   "metadata": {},
   "outputs": [
    {
     "data": {
      "image/png": "[encoded data removed]",
      "text/plain": [
       "<Figure size 432x288 with 1 Axes>"
      ]
     },
     "metadata": {
      "needs_background": "light"
     },
     "output_type": "display_data"
    }
   ],
   "source": [
    "# show the temperature shows exponential decay\n",
    "plt.plot(temperatureTrack)\n",
    "plt.show()"
   ]
  },
  {
   "cell_type": "code",
   "execution_count": 161,
   "metadata": {},
   "outputs": [
    {
     "data": {
      "image/png": "[encoded data removed]",
      "text/plain": [
       "<Figure size 1080x360 with 1 Axes>"
      ]
     },
     "metadata": {
      "needs_background": "light"
     },
     "output_type": "display_data"
    }
   ],
   "source": [
    "plt.figure(figsize=(15,5))\n",
    "\n",
    "# plot the data\n",
    "plt.plot(times,xValues,'x', label = 'prey data', color = 'b')\n",
    "plt.plot(times,yValues,'x', label = 'predators data', color = 'r')\n",
    "\n",
    "# plot various fitting options\n",
    "plt.plot(times,MarkovTolerantLowest[3][0],label = 'annealing prey fit',color = 'b')\n",
    "plt.plot(times,MarkovTolerantLowest[3][1],label = 'annealing predators fit',color = 'r')\n",
    "plt.plot(times,ContinuousTolerant[3][0],label = 'continuous annealing prey fit',ls='dashed',color = 'b')\n",
    "plt.plot(times,ContinuousTolerant[3][1],label = 'continuous annealing predators fit',ls='dashed',color = 'r')\n",
    "plt.plot(times,MarkovIntolerant[3][0],label = 'greedy prey fit',ls='dashdot',color = 'b')\n",
    "plt.plot(times,MarkovIntolerant[3][1],label = 'greedy predators fit',ls='dashdot',color = 'r')\n",
    "\n",
    "plt.yscale(\"log\")\n",
    "plt.xlabel('time')\n",
    "plt.ylabel('n')\n",
    "plt.legend()\n",
    "plt.show()"
   ]
  },
  {
   "cell_type": "code",
   "execution_count": null,
   "metadata": {},
   "outputs": [],
   "source": []
  }
 ],
 "metadata": {
  "kernelspec": {
   "display_name": "Python 2",
   "language": "python",
   "name": "python2"
  },
  "language_info": {
   "codemirror_mode": {
    "name": "ipython",
    "version": 2
   },
   "file_extension": ".py",
   "mimetype": "text/x-python",
   "name": "python",
   "nbconvert_exporter": "python",
   "pygments_lexer": "ipython2",
   "version": "2.7.15"
  }
 },
 "nbformat": 4,
 "nbformat_minor": 2
}
