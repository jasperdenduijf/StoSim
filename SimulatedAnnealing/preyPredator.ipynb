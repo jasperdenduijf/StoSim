{
 "cells": [
  {
   "cell_type": "code",
   "execution_count": 1,
   "metadata": {},
   "outputs": [
    {
     "data": {
      "application/javascript": [
       "IPython.OutputArea.prototype._should_scroll = function(lines) {\n",
       "    return false;\n",
       "}\n",
       "// from https://stackoverflow.com/questions/36757301/disable-ipython-notebook-autoscrolling\n",
       "// disable scroll"
      ],
      "text/plain": [
       "<IPython.core.display.Javascript object>"
      ]
     },
     "metadata": {},
     "output_type": "display_data"
    }
   ],
   "source": [
    "%%javascript\n",
    "IPython.OutputArea.prototype._should_scroll = function(lines) {\n",
    "    return false;\n",
    "}\n",
    "// from https://stackoverflow.com/questions/36757301/disable-ipython-notebook-autoscrolling\n",
    "// disable scroll"
   ]
  },
  {
   "cell_type": "code",
   "execution_count": 17,
   "metadata": {},
   "outputs": [],
   "source": [
    "import matplotlib.pyplot as plt\n",
    "import pandas\n",
    "import numpy as np\n",
    "from scipy.integrate import solve_ivp\n",
    "from sklearn.metrics import mean_squared_error"
   ]
  },
  {
   "cell_type": "code",
   "execution_count": 3,
   "metadata": {},
   "outputs": [],
   "source": [
    "def dx(alfa, x, beta, y):\n",
    "    dx = alfa * x - beta * x * y\n",
    "    return dx\n",
    "\n",
    "def dy(delta, x, y, gamma):\n",
    "    dy = delta * x * y - gamma * y\n",
    "    return dy"
   ]
  },
  {
   "cell_type": "code",
   "execution_count": 4,
   "metadata": {},
   "outputs": [],
   "source": [
    "# import csv using pandas\n",
    "pandaFile = pandas.read_csv('predator-prey-data.csv')\n",
    "times = []\n",
    "xValues = []\n",
    "yValues = []\n",
    "for row in range(len(pandaFile['t'])):\n",
    "    time = pandaFile['t'][row]\n",
    "    x = pandaFile['x'][row]\n",
    "    y = pandaFile['y'][row]\n",
    "    times.append(time)\n",
    "    xValues.append(x)\n",
    "    yValues.append(y)"
   ]
  },
  {
   "cell_type": "code",
   "execution_count": 15,
   "metadata": {},
   "outputs": [],
   "source": [
    "# using Euler\n",
    "# prey and predators are float numbers\n",
    "\n",
    "x = 10 #amount of prey\n",
    "y = 1 #amount of predators\n",
    "duration = 20 #amount of time simulated (in month?)\n",
    "alfa = 1./10 #birth rate prey\n",
    "beta = 1./1100 #prey catch rate\n",
    "delta = 1./100000 #birth of predators per predator per prey\n",
    "gamma = 1./100 #death rate predators\n",
    "\n",
    "xList = []\n",
    "yList = []\n",
    "for month in times:\n",
    "    xList.append(x)\n",
    "    yList.append(y)    \n",
    "    x += dx(alfa, x, beta, y)\n",
    "    y += dy(delta, x, y, gamma) "
   ]
  },
  {
   "cell_type": "code",
   "execution_count": 19,
   "metadata": {},
   "outputs": [
    {
     "name": "stdout",
     "output_type": "stream",
     "text": [
      "255441080.01873076\n"
     ]
    }
   ],
   "source": [
    "# determine the mean squared error\n",
    "print mean_squared_error(xValues,xList) + mean_squared_error(yValues,yList)"
   ]
  },
  {
   "cell_type": "code",
   "execution_count": 16,
   "metadata": {},
   "outputs": [
    {
     "data": {
      "image/png": "[encoded data removed]",
      "text/plain": [
       "<Figure size 1080x360 with 1 Axes>"
      ]
     },
     "metadata": {
      "needs_background": "light"
     },
     "output_type": "display_data"
    }
   ],
   "source": [
    "#print 'xList =', xList\n",
    "#print 'yList =', yList\n",
    "plt.figure(figsize=(15,5))\n",
    "plt.plot(times,xValues,'x', label = 'prey data', color = 'b')\n",
    "plt.plot(times,yValues,'x', label = 'predators data', color = 'r')\n",
    "plt.plot(times,xList,label = 'prey fit', color = 'b')\n",
    "plt.plot(times,yList, label = 'predators fit', color = 'r')\n",
    "plt.yscale(\"log\")\n",
    "plt.xlabel('time')\n",
    "plt.ylabel('n')\n",
    "plt.legend()\n",
    "plt.show()"
   ]
  },
  {
   "cell_type": "code",
   "execution_count": 7,
   "metadata": {},
   "outputs": [
    {
     "data": {
      "text/plain": [
       "'    \\n    x += int(dx(alfa, x, beta, y))\\n    y += int(dy(delta, x, y, gamma))\\n'"
      ]
     },
     "execution_count": 7,
     "metadata": {},
     "output_type": "execute_result"
    }
   ],
   "source": [
    "# using scipy ode int\n",
    "\n",
    "x = 3 #amount of prey\n",
    "y = 4 #amount of predators\n",
    "duration = 3 #amount of time simulated (in month?)\n",
    "alfa = 1 #birth rate prey\n",
    "beta = 2 #prey catch rate\n",
    "delta = 3 #birth of predators per predator per prey\n",
    "gamma = 4 #death rate predators\n",
    "\n",
    "xList = []\n",
    "yList = []\n",
    "for month in range(duration):\n",
    "    xList.append(x)\n",
    "    yList.append(y)\n",
    "    x += dx(alfa, x, beta, y)\n",
    "    y += dy(delta, x, y, gamma)\n",
    "\"\"\"    \n",
    "    x += int(dx(alfa, x, beta, y))\n",
    "    y += int(dy(delta, x, y, gamma))\n",
    "\"\"\"    "
   ]
  },
  {
   "cell_type": "code",
   "execution_count": 8,
   "metadata": {},
   "outputs": [
    {
     "data": {
      "text/plain": [
       "<function scipy.integrate._ivp.ivp.solve_ivp>"
      ]
     },
     "execution_count": 8,
     "metadata": {},
     "output_type": "execute_result"
    }
   ],
   "source": [
    "# using scipy solve ivp\n",
    "# HOW TO MAKE X AND Y INTERACT?\n",
    "\n",
    "x = 1000 #amount of prey\n",
    "y = 100 #amount of predators\n",
    "duration = 100 #amount of time simulated (in month?)\n",
    "alfa = 1./10 #birth rate prey\n",
    "beta = 1./1100 #prey catch rate\n",
    "delta = 1./100000 #birth of predators per predator per prey\n",
    "gamma = 1./100 #death rate predators\n",
    "\n",
    "solve_ivp"
   ]
  },
  {
   "cell_type": "code",
   "execution_count": null,
   "metadata": {},
   "outputs": [],
   "source": []
  }
 ],
 "metadata": {
  "kernelspec": {
   "display_name": "Python 2",
   "language": "python",
   "name": "python2"
  },
  "language_info": {
   "codemirror_mode": {
    "name": "ipython",
    "version": 2
   },
   "file_extension": ".py",
   "mimetype": "text/x-python",
   "name": "python",
   "nbconvert_exporter": "python",
   "pygments_lexer": "ipython2",
   "version": "2.7.15"
  }
 },
 "nbformat": 4,
 "nbformat_minor": 2
}
